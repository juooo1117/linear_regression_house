{
  "nbformat": 4,
  "nbformat_minor": 0,
  "metadata": {
    "colab": {
      "provenance": []
    },
    "kernelspec": {
      "name": "python3",
      "display_name": "Python 3"
    },
    "accelerator": "GPU"
  },
  "cells": [
    {
      "cell_type": "markdown",
      "metadata": {
        "id": "K4f4JG1gdKqj"
      },
      "source": [
        "#AutoEncoders"
      ]
    },
    {
      "cell_type": "code",
      "metadata": {
        "id": "rjOPzue7FCXJ",
        "outputId": "6ae08b7a-dc10-4423-8bdf-e7b78fd277b2",
        "colab": {
          "base_uri": "https://localhost:8080/"
        }
      },
      "source": [
        "!wget \"http://files.grouplens.org/datasets/movielens/ml-100k.zip\"\n",
        "!unzip ml-100k.zip\n",
        "!ls"
      ],
      "execution_count": 1,
      "outputs": [
        {
          "output_type": "stream",
          "name": "stdout",
          "text": [
            "--2023-12-17 05:52:42--  http://files.grouplens.org/datasets/movielens/ml-100k.zip\n",
            "Resolving files.grouplens.org (files.grouplens.org)... 128.101.65.152\n",
            "Connecting to files.grouplens.org (files.grouplens.org)|128.101.65.152|:80... connected.\n",
            "HTTP request sent, awaiting response... 200 OK\n",
            "Length: 4924029 (4.7M) [application/zip]\n",
            "Saving to: ‘ml-100k.zip’\n",
            "\n",
            "ml-100k.zip         100%[===================>]   4.70M  2.84MB/s    in 1.7s    \n",
            "\n",
            "2023-12-17 05:52:45 (2.84 MB/s) - ‘ml-100k.zip’ saved [4924029/4924029]\n",
            "\n",
            "Archive:  ml-100k.zip\n",
            "   creating: ml-100k/\n",
            "  inflating: ml-100k/allbut.pl       \n",
            "  inflating: ml-100k/mku.sh          \n",
            "  inflating: ml-100k/README          \n",
            "  inflating: ml-100k/u.data          \n",
            "  inflating: ml-100k/u.genre         \n",
            "  inflating: ml-100k/u.info          \n",
            "  inflating: ml-100k/u.item          \n",
            "  inflating: ml-100k/u.occupation    \n",
            "  inflating: ml-100k/u.user          \n",
            "  inflating: ml-100k/u1.base         \n",
            "  inflating: ml-100k/u1.test         \n",
            "  inflating: ml-100k/u2.base         \n",
            "  inflating: ml-100k/u2.test         \n",
            "  inflating: ml-100k/u3.base         \n",
            "  inflating: ml-100k/u3.test         \n",
            "  inflating: ml-100k/u4.base         \n",
            "  inflating: ml-100k/u4.test         \n",
            "  inflating: ml-100k/u5.base         \n",
            "  inflating: ml-100k/u5.test         \n",
            "  inflating: ml-100k/ua.base         \n",
            "  inflating: ml-100k/ua.test         \n",
            "  inflating: ml-100k/ub.base         \n",
            "  inflating: ml-100k/ub.test         \n",
            "ml-100k  ml-100k.zip  sample_data\n"
          ]
        }
      ]
    },
    {
      "cell_type": "code",
      "metadata": {
        "id": "LOly1yfAfTjd",
        "outputId": "ed94378d-322e-47ab-e4c4-de6fc5e3149f",
        "colab": {
          "base_uri": "https://localhost:8080/"
        }
      },
      "source": [
        "!wget \"http://files.grouplens.org/datasets/movielens/ml-1m.zip\"\n",
        "!unzip ml-1m.zip\n",
        "!ls"
      ],
      "execution_count": 2,
      "outputs": [
        {
          "output_type": "stream",
          "name": "stdout",
          "text": [
            "--2023-12-17 05:52:45--  http://files.grouplens.org/datasets/movielens/ml-1m.zip\n",
            "Resolving files.grouplens.org (files.grouplens.org)... 128.101.65.152\n",
            "Connecting to files.grouplens.org (files.grouplens.org)|128.101.65.152|:80... connected.\n",
            "HTTP request sent, awaiting response... 200 OK\n",
            "Length: 5917549 (5.6M) [application/zip]\n",
            "Saving to: ‘ml-1m.zip’\n",
            "\n",
            "ml-1m.zip           100%[===================>]   5.64M  3.39MB/s    in 1.7s    \n",
            "\n",
            "2023-12-17 05:52:47 (3.39 MB/s) - ‘ml-1m.zip’ saved [5917549/5917549]\n",
            "\n",
            "Archive:  ml-1m.zip\n",
            "   creating: ml-1m/\n",
            "  inflating: ml-1m/movies.dat        \n",
            "  inflating: ml-1m/ratings.dat       \n",
            "  inflating: ml-1m/README            \n",
            "  inflating: ml-1m/users.dat         \n",
            "ml-100k  ml-100k.zip  ml-1m  ml-1m.zip\tsample_data\n"
          ]
        }
      ]
    },
    {
      "cell_type": "code",
      "metadata": {
        "id": "_LvGeU1CeCtg"
      },
      "source": [
        "import numpy as np\n",
        "import pandas as pd\n",
        "import torch\n",
        "import torch.nn as nn\n",
        "import torch.nn.parallel\n",
        "import torch.optim as optim\n",
        "import torch.utils.data\n",
        "from torch.autograd import Variable"
      ],
      "execution_count": 3,
      "outputs": []
    },
    {
      "cell_type": "markdown",
      "metadata": {
        "id": "pM04FyMudkoK"
      },
      "source": [
        "## Importing the dataset\n"
      ]
    },
    {
      "cell_type": "code",
      "metadata": {
        "id": "UJw2p3-Cewo4"
      },
      "source": [
        "movies = pd.read_csv('ml-1m/movies.dat', sep = '::', header = None, engine = 'python', encoding = 'latin-1')\n",
        "users = pd.read_csv('ml-1m/users.dat', sep = '::', header = None, engine = 'python', encoding = 'latin-1')\n",
        "ratings = pd.read_csv('ml-1m/ratings.dat', sep = '::', header = None, engine = 'python', encoding = 'latin-1')"
      ],
      "execution_count": 4,
      "outputs": []
    },
    {
      "cell_type": "markdown",
      "metadata": {
        "id": "yTIbE2tkdkwP"
      },
      "source": [
        "## Preparing the training set and the test set\n"
      ]
    },
    {
      "cell_type": "code",
      "metadata": {
        "id": "2usLKJBEgPE2"
      },
      "source": [
        "training_set = pd.read_csv('ml-100k/u1.base', delimiter = '\\t')\n",
        "training_set = np.array(training_set, dtype = 'int')\n",
        "test_set = pd.read_csv('ml-100k/u1.test', delimiter = '\\t')\n",
        "test_set = np.array(test_set, dtype = 'int')"
      ],
      "execution_count": 5,
      "outputs": []
    },
    {
      "cell_type": "markdown",
      "metadata": {
        "id": "zCf8HjSydk4s"
      },
      "source": [
        "## Getting the number of users and movies\n"
      ]
    },
    {
      "cell_type": "code",
      "metadata": {
        "id": "gPaGZqdniC5m"
      },
      "source": [
        "nb_users = int(max(max(training_set[:, 0], ), max(test_set[:, 0])))\n",
        "nb_movies = int(max(max(training_set[:, 1], ), max(test_set[:, 1])))"
      ],
      "execution_count": 6,
      "outputs": []
    },
    {
      "cell_type": "markdown",
      "metadata": {
        "id": "J-w4-hVidlAm"
      },
      "source": [
        "## Converting the data into an array with users in lines and movies in columns\n"
      ]
    },
    {
      "cell_type": "code",
      "metadata": {
        "id": "-wASs2YFiDaa"
      },
      "source": [
        "def convert(data):\n",
        "  new_data = []\n",
        "\n",
        "  for id_users in range(1, nb_users + 1):\n",
        "    id_movies = data[:, 1] [data[:, 0] == id_users]\n",
        "    id_ratings = data[:, 2] [data[:, 0] == id_users]\n",
        "\n",
        "    ratings = np.zeros(nb_movies)\n",
        "    ratings[id_movies - 1] = id_ratings\n",
        "    new_data.append(list(ratings))\n",
        "\n",
        "  return new_data\n",
        "\n",
        "training_set = convert(training_set)\n",
        "test_set = convert(test_set)"
      ],
      "execution_count": 7,
      "outputs": []
    },
    {
      "cell_type": "markdown",
      "metadata": {
        "id": "AMmhuUpldlHo"
      },
      "source": [
        "## Converting the data into Torch tensors\n"
      ]
    },
    {
      "cell_type": "code",
      "metadata": {
        "id": "TwD-KD8yiEEw"
      },
      "source": [
        "training_set = torch.FloatTensor(training_set)\n",
        "test_set = torch.FloatTensor(test_set)"
      ],
      "execution_count": 8,
      "outputs": []
    },
    {
      "cell_type": "markdown",
      "metadata": {
        "id": "6kkL8NkkdlZj"
      },
      "source": [
        "## Creating the architecture of the Neural Network\n"
      ]
    },
    {
      "cell_type": "code",
      "metadata": {
        "id": "oU2nyh76iE6M"
      },
      "source": [
        "# stack형 auto encoder define\n",
        "class SAE(nn.Module):\n",
        "    # initialize\n",
        "    def __init__(self, ):\n",
        "        super(SAE, self).__init__()\n",
        "\n",
        "        self.fc1 = nn.Linear(nb_movies, 20)  # nb_movies: input features(영화의 개수)\n",
        "        self.fc2 = nn.Linear(20, 10)         # 1st hidden layer(20개의 nodes)\n",
        "        self.fc3 = nn.Linear(10, 20)         # 2nd hidden layer(10개의 nodes)\n",
        "        self.fc4 = nn.Linear(20, nb_movies)\n",
        "        self.activation = nn.Sigmoid()\n",
        "\n",
        "    def forward(self, x):\n",
        "        x = self.activation(self.fc1(x))     # x: 1st hidden layer의 vector\n",
        "        x = self.activation(self.fc2(x))     # 20개의 vector를 encoding해서 10개로 짧게 만듦\n",
        "        x = self.activation(self.fc3(x))     # decoding\n",
        "        x = self.fc4(x)                      # decoding의 최종단계\n",
        "        return x\n",
        "\n",
        "sae = SAE()\n",
        "criterion = nn.MSELoss()                     # criterion: class의 객체가 존재함\n",
        "optimizer = optim.RMSprop(sae.parameters(),\n",
        "                          lr = 0.01,\n",
        "                          weight_decay = 0.5)"
      ],
      "execution_count": 9,
      "outputs": []
    },
    {
      "cell_type": "markdown",
      "metadata": {
        "id": "7gy59alAdloL"
      },
      "source": [
        "## Training the SAE\n"
      ]
    },
    {
      "cell_type": "code",
      "metadata": {
        "id": "FEz9hRaciFTs",
        "outputId": "4429a79c-5617-49b6-80a0-f2115b8fbbe7",
        "colab": {
          "base_uri": "https://localhost:8080/"
        }
      },
      "source": [
        "nb_epoch = 200\n",
        "for epoch in range(1, nb_epoch + 1):\n",
        "  train_loss = 0\n",
        "  s = 0.\n",
        "\n",
        "  for id_user in range(nb_users):\n",
        "    input = Variable(training_set[id_user]).unsqueeze(0)\n",
        "    target = input.clone()                  # input을 복사하기 위해서\n",
        "\n",
        "    if torch.sum(target.data > 0) > 0:      # target.data: 평점\n",
        "      output = sae(input)\n",
        "      target.require_grad = False\n",
        "\n",
        "      output[target == 0] = 0\n",
        "      loss = criterion(output, target)\n",
        "      mean_corrector = nb_movies/float(torch.sum(target.data > 0) + 1e-10)\n",
        "      loss.backward()\n",
        "      train_loss += np.sqrt(loss.data*mean_corrector)\n",
        "      s += 1.\n",
        "      optimizer.step()\n",
        "\n",
        "  print('epoch: '+str(epoch)+'loss: '+ str(train_loss/s))"
      ],
      "execution_count": 10,
      "outputs": [
        {
          "output_type": "stream",
          "name": "stdout",
          "text": [
            "epoch: 1loss: tensor(1.7712)\n",
            "epoch: 2loss: tensor(1.0967)\n",
            "epoch: 3loss: tensor(1.0535)\n",
            "epoch: 4loss: tensor(1.0384)\n",
            "epoch: 5loss: tensor(1.0309)\n",
            "epoch: 6loss: tensor(1.0266)\n",
            "epoch: 7loss: tensor(1.0240)\n",
            "epoch: 8loss: tensor(1.0219)\n",
            "epoch: 9loss: tensor(1.0208)\n",
            "epoch: 10loss: tensor(1.0196)\n",
            "epoch: 11loss: tensor(1.0189)\n",
            "epoch: 12loss: tensor(1.0183)\n",
            "epoch: 13loss: tensor(1.0180)\n",
            "epoch: 14loss: tensor(1.0174)\n",
            "epoch: 15loss: tensor(1.0172)\n",
            "epoch: 16loss: tensor(1.0170)\n",
            "epoch: 17loss: tensor(1.0166)\n",
            "epoch: 18loss: tensor(1.0165)\n",
            "epoch: 19loss: tensor(1.0164)\n",
            "epoch: 20loss: tensor(1.0161)\n",
            "epoch: 21loss: tensor(1.0162)\n",
            "epoch: 22loss: tensor(1.0161)\n",
            "epoch: 23loss: tensor(1.0160)\n",
            "epoch: 24loss: tensor(1.0159)\n",
            "epoch: 25loss: tensor(1.0159)\n",
            "epoch: 26loss: tensor(1.0157)\n",
            "epoch: 27loss: tensor(1.0152)\n",
            "epoch: 28loss: tensor(1.0150)\n",
            "epoch: 29loss: tensor(1.0129)\n",
            "epoch: 30loss: tensor(1.0117)\n",
            "epoch: 31loss: tensor(1.0097)\n",
            "epoch: 32loss: tensor(1.0098)\n",
            "epoch: 33loss: tensor(1.0057)\n",
            "epoch: 34loss: tensor(1.0065)\n",
            "epoch: 35loss: tensor(1.0014)\n",
            "epoch: 36loss: tensor(1.0001)\n",
            "epoch: 37loss: tensor(0.9976)\n",
            "epoch: 38loss: tensor(0.9962)\n",
            "epoch: 39loss: tensor(0.9925)\n",
            "epoch: 40loss: tensor(0.9921)\n",
            "epoch: 41loss: tensor(0.9873)\n",
            "epoch: 42loss: tensor(0.9909)\n",
            "epoch: 43loss: tensor(0.9886)\n",
            "epoch: 44loss: tensor(0.9906)\n",
            "epoch: 45loss: tensor(0.9825)\n",
            "epoch: 46loss: tensor(0.9840)\n",
            "epoch: 47loss: tensor(0.9817)\n",
            "epoch: 48loss: tensor(0.9826)\n",
            "epoch: 49loss: tensor(0.9804)\n",
            "epoch: 50loss: tensor(0.9845)\n",
            "epoch: 51loss: tensor(0.9858)\n",
            "epoch: 52loss: tensor(0.9809)\n",
            "epoch: 53loss: tensor(0.9775)\n",
            "epoch: 54loss: tensor(0.9766)\n",
            "epoch: 55loss: tensor(0.9698)\n",
            "epoch: 56loss: tensor(0.9739)\n",
            "epoch: 57loss: tensor(0.9720)\n",
            "epoch: 58loss: tensor(0.9677)\n",
            "epoch: 59loss: tensor(0.9679)\n",
            "epoch: 60loss: tensor(0.9645)\n",
            "epoch: 61loss: tensor(0.9636)\n",
            "epoch: 62loss: tensor(0.9667)\n",
            "epoch: 63loss: tensor(0.9632)\n",
            "epoch: 64loss: tensor(0.9613)\n",
            "epoch: 65loss: tensor(0.9591)\n",
            "epoch: 66loss: tensor(0.9601)\n",
            "epoch: 67loss: tensor(0.9601)\n",
            "epoch: 68loss: tensor(0.9607)\n",
            "epoch: 69loss: tensor(0.9575)\n",
            "epoch: 70loss: tensor(0.9586)\n",
            "epoch: 71loss: tensor(0.9568)\n",
            "epoch: 72loss: tensor(0.9572)\n",
            "epoch: 73loss: tensor(0.9555)\n",
            "epoch: 74loss: tensor(0.9556)\n",
            "epoch: 75loss: tensor(0.9533)\n",
            "epoch: 76loss: tensor(0.9552)\n",
            "epoch: 77loss: tensor(0.9542)\n",
            "epoch: 78loss: tensor(0.9537)\n",
            "epoch: 79loss: tensor(0.9579)\n",
            "epoch: 80loss: tensor(0.9609)\n",
            "epoch: 81loss: tensor(0.9572)\n",
            "epoch: 82loss: tensor(0.9577)\n",
            "epoch: 83loss: tensor(0.9536)\n",
            "epoch: 84loss: tensor(0.9540)\n",
            "epoch: 85loss: tensor(0.9514)\n",
            "epoch: 86loss: tensor(0.9543)\n",
            "epoch: 87loss: tensor(0.9512)\n",
            "epoch: 88loss: tensor(0.9512)\n",
            "epoch: 89loss: tensor(0.9480)\n",
            "epoch: 90loss: tensor(0.9501)\n",
            "epoch: 91loss: tensor(0.9548)\n",
            "epoch: 92loss: tensor(0.9531)\n",
            "epoch: 93loss: tensor(0.9534)\n",
            "epoch: 94loss: tensor(0.9536)\n",
            "epoch: 95loss: tensor(0.9490)\n",
            "epoch: 96loss: tensor(0.9483)\n",
            "epoch: 97loss: tensor(0.9470)\n",
            "epoch: 98loss: tensor(0.9473)\n",
            "epoch: 99loss: tensor(0.9475)\n",
            "epoch: 100loss: tensor(0.9479)\n",
            "epoch: 101loss: tensor(0.9462)\n",
            "epoch: 102loss: tensor(0.9459)\n",
            "epoch: 103loss: tensor(0.9452)\n",
            "epoch: 104loss: tensor(0.9438)\n",
            "epoch: 105loss: tensor(0.9428)\n",
            "epoch: 106loss: tensor(0.9442)\n",
            "epoch: 107loss: tensor(0.9438)\n",
            "epoch: 108loss: tensor(0.9420)\n",
            "epoch: 109loss: tensor(0.9406)\n",
            "epoch: 110loss: tensor(0.9418)\n",
            "epoch: 111loss: tensor(0.9398)\n",
            "epoch: 112loss: tensor(0.9401)\n",
            "epoch: 113loss: tensor(0.9381)\n",
            "epoch: 114loss: tensor(0.9380)\n",
            "epoch: 115loss: tensor(0.9399)\n",
            "epoch: 116loss: tensor(0.9367)\n",
            "epoch: 117loss: tensor(0.9362)\n",
            "epoch: 118loss: tensor(0.9367)\n",
            "epoch: 119loss: tensor(0.9358)\n",
            "epoch: 120loss: tensor(0.9365)\n",
            "epoch: 121loss: tensor(0.9363)\n",
            "epoch: 122loss: tensor(0.9356)\n",
            "epoch: 123loss: tensor(0.9347)\n",
            "epoch: 124loss: tensor(0.9342)\n",
            "epoch: 125loss: tensor(0.9337)\n",
            "epoch: 126loss: tensor(0.9338)\n",
            "epoch: 127loss: tensor(0.9328)\n",
            "epoch: 128loss: tensor(0.9334)\n",
            "epoch: 129loss: tensor(0.9318)\n",
            "epoch: 130loss: tensor(0.9329)\n",
            "epoch: 131loss: tensor(0.9313)\n",
            "epoch: 132loss: tensor(0.9322)\n",
            "epoch: 133loss: tensor(0.9306)\n",
            "epoch: 134loss: tensor(0.9313)\n",
            "epoch: 135loss: tensor(0.9304)\n",
            "epoch: 136loss: tensor(0.9305)\n",
            "epoch: 137loss: tensor(0.9294)\n",
            "epoch: 138loss: tensor(0.9293)\n",
            "epoch: 139loss: tensor(0.9286)\n",
            "epoch: 140loss: tensor(0.9293)\n",
            "epoch: 141loss: tensor(0.9277)\n",
            "epoch: 142loss: tensor(0.9289)\n",
            "epoch: 143loss: tensor(0.9272)\n",
            "epoch: 144loss: tensor(0.9282)\n",
            "epoch: 145loss: tensor(0.9270)\n",
            "epoch: 146loss: tensor(0.9273)\n",
            "epoch: 147loss: tensor(0.9261)\n",
            "epoch: 148loss: tensor(0.9265)\n",
            "epoch: 149loss: tensor(0.9253)\n",
            "epoch: 150loss: tensor(0.9264)\n",
            "epoch: 151loss: tensor(0.9256)\n",
            "epoch: 152loss: tensor(0.9255)\n",
            "epoch: 153loss: tensor(0.9249)\n",
            "epoch: 154loss: tensor(0.9252)\n",
            "epoch: 155loss: tensor(0.9249)\n",
            "epoch: 156loss: tensor(0.9252)\n",
            "epoch: 157loss: tensor(0.9239)\n",
            "epoch: 158loss: tensor(0.9242)\n",
            "epoch: 159loss: tensor(0.9234)\n",
            "epoch: 160loss: tensor(0.9237)\n",
            "epoch: 161loss: tensor(0.9229)\n",
            "epoch: 162loss: tensor(0.9234)\n",
            "epoch: 163loss: tensor(0.9226)\n",
            "epoch: 164loss: tensor(0.9232)\n",
            "epoch: 165loss: tensor(0.9227)\n",
            "epoch: 166loss: tensor(0.9226)\n",
            "epoch: 167loss: tensor(0.9221)\n",
            "epoch: 168loss: tensor(0.9225)\n",
            "epoch: 169loss: tensor(0.9216)\n",
            "epoch: 170loss: tensor(0.9218)\n",
            "epoch: 171loss: tensor(0.9214)\n",
            "epoch: 172loss: tensor(0.9219)\n",
            "epoch: 173loss: tensor(0.9215)\n",
            "epoch: 174loss: tensor(0.9215)\n",
            "epoch: 175loss: tensor(0.9207)\n",
            "epoch: 176loss: tensor(0.9210)\n",
            "epoch: 177loss: tensor(0.9203)\n",
            "epoch: 178loss: tensor(0.9217)\n",
            "epoch: 179loss: tensor(0.9205)\n",
            "epoch: 180loss: tensor(0.9205)\n",
            "epoch: 181loss: tensor(0.9196)\n",
            "epoch: 182loss: tensor(0.9206)\n",
            "epoch: 183loss: tensor(0.9197)\n",
            "epoch: 184loss: tensor(0.9198)\n",
            "epoch: 185loss: tensor(0.9195)\n",
            "epoch: 186loss: tensor(0.9198)\n",
            "epoch: 187loss: tensor(0.9189)\n",
            "epoch: 188loss: tensor(0.9197)\n",
            "epoch: 189loss: tensor(0.9192)\n",
            "epoch: 190loss: tensor(0.9189)\n",
            "epoch: 191loss: tensor(0.9182)\n",
            "epoch: 192loss: tensor(0.9186)\n",
            "epoch: 193loss: tensor(0.9182)\n",
            "epoch: 194loss: tensor(0.9182)\n",
            "epoch: 195loss: tensor(0.9177)\n",
            "epoch: 196loss: tensor(0.9180)\n",
            "epoch: 197loss: tensor(0.9175)\n",
            "epoch: 198loss: tensor(0.9176)\n",
            "epoch: 199loss: tensor(0.9170)\n",
            "epoch: 200loss: tensor(0.9168)\n"
          ]
        }
      ]
    },
    {
      "cell_type": "markdown",
      "metadata": {
        "id": "Bak5uc8gd-gX"
      },
      "source": [
        "## Testing the SAE\n"
      ]
    },
    {
      "cell_type": "code",
      "metadata": {
        "id": "5ztvzYRtiGCz",
        "outputId": "adf4a203-ea91-4dca-9edd-a89be4182584",
        "colab": {
          "base_uri": "https://localhost:8080/"
        }
      },
      "source": [
        "test_loss = 0\n",
        "s = 0.\n",
        "for id_user in range(nb_users):\n",
        "  input = Variable(training_set[id_user]).unsqueeze(0)\n",
        "  target = Variable(test_set[id_user]).unsqueeze(0)\n",
        "\n",
        "  if torch.sum(target.data > 0) > 0:\n",
        "    output = sae(input)\n",
        "    target.require_grad = False\n",
        "\n",
        "    output[target == 0] = 0\n",
        "    loss = criterion(output, target)\n",
        "    mean_corrector = nb_movies/float(torch.sum(target.data > 0) + 1e-10)\n",
        "    test_loss += np.sqrt(loss.data*mean_corrector)\n",
        "    s += 1.\n",
        "\n",
        "print('test loss: '+str(test_loss/s))"
      ],
      "execution_count": 11,
      "outputs": [
        {
          "output_type": "stream",
          "name": "stdout",
          "text": [
            "test loss: tensor(0.9594)\n"
          ]
        }
      ]
    }
  ]
}