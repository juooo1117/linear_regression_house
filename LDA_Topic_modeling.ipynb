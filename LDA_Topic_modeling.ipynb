{
 "cells": [
  {
   "cell_type": "markdown",
   "id": "513f59de-65c2-4030-ab34-190c150000a2",
   "metadata": {},
   "source": [
    "# Topic model"
   ]
  },
  {
   "cell_type": "code",
   "execution_count": 7,
   "id": "b78f8b80-895c-4b57-b1f8-7791ef5dcd2d",
   "metadata": {},
   "outputs": [],
   "source": [
    "from nltk.tokenize import RegexpTokenizer\n",
    "from stop_words import get_stop_words\n",
    "from nltk.stem.porter import PorterStemmer    # stemmer : 어간추출기\n",
    "from gensim import corpora, models\n",
    "\n",
    "import gensim          # LDA Model\n",
    "import pandas as pd\n",
    "import string"
   ]
  },
  {
   "cell_type": "markdown",
   "id": "b2a550bf-ed04-4182-97ad-7c7bff1bba13",
   "metadata": {},
   "source": [
    "#  Data Loading & pre-processing"
   ]
  },
  {
   "cell_type": "code",
   "execution_count": 8,
   "id": "93dc02bf-33f2-4061-abd9-eba43a4ea551",
   "metadata": {},
   "outputs": [],
   "source": [
    "# define a few documents \n",
    "doc1 = \"Sugar is bad to consume. My sister likes to have sugar, but not my father.\" \n",
    "doc2 = \"My father spends a lot of time driving my sister around to dance practice.\" \n",
    "doc3 = \"Doctors suggest that driving may cause increased stress and blood pressure.\" \n",
    "doc4 = \"Sometimes I feel pressure to perform well at school, but my father never seems to drive my sister to do better.\" \n",
    "doc5 = \"Health experts say that Sugar is not good for your lifestyle.\""
   ]
  },
  {
   "cell_type": "code",
   "execution_count": 9,
   "id": "9aac2d00-4f90-4825-9086-b29dee7c3d7d",
   "metadata": {},
   "outputs": [],
   "source": [
    "df = pd.DataFrame({'id' : ['doc1','doc2','doc3','doc4','doc5'],\n",
    "                   'contents' : [doc1, doc2, doc3, doc4, doc5]})"
   ]
  },
  {
   "cell_type": "code",
   "execution_count": 10,
   "id": "1bd0971c-b676-47fe-a421-f1bb5c257fac",
   "metadata": {},
   "outputs": [
    {
     "data": {
      "text/html": [
       "<div>\n",
       "<style scoped>\n",
       "    .dataframe tbody tr th:only-of-type {\n",
       "        vertical-align: middle;\n",
       "    }\n",
       "\n",
       "    .dataframe tbody tr th {\n",
       "        vertical-align: top;\n",
       "    }\n",
       "\n",
       "    .dataframe thead th {\n",
       "        text-align: right;\n",
       "    }\n",
       "</style>\n",
       "<table border=\"1\" class=\"dataframe\">\n",
       "  <thead>\n",
       "    <tr style=\"text-align: right;\">\n",
       "      <th></th>\n",
       "      <th>id</th>\n",
       "      <th>contents</th>\n",
       "    </tr>\n",
       "  </thead>\n",
       "  <tbody>\n",
       "    <tr>\n",
       "      <th>0</th>\n",
       "      <td>doc1</td>\n",
       "      <td>Sugar is bad to consume. My sister likes to ha...</td>\n",
       "    </tr>\n",
       "    <tr>\n",
       "      <th>1</th>\n",
       "      <td>doc2</td>\n",
       "      <td>My father spends a lot of time driving my sist...</td>\n",
       "    </tr>\n",
       "    <tr>\n",
       "      <th>2</th>\n",
       "      <td>doc3</td>\n",
       "      <td>Doctors suggest that driving may cause increas...</td>\n",
       "    </tr>\n",
       "    <tr>\n",
       "      <th>3</th>\n",
       "      <td>doc4</td>\n",
       "      <td>Sometimes I feel pressure to perform well at s...</td>\n",
       "    </tr>\n",
       "    <tr>\n",
       "      <th>4</th>\n",
       "      <td>doc5</td>\n",
       "      <td>Health experts say that Sugar is not good for ...</td>\n",
       "    </tr>\n",
       "  </tbody>\n",
       "</table>\n",
       "</div>"
      ],
      "text/plain": [
       "     id                                           contents\n",
       "0  doc1  Sugar is bad to consume. My sister likes to ha...\n",
       "1  doc2  My father spends a lot of time driving my sist...\n",
       "2  doc3  Doctors suggest that driving may cause increas...\n",
       "3  doc4  Sometimes I feel pressure to perform well at s...\n",
       "4  doc5  Health experts say that Sugar is not good for ..."
      ]
     },
     "execution_count": 10,
     "metadata": {},
     "output_type": "execute_result"
    }
   ],
   "source": [
    "df.head(5)"
   ]
  },
  {
   "cell_type": "code",
   "execution_count": 13,
   "id": "7df72c95-d0b9-49a6-a705-4f4b88670de6",
   "metadata": {},
   "outputs": [
    {
     "data": {
      "text/plain": [
       "['Sugar is bad to consume. My sister likes to have sugar, but not my father.',\n",
       " 'My father spends a lot of time driving my sister around to dance practice.',\n",
       " 'Doctors suggest that driving may cause increased stress and blood pressure.',\n",
       " 'Sometimes I feel pressure to perform well at school, but my father never seems to drive my sister to do better.',\n",
       " 'Health experts say that Sugar is not good for your lifestyle.']"
      ]
     },
     "execution_count": 13,
     "metadata": {},
     "output_type": "execute_result"
    }
   ],
   "source": [
    "docs = list(df['contents'])\n",
    "docs"
   ]
  },
  {
   "cell_type": "code",
   "execution_count": 20,
   "id": "a7ac29d1-b565-4ae5-99f7-4712d2aee82b",
   "metadata": {},
   "outputs": [
    {
     "name": "stdout",
     "output_type": "stream",
     "text": [
      "['sugar', 'bad', 'consume', 'sister', 'likes', 'sugar', 'father']\n",
      "['father', 'spends', 'lot', 'time', 'driving', 'sister', 'around', 'dance', 'practice']\n",
      "['doctors', 'suggest', 'driving', 'may', 'cause', 'increased', 'stress', 'blood', 'pressure']\n",
      "['sometimes', 'feel', 'pressure', 'perform', 'well', 'school', 'father', 'never', 'seems', 'drive', 'sister', 'better']\n",
      "['health', 'experts', 'say', 'sugar', 'good', 'lifestyle']\n"
     ]
    }
   ],
   "source": [
    "# docs안의 문서를 읽어서 전처리 후 다시 저장\n",
    "tokenizer = RegexpTokenizer(r'\\w+')   # sentence -> word (space를 만나면 tokenize)\n",
    "stop = get_stop_words('en')           # english stopwords list\n",
    "stemmer = PorterStemmer()             # 전처리 후 문서저장\n",
    "texts = []\n",
    "\n",
    "for d in docs:\n",
    "    if(d):\n",
    "        raw = d.lower()     # 소문자화\n",
    "        tokens = tokenizer.tokenize(raw)\n",
    "        stopped_tokens = [i for i in tokens if not i in stop]       # stopword가 아닌 token 골라내기\n",
    "        print(stopped_tokens)                                       # stopword가 걸러진 token print\n",
    "        \n",
    "        stemmed_tokens = [stemmer.stem(i) for i in stopped_tokens]  # token의 어간만 추출 (ex. spends -> spend)\n",
    "        texts.append(stemmed_tokens)                                # 걸러진 token들을 'texts' list에 저장!"
   ]
  },
  {
   "cell_type": "code",
   "execution_count": 22,
   "id": "2b175f71-007f-4121-86ea-baac4385f649",
   "metadata": {},
   "outputs": [
    {
     "name": "stdout",
     "output_type": "stream",
     "text": [
      "[['sugar', 'bad', 'consum', 'sister', 'like', 'sugar', 'father'], ['father', 'spend', 'lot', 'time', 'drive', 'sister', 'around', 'danc', 'practic'], ['doctor', 'suggest', 'drive', 'may', 'caus', 'increas', 'stress', 'blood', 'pressur'], ['sometim', 'feel', 'pressur', 'perform', 'well', 'school', 'father', 'never', 'seem', 'drive', 'sister', 'better'], ['health', 'expert', 'say', 'sugar', 'good', 'lifestyl']]\n"
     ]
    }
   ],
   "source": [
    "print(texts)"
   ]
  },
  {
   "cell_type": "markdown",
   "id": "008e6170-148b-4685-a9e4-e5aaafa72e2b",
   "metadata": {},
   "source": [
    "# Document-term matrix "
   ]
  },
  {
   "cell_type": "code",
   "execution_count": 27,
   "id": "290f42e9-7e7a-4201-89c3-7703535af921",
   "metadata": {},
   "outputs": [
    {
     "name": "stdout",
     "output_type": "stream",
     "text": [
      "Dictionary<34 unique tokens: ['bad', 'consum', 'father', 'like', 'sister']...>\n"
     ]
    }
   ],
   "source": [
    "# LDA Model을 적용하기 위해서 document-term matrix 형태로 만듦\n",
    "## 전체 문서가 포함하고 있는 모든 단어로 이루어진 사전\n",
    "dictionary = corpora.Dictionary(texts)\n",
    "print(dictionary)"
   ]
  },
  {
   "cell_type": "code",
   "execution_count": 25,
   "id": "425474d0-37db-46cd-b816-7de3f3ce8f90",
   "metadata": {},
   "outputs": [
    {
     "data": {
      "text/plain": [
       "[[(0, 1), (1, 1), (2, 1), (3, 1), (4, 1), (5, 2)],\n",
       " [(2, 1), (4, 1), (6, 1), (7, 1), (8, 1), (9, 1), (10, 1), (11, 1), (12, 1)],\n",
       " [(8, 1),\n",
       "  (13, 1),\n",
       "  (14, 1),\n",
       "  (15, 1),\n",
       "  (16, 1),\n",
       "  (17, 1),\n",
       "  (18, 1),\n",
       "  (19, 1),\n",
       "  (20, 1)],\n",
       " [(2, 1),\n",
       "  (4, 1),\n",
       "  (8, 1),\n",
       "  (18, 1),\n",
       "  (21, 1),\n",
       "  (22, 1),\n",
       "  (23, 1),\n",
       "  (24, 1),\n",
       "  (25, 1),\n",
       "  (26, 1),\n",
       "  (27, 1),\n",
       "  (28, 1)],\n",
       " [(5, 1), (29, 1), (30, 1), (31, 1), (32, 1), (33, 1)]]"
      ]
     },
     "execution_count": 25,
     "metadata": {},
     "output_type": "execute_result"
    }
   ],
   "source": [
    "## texts 문서를 이용하여 document-term matrix를 만듦 - 42set\n",
    "corpus = [dictionary.doc2bow(text) for text in texts]\n",
    "corpus  # (word's index value, frequency)"
   ]
  },
  {
   "cell_type": "code",
   "execution_count": 29,
   "id": "ff81fe96-f0db-4d73-acda-8b170982245b",
   "metadata": {},
   "outputs": [
    {
     "name": "stdout",
     "output_type": "stream",
     "text": [
      "TfidfModel<num_docs=5, num_nnz=42>\n"
     ]
    }
   ],
   "source": [
    "# word frequency가 아닌 tfidf weight를 적용한 모델\n",
    "tfidf = models.TfidfModel(corpus, id2word=dictionary)\n",
    "print(tfidf)"
   ]
  },
  {
   "cell_type": "code",
   "execution_count": 37,
   "id": "856e0753-5502-43bc-90c9-5c7862bd4cb7",
   "metadata": {},
   "outputs": [
    {
     "data": {
      "text/plain": [
       "[[(0, 0.4715096067582428),\n",
       "  (1, 0.4715096067582428),\n",
       "  (2, 0.14965422842541531),\n",
       "  (3, 0.4715096067582428),\n",
       "  (4, 0.14965422842541531),\n",
       "  (5, 0.5368829444421276)],\n",
       " [(2, 0.126430480321383),\n",
       "  (4, 0.126430480321383),\n",
       "  (6, 0.398339470162723),\n",
       "  (7, 0.398339470162723),\n",
       "  (8, 0.126430480321383),\n",
       "  (9, 0.398339470162723),\n",
       "  (10, 0.398339470162723),\n",
       "  (11, 0.398339470162723),\n",
       "  (12, 0.398339470162723)],\n",
       " [(8, 0.11648072836469117),\n",
       "  (13, 0.3669911836371611),\n",
       "  (14, 0.3669911836371611),\n",
       "  (15, 0.3669911836371611),\n",
       "  (16, 0.3669911836371611),\n",
       "  (17, 0.3669911836371611),\n",
       "  (18, 0.20893668382502806),\n",
       "  (19, 0.3669911836371611),\n",
       "  (20, 0.3669911836371611)],\n",
       " [(2, 0.1080649901332212),\n",
       "  (4, 0.1080649901332212),\n",
       "  (8, 0.1080649901332212),\n",
       "  (18, 0.1938409983609264),\n",
       "  (21, 0.3404760529532436),\n",
       "  (22, 0.3404760529532436),\n",
       "  (23, 0.3404760529532436),\n",
       "  (24, 0.3404760529532436),\n",
       "  (25, 0.3404760529532436),\n",
       "  (26, 0.3404760529532436),\n",
       "  (27, 0.3404760529532436),\n",
       "  (28, 0.3404760529532436)],\n",
       " [(5, 0.24673728071874365),\n",
       "  (29, 0.4333868282039776),\n",
       "  (30, 0.4333868282039776),\n",
       "  (31, 0.4333868282039776),\n",
       "  (32, 0.4333868282039776),\n",
       "  (33, 0.4333868282039776)]]"
      ]
     },
     "execution_count": 37,
     "metadata": {},
     "output_type": "execute_result"
    }
   ],
   "source": [
    "# tfidf를 corpus에 적용\n",
    "corpus_tfidf = tfidf[corpus]\n",
    "# LDA Model에 적용시키기 위해서, corpus_tfidf를 list형태로 변형\n",
    "corpus_tfidf_list = [doc for doc in corpus_tfidf] \n",
    "corpus_tfidf_list"
   ]
  },
  {
   "cell_type": "markdown",
   "id": "0d6d23de-0163-4c85-a7c7-4b880da816a1",
   "metadata": {},
   "source": [
    "# LDA Model Training"
   ]
  },
  {
   "cell_type": "code",
   "execution_count": 39,
   "id": "ef532cd9-7602-42d5-bf8d-75f58e6fa069",
   "metadata": {},
   "outputs": [
    {
     "name": "stdout",
     "output_type": "stream",
     "text": [
      "[(0, '0.044*\"sugar\" + 0.041*\"consum\" + 0.041*\"bad\" + 0.041*\"like\"'), (1, '0.046*\"health\" + 0.046*\"lifestyl\" + 0.046*\"say\" + 0.046*\"expert\"'), (2, '0.030*\"sugar\" + 0.030*\"father\" + 0.030*\"sister\" + 0.030*\"drive\"')]\n"
     ]
    }
   ],
   "source": [
    "# LDA Model Training\n",
    "ldamodel = gensim.models.ldamodel.LdaModel(corpus_tfidf_list, num_topics=3, id2word=dictionary, passes=50)\n",
    "\n",
    "# result printing - upper 4 words\n",
    "print(ldamodel.print_topics(num_topics=3, num_words=4))"
   ]
  },
  {
   "cell_type": "code",
   "execution_count": 51,
   "id": "31e6d196-6acc-49f3-8edc-d56efaa00911",
   "metadata": {},
   "outputs": [],
   "source": [
    "import pyLDAvis.gensim_models"
   ]
  },
  {
   "cell_type": "code",
   "execution_count": 52,
   "id": "89419a67-9781-4699-8366-993179c59a41",
   "metadata": {},
   "outputs": [
    {
     "data": {
      "text/html": [
       "\n",
       "<link rel=\"stylesheet\" type=\"text/css\" href=\"https://cdn.jsdelivr.net/gh/bmabey/pyLDAvis@3.4.0/pyLDAvis/js/ldavis.v1.0.0.css\">\n",
       "\n",
       "\n",
       "<div id=\"ldavis_el872164044464006270469891\" style=\"background-color:white;\"></div>\n",
       "<script type=\"text/javascript\">\n",
       "\n",
       "var ldavis_el872164044464006270469891_data = {\"mdsDat\": {\"x\": [-0.028554467452116233, 0.029151249574782268, -0.000596782122666031], \"y\": [0.0, 0.0, 0.0], \"topics\": [1, 2, 3], \"cluster\": [1, 1, 1], \"Freq\": [62.21689811911331, 34.181151951999325, 3.60194992888737]}, \"tinfo\": {\"Term\": [\"say\", \"lifestyl\", \"health\", \"good\", \"expert\", \"spend\", \"around\", \"time\", \"lot\", \"practic\", \"danc\", \"bad\", \"like\", \"consum\", \"may\", \"caus\", \"increas\", \"stress\", \"suggest\", \"blood\", \"doctor\", \"pressur\", \"school\", \"well\", \"seem\", \"never\", \"perform\", \"feel\", \"better\", \"sometim\", \"like\", \"bad\", \"consum\", \"pressur\", \"blood\", \"caus\", \"increas\", \"may\", \"stress\", \"suggest\", \"doctor\", \"better\", \"feel\", \"never\", \"perform\", \"school\", \"seem\", \"well\", \"sometim\", \"sugar\", \"father\", \"sister\", \"drive\", \"danc\", \"around\", \"lot\", \"practic\", \"spend\", \"time\", \"expert\", \"good\", \"health\", \"lifestyl\", \"say\", \"expert\", \"good\", \"health\", \"lifestyl\", \"say\", \"danc\", \"around\", \"lot\", \"practic\", \"spend\", \"time\", \"drive\", \"sister\", \"father\", \"sugar\", \"sometim\", \"better\", \"feel\", \"never\", \"perform\", \"school\", \"seem\", \"well\", \"doctor\", \"blood\", \"caus\", \"increas\", \"may\", \"stress\", \"suggest\", \"consum\", \"like\", \"bad\", \"pressur\", \"around\", \"lot\", \"practic\", \"spend\", \"time\", \"danc\", \"say\", \"expert\", \"good\", \"health\", \"lifestyl\", \"drive\", \"father\", \"sister\", \"better\", \"feel\", \"never\", \"perform\", \"school\", \"seem\", \"well\", \"sometim\", \"blood\", \"caus\", \"increas\", \"may\", \"stress\", \"suggest\", \"doctor\", \"pressur\", \"sugar\", \"bad\", \"like\", \"consum\"], \"Freq\": [1.0, 1.0, 1.0, 1.0, 1.0, 1.0, 1.0, 1.0, 1.0, 1.0, 1.0, 1.0, 1.0, 1.0, 1.0, 1.0, 1.0, 1.0, 1.0, 1.0, 1.0, 1.0, 1.0, 1.0, 1.0, 1.0, 1.0, 1.0, 1.0, 1.0, 1.0893905234428733, 1.0893905234428733, 1.0893905234428733, 0.997353604411637, 0.9484734517536995, 0.9484734517536995, 0.9484734517536995, 0.9484734517536995, 0.9484734517536995, 0.9484734517536995, 0.9484734517536995, 0.9127976407027674, 0.9127976407027674, 0.9127976407027674, 0.9127976407027674, 0.9127976407027674, 0.9127976407027674, 0.9127976407027674, 0.9127976407027674, 1.1849277306608998, 0.8013905866940645, 0.8013905866940645, 0.7570841499133536, 0.45457950966245797, 0.45457950966245797, 0.45457950966245797, 0.45457950966245797, 0.45457950966245797, 0.45457950966245797, 0.4547549675751838, 0.4547549675751838, 0.4547549675751838, 0.4547549675751838, 0.4547549675751838, 0.6805014557674204, 0.6805014557674204, 0.6805014557674204, 0.6805014557674204, 0.6805014557674204, 0.6495630233425039, 0.6495630233425039, 0.6495630233425039, 0.6495630233425039, 0.6495630233425039, 0.6495630233425039, 0.40789923150767016, 0.4081509626849632, 0.40815090793103664, 0.5122717138280163, 0.29786182581603415, 0.2978617984390709, 0.2978617984390709, 0.2978617984390709, 0.2978617984390709, 0.2978617984390709, 0.2978617984390709, 0.2978617984390709, 0.29795701551733356, 0.2979569881403703, 0.2979569881403703, 0.2979569881403703, 0.2979569881403703, 0.2979569881403703, 0.2979569881403703, 0.29834582314973335, 0.2983457957727701, 0.2983457957727701, 0.29790576584208694, 0.045501612807645794, 0.045501612807645794, 0.045501612807645794, 0.045501612807645794, 0.045501612807645794, 0.04550160992270935, 0.045526789647979626, 0.04552678387810674, 0.04552678387810674, 0.04552678387810674, 0.04552678387810674, 0.0457082896543876, 0.04575104729740212, 0.04575104441246568, 0.04551096865652887, 0.04551096865652887, 0.04551096865652887, 0.04551096865652887, 0.04551096865652887, 0.04551096865652887, 0.04551096865652887, 0.04551096865652887, 0.04553510980467984, 0.04553510980467984, 0.04553510980467984, 0.04553510980467984, 0.04553510980467984, 0.04553510980467984, 0.04553510980467984, 0.0455222141387818, 0.045830556145757845, 0.045599386188619084, 0.04559938330368264, 0.04559938330368264], \"Total\": [1.0, 1.0, 1.0, 1.0, 1.0, 1.0, 1.0, 1.0, 1.0, 1.0, 1.0, 1.0, 1.0, 1.0, 1.0, 1.0, 1.0, 1.0, 1.0, 1.0, 1.0, 1.0, 1.0, 1.0, 1.0, 1.0, 1.0, 1.0, 1.0, 1.0, 1.4333357025193263, 1.4333357054042626, 1.4333357298962894, 1.3407815843925057, 1.2919655496987497, 1.2919655496987497, 1.2919655496987497, 1.2919655496987497, 1.2919655496987497, 1.2919655496987497, 1.291965577075713, 1.256170407798367, 1.256170407798367, 1.256170407798367, 1.256170407798367, 1.256170407798367, 1.256170407798367, 1.256170407798367, 1.2561704351753304, 1.7430300006346742, 1.2552925419225032, 1.2552925937914934, 1.2106916710754114, 1.1496441429276714, 1.1496441458126077, 1.1496441458126077, 1.1496441458126077, 1.1496441458126077, 1.1496441458126077, 1.180783207220711, 1.180783207220711, 1.180783207220711, 1.180783207220711, 1.1807832129905838, 1.180783207220711, 1.180783207220711, 1.180783207220711, 1.180783207220711, 1.1807832129905838, 1.1496441429276714, 1.1496441458126077, 1.1496441458126077, 1.1496441458126077, 1.1496441458126077, 1.1496441458126077, 1.2106916710754114, 1.2552925937914934, 1.2552925419225032, 1.7430300006346742, 1.2561704351753304, 1.256170407798367, 1.256170407798367, 1.256170407798367, 1.256170407798367, 1.256170407798367, 1.256170407798367, 1.256170407798367, 1.291965577075713, 1.2919655496987497, 1.2919655496987497, 1.2919655496987497, 1.2919655496987497, 1.2919655496987497, 1.2919655496987497, 1.4333357298962894, 1.4333357025193263, 1.4333357054042626, 1.3407815843925057, 1.1496441458126077, 1.1496441458126077, 1.1496441458126077, 1.1496441458126077, 1.1496441458126077, 1.1496441429276714, 1.1807832129905838, 1.180783207220711, 1.180783207220711, 1.180783207220711, 1.180783207220711, 1.2106916710754114, 1.2552925419225032, 1.2552925937914934, 1.256170407798367, 1.256170407798367, 1.256170407798367, 1.256170407798367, 1.256170407798367, 1.256170407798367, 1.256170407798367, 1.2561704351753304, 1.2919655496987497, 1.2919655496987497, 1.2919655496987497, 1.2919655496987497, 1.2919655496987497, 1.2919655496987497, 1.291965577075713, 1.3407815843925057, 1.7430300006346742, 1.4333357054042626, 1.4333357025193263, 1.4333357298962894], \"Category\": [\"Default\", \"Default\", \"Default\", \"Default\", \"Default\", \"Default\", \"Default\", \"Default\", \"Default\", \"Default\", \"Default\", \"Default\", \"Default\", \"Default\", \"Default\", \"Default\", \"Default\", \"Default\", \"Default\", \"Default\", \"Default\", \"Default\", \"Default\", \"Default\", \"Default\", \"Default\", \"Default\", \"Default\", \"Default\", \"Default\", \"Topic1\", \"Topic1\", \"Topic1\", \"Topic1\", \"Topic1\", \"Topic1\", \"Topic1\", \"Topic1\", \"Topic1\", \"Topic1\", \"Topic1\", \"Topic1\", \"Topic1\", \"Topic1\", \"Topic1\", \"Topic1\", \"Topic1\", \"Topic1\", \"Topic1\", \"Topic1\", \"Topic1\", \"Topic1\", \"Topic1\", \"Topic1\", \"Topic1\", \"Topic1\", \"Topic1\", \"Topic1\", \"Topic1\", \"Topic1\", \"Topic1\", \"Topic1\", \"Topic1\", \"Topic1\", \"Topic2\", \"Topic2\", \"Topic2\", \"Topic2\", \"Topic2\", \"Topic2\", \"Topic2\", \"Topic2\", \"Topic2\", \"Topic2\", \"Topic2\", \"Topic2\", \"Topic2\", \"Topic2\", \"Topic2\", \"Topic2\", \"Topic2\", \"Topic2\", \"Topic2\", \"Topic2\", \"Topic2\", \"Topic2\", \"Topic2\", \"Topic2\", \"Topic2\", \"Topic2\", \"Topic2\", \"Topic2\", \"Topic2\", \"Topic2\", \"Topic2\", \"Topic2\", \"Topic2\", \"Topic2\", \"Topic3\", \"Topic3\", \"Topic3\", \"Topic3\", \"Topic3\", \"Topic3\", \"Topic3\", \"Topic3\", \"Topic3\", \"Topic3\", \"Topic3\", \"Topic3\", \"Topic3\", \"Topic3\", \"Topic3\", \"Topic3\", \"Topic3\", \"Topic3\", \"Topic3\", \"Topic3\", \"Topic3\", \"Topic3\", \"Topic3\", \"Topic3\", \"Topic3\", \"Topic3\", \"Topic3\", \"Topic3\", \"Topic3\", \"Topic3\", \"Topic3\", \"Topic3\", \"Topic3\", \"Topic3\"], \"logprob\": [30.0, 29.0, 28.0, 27.0, 26.0, 25.0, 24.0, 23.0, 22.0, 21.0, 20.0, 19.0, 18.0, 17.0, 16.0, 15.0, 14.0, 13.0, 12.0, 11.0, 10.0, 9.0, 8.0, 7.0, 6.0, 5.0, 4.0, 3.0, 2.0, 1.0, -3.201, -3.201, -3.201, -3.2893, -3.3396, -3.3396, -3.3396, -3.3396, -3.3396, -3.3396, -3.3396, -3.3779, -3.3779, -3.3779, -3.3779, -3.3779, -3.3779, -3.3779, -3.3779, -3.117, -3.5081, -3.5081, -3.5649, -4.075, -4.075, -4.075, -4.075, -4.075, -4.075, -4.0747, -4.0747, -4.0747, -4.0747, -4.0747, -3.0726, -3.0726, -3.0726, -3.0726, -3.0726, -3.1192, -3.1192, -3.1192, -3.1192, -3.1192, -3.1192, -3.5844, -3.5838, -3.5838, -3.3566, -3.8988, -3.8988, -3.8988, -3.8988, -3.8988, -3.8988, -3.8988, -3.8988, -3.8985, -3.8985, -3.8985, -3.8985, -3.8985, -3.8985, -3.8985, -3.8972, -3.8972, -3.8972, -3.8987, -3.5275, -3.5275, -3.5275, -3.5275, -3.5275, -3.5275, -3.527, -3.527, -3.527, -3.527, -3.527, -3.523, -3.522, -3.522, -3.5273, -3.5273, -3.5273, -3.5273, -3.5273, -3.5273, -3.5273, -3.5273, -3.5268, -3.5268, -3.5268, -3.5268, -3.5268, -3.5268, -3.5268, -3.5271, -3.5203, -3.5254, -3.5254, -3.5254], \"loglift\": [30.0, 29.0, 28.0, 27.0, 26.0, 25.0, 24.0, 23.0, 22.0, 21.0, 20.0, 19.0, 18.0, 17.0, 16.0, 15.0, 14.0, 13.0, 12.0, 11.0, 10.0, 9.0, 8.0, 7.0, 6.0, 5.0, 4.0, 3.0, 2.0, 1.0, 0.2002, 0.2002, 0.2002, 0.1786, 0.1655, 0.1655, 0.1655, 0.1655, 0.1655, 0.1655, 0.1655, 0.1552, 0.1552, 0.1552, 0.1552, 0.1552, 0.1552, 0.1552, 0.1552, 0.0886, 0.0258, 0.0258, 0.0051, -0.4533, -0.4533, -0.4533, -0.4533, -0.4533, -0.4533, -0.4796, -0.4796, -0.4796, -0.4796, -0.4796, 0.5224, 0.5224, 0.5224, 0.5224, 0.5224, 0.5026, 0.5026, 0.5026, 0.5026, 0.5026, 0.5026, -0.0144, -0.05, -0.05, -0.151, -0.3657, -0.3657, -0.3657, -0.3657, -0.3657, -0.3657, -0.3657, -0.3657, -0.3935, -0.3935, -0.3935, -0.3935, -0.3935, -0.3935, -0.3935, -0.496, -0.496, -0.496, -0.4307, 0.0942, 0.0942, 0.0942, 0.0942, 0.0942, 0.0942, 0.0681, 0.0681, 0.0681, 0.0681, 0.0681, 0.047, 0.0118, 0.0118, 0.0058, 0.0058, 0.0058, 0.0058, 0.0058, 0.0058, 0.0058, 0.0058, -0.0217, -0.0217, -0.0217, -0.0217, -0.0217, -0.0217, -0.0217, -0.0591, -0.3147, -0.1242, -0.1242, -0.1242]}, \"token.table\": {\"Topic\": [2, 1, 1, 1, 1, 1, 2, 1, 1, 2, 1, 1, 2, 2, 1, 2, 1, 2, 1, 1, 1, 2, 1, 2, 1, 1, 1, 1, 2, 1, 1, 2, 1, 2, 1], \"Freq\": [0.8698343775700836, 0.6976732640019994, 0.7960703371070925, 0.7740144466183112, 0.7740144466183112, 0.6976732520805549, 0.8698343797528606, 0.7740144302168176, 0.8259741302356016, 0.8468955129822412, 0.7966270543346669, 0.7960703371070925, 0.8468955129822412, 0.8468955129822412, 0.7740144466183112, 0.8468955129822412, 0.6976732654062362, 0.8698343775700836, 0.7740144466183112, 0.7960703371070925, 0.7960703371070925, 0.8698343775700836, 0.7458336328903933, 0.8468955088439037, 0.7960703371070925, 0.7960703371070925, 0.7966270214178465, 0.7960703197575452, 0.8698343775700836, 0.7740144466183112, 0.5737135904923488, 0.5737135904923488, 0.7740144466183112, 0.8698343775700836, 0.7960703371070925], \"Term\": [\"around\", \"bad\", \"better\", \"blood\", \"caus\", \"consum\", \"danc\", \"doctor\", \"drive\", \"expert\", \"father\", \"feel\", \"good\", \"health\", \"increas\", \"lifestyl\", \"like\", \"lot\", \"may\", \"never\", \"perform\", \"practic\", \"pressur\", \"say\", \"school\", \"seem\", \"sister\", \"sometim\", \"spend\", \"stress\", \"sugar\", \"sugar\", \"suggest\", \"time\", \"well\"]}, \"R\": 30, \"lambda.step\": 0.01, \"plot.opts\": {\"xlab\": \"PC1\", \"ylab\": \"PC2\"}, \"topic.order\": [1, 2, 3]};\n",
       "\n",
       "function LDAvis_load_lib(url, callback){\n",
       "  var s = document.createElement('script');\n",
       "  s.src = url;\n",
       "  s.async = true;\n",
       "  s.onreadystatechange = s.onload = callback;\n",
       "  s.onerror = function(){console.warn(\"failed to load library \" + url);};\n",
       "  document.getElementsByTagName(\"head\")[0].appendChild(s);\n",
       "}\n",
       "\n",
       "if(typeof(LDAvis) !== \"undefined\"){\n",
       "   // already loaded: just create the visualization\n",
       "   !function(LDAvis){\n",
       "       new LDAvis(\"#\" + \"ldavis_el872164044464006270469891\", ldavis_el872164044464006270469891_data);\n",
       "   }(LDAvis);\n",
       "}else if(typeof define === \"function\" && define.amd){\n",
       "   // require.js is available: use it to load d3/LDAvis\n",
       "   require.config({paths: {d3: \"https://d3js.org/d3.v5\"}});\n",
       "   require([\"d3\"], function(d3){\n",
       "      window.d3 = d3;\n",
       "      LDAvis_load_lib(\"https://cdn.jsdelivr.net/gh/bmabey/pyLDAvis@3.4.0/pyLDAvis/js/ldavis.v3.0.0.js\", function(){\n",
       "        new LDAvis(\"#\" + \"ldavis_el872164044464006270469891\", ldavis_el872164044464006270469891_data);\n",
       "      });\n",
       "    });\n",
       "}else{\n",
       "    // require.js not available: dynamically load d3 & LDAvis\n",
       "    LDAvis_load_lib(\"https://d3js.org/d3.v5.js\", function(){\n",
       "         LDAvis_load_lib(\"https://cdn.jsdelivr.net/gh/bmabey/pyLDAvis@3.4.0/pyLDAvis/js/ldavis.v3.0.0.js\", function(){\n",
       "                 new LDAvis(\"#\" + \"ldavis_el872164044464006270469891\", ldavis_el872164044464006270469891_data);\n",
       "            })\n",
       "         });\n",
       "}\n",
       "</script>"
      ],
      "text/plain": [
       "<IPython.core.display.HTML object>"
      ]
     },
     "execution_count": 52,
     "metadata": {},
     "output_type": "execute_result"
    }
   ],
   "source": [
    "pyLDAvis.enable_notebook()\n",
    "vis = pyLDAvis.gensim_models.prepare(ldamodel, corpus, dictionary)\n",
    "pyLDAvis.display(vis)"
   ]
  },
  {
   "cell_type": "code",
   "execution_count": null,
   "id": "55069e28-4107-4db1-9997-abe4bfe21bb8",
   "metadata": {},
   "outputs": [],
   "source": []
  }
 ],
 "metadata": {
  "kernelspec": {
   "display_name": "Python 3 (ipykernel)",
   "language": "python",
   "name": "python3"
  },
  "language_info": {
   "codemirror_mode": {
    "name": "ipython",
    "version": 3
   },
   "file_extension": ".py",
   "mimetype": "text/x-python",
   "name": "python",
   "nbconvert_exporter": "python",
   "pygments_lexer": "ipython3",
   "version": "3.11.6"
  }
 },
 "nbformat": 4,
 "nbformat_minor": 5
}
