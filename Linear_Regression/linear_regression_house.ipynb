{
 "cells": [
  {
   "cell_type": "code",
   "execution_count": 1,
   "metadata": {},
   "outputs": [],
   "source": [
    "import numpy as np\n",
    "import matplotlib.pyplot as plt\n",
    "from sklearn import linear_model\n",
    "from sklearn.model_selection import train_test_split\n",
    "\n",
    "np.set_printoptions(suppress=True) # 숫자 프린팅 옵션 설정\n",
    "\n",
    "data = np.loadtxt(\"house_prices.txt\",delimiter=\",\")"
   ]
  },
  {
   "cell_type": "code",
   "execution_count": 2,
   "metadata": {},
   "outputs": [
    {
     "data": {
      "text/plain": [
       "array([[  2104.,      3., 399900.],\n",
       "       [  1600.,      3., 329900.],\n",
       "       [  2400.,      3., 369000.],\n",
       "       [  1416.,      2., 232000.],\n",
       "       [  3000.,      4., 539900.],\n",
       "       [  1985.,      4., 299900.],\n",
       "       [  1534.,      3., 314900.],\n",
       "       [  1427.,      3., 198999.],\n",
       "       [  1380.,      3., 212000.],\n",
       "       [  1494.,      3., 242500.],\n",
       "       [  1940.,      4., 239999.],\n",
       "       [  2000.,      3., 347000.],\n",
       "       [  1890.,      3., 329999.],\n",
       "       [  4478.,      5., 699900.],\n",
       "       [  1268.,      3., 259900.],\n",
       "       [  2300.,      4., 449900.],\n",
       "       [  1320.,      2., 299900.],\n",
       "       [  1236.,      3., 199900.],\n",
       "       [  2609.,      4., 499998.],\n",
       "       [  3031.,      4., 599000.],\n",
       "       [  1767.,      3., 252900.],\n",
       "       [  1888.,      2., 255000.],\n",
       "       [  1604.,      3., 242900.],\n",
       "       [  1962.,      4., 259900.],\n",
       "       [  3890.,      3., 573900.],\n",
       "       [  1100.,      3., 249900.],\n",
       "       [  1458.,      3., 464500.],\n",
       "       [  2526.,      3., 469000.],\n",
       "       [  2200.,      3., 475000.],\n",
       "       [  2637.,      3., 299900.],\n",
       "       [  1839.,      2., 349900.],\n",
       "       [  1000.,      1., 169900.],\n",
       "       [  2040.,      4., 314900.],\n",
       "       [  3137.,      3., 579900.],\n",
       "       [  1811.,      4., 285900.],\n",
       "       [  1437.,      3., 249900.],\n",
       "       [  1239.,      3., 229900.],\n",
       "       [  2132.,      4., 345000.],\n",
       "       [  4215.,      4., 549000.],\n",
       "       [  2162.,      4., 287000.],\n",
       "       [  1664.,      2., 368500.],\n",
       "       [  2238.,      3., 329900.],\n",
       "       [  2567.,      4., 314000.],\n",
       "       [  1200.,      3., 299000.],\n",
       "       [   852.,      2., 179900.],\n",
       "       [  1852.,      4., 299900.],\n",
       "       [  1203.,      3., 239500.]])"
      ]
     },
     "execution_count": 2,
     "metadata": {},
     "output_type": "execute_result"
    }
   ],
   "source": [
    "# 데이터 확인\n",
    "data"
   ]
  },
  {
   "cell_type": "code",
   "execution_count": 3,
   "metadata": {},
   "outputs": [
    {
     "data": {
      "text/plain": [
       "array([[  2104.,      3., 399900.],\n",
       "       [  1600.,      3., 329900.],\n",
       "       [  2400.,      3., 369000.],\n",
       "       [  1416.,      2., 232000.],\n",
       "       [  3000.,      4., 539900.]])"
      ]
     },
     "execution_count": 3,
     "metadata": {},
     "output_type": "execute_result"
    }
   ],
   "source": [
    "# 데이터 일부 확인 (5개 행, 모든열)\n",
    "data[:5,:]"
   ]
  },
  {
   "cell_type": "code",
   "execution_count": 4,
   "metadata": {},
   "outputs": [],
   "source": [
    "# 데이터셋을 X와 Y로 분리\n",
    "X = data[:,:2]  # 모든 행, 첫 열(index 0인 열)부터 index 2인 열 직전까지\n",
    "Y = data[:,-1] # 모든 행, 마지막 열 => Y = data[:,2] 이것과 동일"
   ]
  },
  {
   "cell_type": "code",
   "execution_count": 5,
   "metadata": {},
   "outputs": [],
   "source": [
    "# 데이터를 학습 데이터와 테스트 데이터로 분리\n",
    "# [option] test_size: 테스트 데이터 비중, random_state: (아무)숫자를 입력하여 랜덤으로 선택되는 데이터 고정\n",
    "X_train, X_test, Y_train, Y_test = train_test_split(X, Y, test_size = 0.2, random_state = 4)"
   ]
  },
  {
   "cell_type": "code",
   "execution_count": 6,
   "metadata": {},
   "outputs": [
    {
     "data": {
      "text/plain": [
       "<matplotlib.collections.PathCollection at 0x1ab31c640>"
      ]
     },
     "execution_count": 6,
     "metadata": {},
     "output_type": "execute_result"
    },
    {
     "data": {
      "image/png": "[encoded data removed]",
      "text/plain": [
       "<Figure size 432x288 with 1 Axes>"
      ]
     },
     "metadata": {
      "needs_background": "light"
     },
     "output_type": "display_data"
    }
   ],
   "source": [
    "# 학습 데이터를 그래프에 표시\n",
    "plt.scatter(X_train[:,0], Y_train, color='black')\n",
    "# 테스트 데이터를 그래프에 표시\n",
    "plt.scatter(X_test[:,0], Y_test, color='red')"
   ]
  },
  {
   "cell_type": "code",
   "execution_count": 7,
   "metadata": {},
   "outputs": [
    {
     "data": {
      "text/plain": [
       "LinearRegression()"
      ]
     },
     "execution_count": 7,
     "metadata": {},
     "output_type": "execute_result"
    }
   ],
   "source": [
    "# 선형회귀 모델 선언\n",
    "model = linear_model.LinearRegression()\n",
    "\n",
    "# 모델 학습\n",
    "model.fit(X_train, Y_train)"
   ]
  },
  {
   "cell_type": "code",
   "execution_count": 8,
   "metadata": {},
   "outputs": [],
   "source": [
    "# 테스트 데이터를 모델에 넣어 결과 예측\n",
    "result = model.predict(X_test)"
   ]
  },
  {
   "cell_type": "code",
   "execution_count": 9,
   "metadata": {},
   "outputs": [
    {
     "name": "stdout",
     "output_type": "stream",
     "text": [
      "[[  2040.              4.         314900.         334034.51140902]\n",
      " [  1852.              4.         299900.         307034.8009262 ]\n",
      " [  3000.              4.         539900.         471905.37344899]\n",
      " [  2300.              4.         449900.         371374.53654485]\n",
      " [  4215.              4.         549000.         646398.18321832]\n",
      " [  1767.              3.         252900.         308328.1750883 ]\n",
      " [  1320.              2.         299900.         257632.74502283]\n",
      " [  1427.              3.         198999.         259498.91144914]\n",
      " [  2609.              4.         499998.         415751.72026396]\n",
      " [  2000.              3.         347000.         341790.58222925]]\n"
     ]
    }
   ],
   "source": [
    "# 실제 가격과 예측한 가격 비교\n",
    "print(np.column_stack((X_test, Y_test, result)))\n"
   ]
  },
  {
   "cell_type": "code",
   "execution_count": 10,
   "metadata": {},
   "outputs": [
    {
     "data": {
      "image/png": "[encoded data removed]",
      "text/plain": [
       "<Figure size 432x288 with 1 Axes>"
      ]
     },
     "metadata": {
      "needs_background": "light"
     },
     "output_type": "display_data"
    }
   ],
   "source": [
    "# 실제 가격과 예측한 가격 plot - X 데이터 중 집크기가 x축, 가격이 y축\n",
    "real = plt.scatter(X_test[:,0], Y_test,  color='red')   # 실제 가격\n",
    "predict = plt.scatter(X_test[:,0], result, color='blue')  # 예측한 가격\n",
    "plt.legend((real, predict), ('real', 'prediction'))\n",
    "plt.title('Real price vs. Predicted price')\n",
    "plt.ylabel('Price')\n",
    "plt.xlabel('House size')\n",
    "plt.show()"
   ]
  },
  {
   "cell_type": "code",
   "execution_count": 11,
   "metadata": {
    "scrolled": true
   },
   "outputs": [
    {
     "data": {
      "text/plain": [
       "<matplotlib.collections.PathCollection at 0x1ad48a520>"
      ]
     },
     "execution_count": 11,
     "metadata": {},
     "output_type": "execute_result"
    },
    {
     "data": {
      "image/png": "[encoded data removed]",
      "text/plain": [
       "<Figure size 432x288 with 1 Axes>"
      ]
     },
     "metadata": {
      "needs_background": "light"
     },
     "output_type": "display_data"
    }
   ],
   "source": [
    "# 학습된 선형 모델 plot\n",
    "plt.plot([min(X_train[:,0]), max(X_train[:,0]) ], \n",
    "         [min(model.predict(X_train)), max(model.predict(X_train))])\n",
    "# 예측한 결과 plot\n",
    "plt.scatter(X_test[:,0], Y_test,  color='red')   # 실제 결과\n",
    "plt.scatter(X_test[:,0], result, color='blue')  # 예측한 결과\n"
   ]
  }
 ],
 "metadata": {
  "kernelspec": {
   "display_name": "Python 3 (ipykernel)",
   "language": "python",
   "name": "python3"
  },
  "language_info": {
   "codemirror_mode": {
    "name": "ipython",
    "version": 3
   },
   "file_extension": ".py",
   "mimetype": "text/x-python",
   "name": "python",
   "nbconvert_exporter": "python",
   "pygments_lexer": "ipython3",
   "version": "3.8.10"
  }
 },
 "nbformat": 4,
 "nbformat_minor": 2
}
