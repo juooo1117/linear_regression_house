{
 "cells": [
  {
   "cell_type": "code",
   "execution_count": 1,
   "id": "afraid-basket",
   "metadata": {},
   "outputs": [],
   "source": [
    "import numpy as np\n",
    "dataset_filename = \"affinity_dataset.txt\"\n",
    "X = np.loadtxt(dataset_filename)"
   ]
  },
  {
   "cell_type": "code",
   "execution_count": 2,
   "id": "quarterly-andrews",
   "metadata": {},
   "outputs": [
    {
     "name": "stdout",
     "output_type": "stream",
     "text": [
      "This dataset has 100 samples and 5 features\n",
      "[[0. 1. 0. 0. 0.]\n",
      " [1. 1. 0. 0. 0.]\n",
      " [0. 0. 1. 0. 1.]\n",
      " [1. 1. 0. 0. 0.]\n",
      " [0. 0. 1. 1. 1.]]\n"
     ]
    }
   ],
   "source": [
    "n_samples, n_features = X.shape\n",
    "print(\"This dataset has {0} samples and {1} features\".format(n_samples, n_features))\n",
    "print(X[:5])"
   ]
  },
  {
   "cell_type": "code",
   "execution_count": 3,
   "id": "radio-classroom",
   "metadata": {},
   "outputs": [],
   "source": [
    "features = [\"bread\",\"milk\",\"cheese\",\"apples\",\"bananas\"]"
   ]
  },
  {
   "cell_type": "code",
   "execution_count": 4,
   "id": "raising-cassette",
   "metadata": {},
   "outputs": [
    {
     "name": "stdout",
     "output_type": "stream",
     "text": [
      "43 people bought Apples\n"
     ]
    }
   ],
   "source": [
    "# 사과를 구입한 사람의 수\n",
    "num_apple_purchases = 0\n",
    "\n",
    "for sample in X:\n",
    "    if sample[3] == 1:  #This person bought apples\n",
    "        num_apple_purchases += 1\n",
    "print(\"{0} people bought Apples\".format(num_apple_purchases))"
   ]
  },
  {
   "cell_type": "code",
   "execution_count": 5,
   "id": "downtown-tonight",
   "metadata": {},
   "outputs": [
    {
     "name": "stdout",
     "output_type": "stream",
     "text": [
      "27 cases of the rule being valid were discovered\n",
      "16 cases of the rule being invalid were discovered\n"
     ]
    }
   ],
   "source": [
    "# 얼마나 많은 경우에 사과를 산 사람이 바나나도 샀는가?\n",
    "# 규칙이 유효한 경우와 그렇지 안은 경우 모두 기록\n",
    "\n",
    "rule_valid = 0   # 규칙이 유효\n",
    "rule_invalid = 0  # 규칙이 비유효\n",
    "for sample in X:\n",
    "    if sample[3] == 1:     # this person bought Apples\n",
    "        if sample[4] == 1:\n",
    "            # this person bought both Apples and Bananas (규칙이 유효한 경우를 +1 counting)\n",
    "            rule_valid += 1\n",
    "        else:\n",
    "            # this person bought Apples, but not Bananas (규칙이 비유효한 경우를 +1 counting)\n",
    "            rule_invalid += 1\n",
    "print(\"{0} cases of the rule being valid were discovered\".format(rule_valid))\n",
    "print(\"{0} cases of the rule being invalid were discovered\".format(rule_invalid))\n"
   ]
  },
  {
   "cell_type": "code",
   "execution_count": 6,
   "id": "devoted-stanford",
   "metadata": {},
   "outputs": [
    {
     "name": "stdout",
     "output_type": "stream",
     "text": [
      "The support is 27 and the confidence is 0.628.\n",
      "As a percentage, that is 62.8%\n"
     ]
    }
   ],
   "source": [
    "# support(규칙이 발견된 횟수)와 confidence를 계산하기 위한 정보가 모두 존재하므로 계산\n",
    "# the support is the number of times the rule is discovered\n",
    "support = rule_valid\n",
    "\n",
    "# rule_valid(이 규칙이 발견된 횟수) / num_apple_purchases(전제(사과를 산사람)에 해당하는 샘플 개수)\n",
    "confidence = rule_valid / float(num_apple_purchases)\n",
    "print(\"The support is {0} and the confidence is {1:.3f}.\".format(support, confidence))\n",
    "\n",
    "# confidence can be thought of as a percentage using the following{}\n",
    "print(\"As a percentage, that is {0:.1f}%\".format(100*confidence))"
   ]
  }
 ],
 "metadata": {
  "kernelspec": {
   "display_name": "Python 3 (ipykernel)",
   "language": "python",
   "name": "python3"
  },
  "language_info": {
   "codemirror_mode": {
    "name": "ipython",
    "version": 3
   },
   "file_extension": ".py",
   "mimetype": "text/x-python",
   "name": "python",
   "nbconvert_exporter": "python",
   "pygments_lexer": "ipython3",
   "version": "3.8.10"
  }
 },
 "nbformat": 4,
 "nbformat_minor": 5
}
