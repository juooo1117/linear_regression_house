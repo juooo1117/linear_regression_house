{
 "cells": [
  {
   "cell_type": "code",
   "execution_count": 1,
   "metadata": {},
   "outputs": [],
   "source": [
    "# 외부 패키지인 numpy 불러옴 (np라는 이름으로 불러옴)\n",
    "import numpy as np"
   ]
  },
  {
   "cell_type": "code",
   "execution_count": 2,
   "metadata": {},
   "outputs": [],
   "source": [
    "# 패턴을 찾기 위한 대상 데이터 로딩 (numpy의 loadtxt 함수 호출)\n",
    "dataset_filename = \"affinity_dataset.txt\"\n",
    "X = np.loadtxt(dataset_filename)"
   ]
  },
  {
   "cell_type": "code",
   "execution_count": 3,
   "metadata": {},
   "outputs": [],
   "source": [
    "# 속성의 이름을 정해줌 (txt 데이터에는 속성 이름이 없으므로 임의로 정해줌)\n",
    "features = [\"bread\", \"milk\", \"cheese\", \"apples\", \"bananas\"]"
   ]
  },
  {
   "cell_type": "code",
   "execution_count": 4,
   "metadata": {},
   "outputs": [
    {
     "name": "stdout",
     "output_type": "stream",
     "text": [
      "[[0. 1. 0. 0. 0.]\n",
      " [1. 1. 0. 0. 0.]\n",
      " [0. 0. 1. 0. 1.]\n",
      " [1. 1. 0. 0. 0.]\n",
      " [0. 0. 1. 1. 1.]\n",
      " [0. 1. 0. 0. 0.]\n",
      " [0. 0. 1. 1. 1.]]\n"
     ]
    }
   ],
   "source": [
    "# 7개의 행까지 프린트, 각각의 행은 샘플 하나에 해당함\n",
    "# X는 길이가 100인 배열이며, 배열의 각 요소는 다시 길이가 5인 배열\n",
    "# 콜론(:)의 의미는 처음부터 콜론 뒤에 있는 숫자까지라는 뜻\n",
    "# 따라서 X[:7]는 배열의 첫번째 요소부터 7번째 요소까지를 의미\n",
    "# index로는 0에서부터 6까지 포함\n",
    "# 이 배열의 각 요소는 길이가 5인 배열이므로 아래와 같이 프린팅 됨\n",
    "\n",
    "print(X[:7])"
   ]
  },
  {
   "cell_type": "code",
   "execution_count": 6,
   "metadata": {},
   "outputs": [
    {
     "name": "stdout",
     "output_type": "stream",
     "text": [
      "[[0. 1. 0.]\n",
      " [1. 1. 0.]\n",
      " [0. 0. 1.]\n",
      " [1. 1. 0.]\n",
      " [0. 0. 1.]\n",
      " [0. 1. 0.]\n",
      " [0. 0. 1.]]\n"
     ]
    }
   ],
   "source": [
    "# 7개의 행과 3개의 속성을 프린트\n",
    "# 행과 열의 범위를 주어 접근\n",
    "# 행은 콤마(,) 앞에 위치하고 열은 뒤에 위치\n",
    "print(X[:7,:3])"
   ]
  },
  {
   "cell_type": "code",
   "execution_count": 7,
   "metadata": {},
   "outputs": [
    {
     "name": "stdout",
     "output_type": "stream",
     "text": [
      "[1. 1. 0. 0. 0.]\n"
     ]
    }
   ],
   "source": [
    "# 하나의 샘플만 프린트할 경우 - 두번째 사람이 구매 이력\n",
    "print(X[1])"
   ]
  },
  {
   "cell_type": "code",
   "execution_count": 8,
   "metadata": {},
   "outputs": [
    {
     "name": "stdout",
     "output_type": "stream",
     "text": [
      "0.0\n"
     ]
    }
   ],
   "source": [
    "# 하나의 샘플의 특정 상품 구매여부만 프린트할 경우\n",
    "# 세번째 사람이 네번째 상품인 사과 구매 여부 (index 2에 해당하는 사람이 index 3에 해당하는 상품을 구매했냐?)\n",
    "print(X[2][3])"
   ]
  },
  {
   "cell_type": "code",
   "execution_count": 9,
   "metadata": {},
   "outputs": [
    {
     "name": "stdout",
     "output_type": "stream",
     "text": [
      "[0. 1. 0. 0. 0.] 0.0\n",
      "[1. 1. 0. 0. 0.] 0.0\n",
      "[0. 0. 1. 0. 1.] 0.0\n",
      "[1. 1. 0. 0. 0.] 0.0\n",
      "[0. 0. 1. 1. 1.] 1.0\n",
      "[0. 1. 0. 0. 0.] 0.0\n",
      "[0. 0. 1. 1. 1.] 1.0\n",
      "[0. 0. 1. 1. 0.] 1.0\n",
      "[0. 1. 0. 1. 0.] 1.0\n",
      "[0. 1. 0. 0. 1.] 0.0\n",
      "[0. 0. 0. 1. 0.] 1.0\n",
      "[1. 0. 1. 0. 0.] 0.0\n",
      "[1. 0. 0. 0. 1.] 0.0\n",
      "[0. 1. 1. 0. 0.] 0.0\n",
      "[0. 0. 1. 0. 1.] 0.0\n",
      "[0. 1. 0. 1. 0.] 1.0\n",
      "[1. 1. 0. 1. 1.] 1.0\n",
      "[0. 0. 0. 1. 1.] 1.0\n",
      "[0. 1. 0. 0. 1.] 0.0\n",
      "[1. 1. 0. 1. 0.] 1.0\n",
      "[0. 1. 1. 0. 0.] 0.0\n",
      "[0. 1. 0. 0. 1.] 0.0\n",
      "[0. 0. 1. 0. 0.] 0.0\n",
      "[1. 0. 0. 0. 1.] 0.0\n",
      "[0. 1. 0. 1. 0.] 1.0\n",
      "[1. 0. 0. 1. 1.] 1.0\n",
      "[0. 1. 1. 0. 0.] 0.0\n",
      "[0. 1. 0. 0. 1.] 0.0\n",
      "[0. 0. 0. 0. 1.] 0.0\n",
      "[1. 0. 0. 0. 1.] 0.0\n",
      "[0. 1. 0. 1. 1.] 1.0\n",
      "[1. 0. 0. 0. 0.] 0.0\n",
      "[0. 1. 0. 0. 0.] 0.0\n",
      "[1. 0. 0. 0. 0.] 0.0\n",
      "[0. 0. 1. 1. 1.] 1.0\n",
      "[0. 0. 1. 1. 1.] 1.0\n",
      "[0. 0. 1. 1. 1.] 1.0\n",
      "[1. 0. 0. 1. 0.] 1.0\n",
      "[0. 1. 0. 0. 1.] 0.0\n",
      "[1. 1. 0. 0. 0.] 0.0\n",
      "[0. 0. 0. 0. 1.] 0.0\n",
      "[0. 1. 0. 1. 1.] 1.0\n",
      "[0. 1. 0. 1. 0.] 1.0\n",
      "[0. 1. 0. 0. 1.] 0.0\n",
      "[1. 1. 1. 1. 0.] 1.0\n",
      "[1. 0. 0. 0. 1.] 0.0\n",
      "[0. 0. 0. 1. 1.] 1.0\n",
      "[1. 1. 0. 0. 1.] 0.0\n",
      "[0. 1. 0. 0. 0.] 0.0\n",
      "[0. 1. 1. 0. 0.] 0.0\n",
      "[0. 1. 0. 1. 1.] 1.0\n",
      "[0. 1. 0. 0. 1.] 0.0\n",
      "[0. 0. 1. 1. 1.] 1.0\n",
      "[0. 0. 0. 1. 1.] 1.0\n",
      "[0. 0. 1. 0. 0.] 0.0\n",
      "[0. 0. 1. 1. 1.] 1.0\n",
      "[1. 0. 0. 0. 0.] 0.0\n",
      "[1. 1. 1. 0. 1.] 0.0\n",
      "[0. 0. 1. 1. 1.] 1.0\n",
      "[0. 1. 0. 0. 0.] 0.0\n",
      "[0. 0. 1. 1. 0.] 1.0\n",
      "[0. 1. 0. 0. 1.] 0.0\n",
      "[0. 0. 1. 0. 0.] 0.0\n",
      "[0. 1. 0. 0. 0.] 0.0\n",
      "[1. 0. 0. 0. 1.] 0.0\n",
      "[0. 1. 0. 0. 0.] 0.0\n",
      "[0. 1. 1. 0. 1.] 0.0\n",
      "[0. 0. 1. 0. 0.] 0.0\n",
      "[0. 0. 1. 0. 0.] 0.0\n",
      "[0. 0. 0. 1. 1.] 1.0\n",
      "[0. 0. 1. 0. 0.] 0.0\n",
      "[0. 0. 1. 1. 0.] 1.0\n",
      "[0. 1. 0. 0. 0.] 0.0\n",
      "[0. 1. 1. 1. 1.] 1.0\n",
      "[1. 1. 0. 0. 1.] 0.0\n",
      "[0. 0. 1. 1. 0.] 1.0\n",
      "[0. 0. 1. 1. 0.] 1.0\n",
      "[0. 0. 1. 1. 1.] 1.0\n",
      "[0. 0. 1. 1. 1.] 1.0\n",
      "[0. 1. 0. 0. 0.] 0.0\n",
      "[0. 1. 0. 1. 0.] 1.0\n",
      "[1. 1. 0. 0. 1.] 0.0\n",
      "[0. 1. 0. 0. 1.] 0.0\n",
      "[0. 0. 1. 1. 1.] 1.0\n",
      "[0. 1. 0. 0. 1.] 0.0\n",
      "[0. 1. 0. 1. 1.] 1.0\n",
      "[0. 1. 0. 0. 1.] 0.0\n",
      "[1. 0. 0. 0. 0.] 0.0\n",
      "[1. 0. 0. 1. 1.] 1.0\n",
      "[0. 1. 1. 1. 1.] 1.0\n",
      "[1. 0. 0. 0. 1.] 0.0\n",
      "[0. 0. 1. 0. 1.] 0.0\n",
      "[0. 1. 1. 1. 0.] 1.0\n",
      "[1. 1. 0. 1. 1.] 1.0\n",
      "[1. 0. 1. 0. 1.] 0.0\n",
      "[0. 0. 1. 1. 1.] 1.0\n",
      "[1. 1. 1. 1. 0.] 1.0\n",
      "[0. 1. 0. 0. 1.] 0.0\n",
      "[0. 1. 0. 0. 1.] 0.0\n",
      "[1. 1. 0. 1. 1.] 1.0\n"
     ]
    }
   ],
   "source": [
    "# 각각의 행을 읽으면서 그 행을 프린트하고\n",
    "# 바로 옆에 그 사람의 사과 구매 여부를 프린트\n",
    "# for 문을 돌리면서 X에 있는 요소가 순서대로 sample에 카피됨\n",
    "for sample in X:\n",
    "    print(\"{0} {1}\".format(sample, sample[3]))"
   ]
  },
  {
   "cell_type": "code",
   "execution_count": 10,
   "metadata": {},
   "outputs": [
    {
     "name": "stdout",
     "output_type": "stream",
     "text": [
      "43 people bought Apples\n"
     ]
    }
   ],
   "source": [
    "# 사과를 구입한 사람의 수를 카운팅\n",
    "# for문을 돌리며 X에 있는 요소들을 하나씩 sample에 복사하여 체크\n",
    "num_apple_purchases = 0\n",
    "for sample in X:\n",
    "    if sample[3] == 1:  # 이 사람이 사과를 샀다면\n",
    "        num_apple_purchases += 1 # 사과 구매 수를 카운팅\n",
    "        \n",
    "print(\"{0} people bought Apples\".format(num_apple_purchases))"
   ]
  },
  {
   "cell_type": "code",
   "execution_count": 11,
   "metadata": {},
   "outputs": [
    {
     "name": "stdout",
     "output_type": "stream",
     "text": [
      "27 cases of the rule being valid were discovered\n",
      "16 cases of the rule being invalid were discovered\n"
     ]
    }
   ],
   "source": [
    "# 사과를 산 사람이 바나나도 산 경우가 얼마나 많은가?\n",
    "# 규칙이 유효한 경우와 그렇지 않은 경우 모두 기록\n",
    "# 유효한 경우는 사과를 산 사람 중에서 바나나도 산 사람의 수 (교집합)\n",
    "# 비유효한 경우는 사과를 산 사람 중에서 바나나는 사지 않은 사람의 수 (차집합)\n",
    "rule_valid = 0\n",
    "rule_invalid = 0\n",
    "for sample in X:\n",
    "    if sample[3] == 1:  # This person bought Apples\n",
    "        if sample[4] == 1:\n",
    "            # This person bought both Apples and Bananas\n",
    "            rule_valid += 1\n",
    "        else:\n",
    "            # This person bought Apples, but not Bananas\n",
    "            rule_invalid += 1\n",
    "print(\"{0} cases of the rule being valid were discovered\".format(rule_valid))\n",
    "print(\"{0} cases of the rule being invalid were discovered\".format(rule_invalid))"
   ]
  },
  {
   "cell_type": "code",
   "execution_count": 12,
   "metadata": {},
   "outputs": [
    {
     "name": "stdout",
     "output_type": "stream",
     "text": [
      "The support is 27 and the confidence is 0.63.\n",
      "The support is 27 and the confidence is 0.627906976744186\n",
      "As a percentage, that is 62.8%.\n"
     ]
    }
   ],
   "source": [
    "# 지지도(Support)와 신뢰도(Confidence)를 계산하기 위한 정보가 모두 존재하므로 계산\n",
    "# 사과를 사면(전제) -> 바나나를 산다(결론)\n",
    "support = rule_valid  # 이 규칙이 발견된 횟수\n",
    "confidence = rule_valid / num_apple_purchases # (이 규칙이 발견된 횟수)/(전제에 해당하는 샘플의 개수)\n",
    "\n",
    "print(\"The support is {0} and the confidence is {1:.2f}.\".format(support, confidence))\n",
    "print(\"The support is\", support, \"and the confidence is\", confidence)\n",
    "print(\"As a percentage, that is {0:.1f}%.\".format(100 * confidence))"
   ]
  },
  {
   "cell_type": "code",
   "execution_count": 13,
   "metadata": {},
   "outputs": [],
   "source": [
    "# 이제 해야할 것은 모든 규칙을 만들어보고 그 규칙이 맞는 경우와 틀리는 경우 계산\n",
    "# (전제,결론) 쌍이므로 순서가 있는 상품의 쌍\n",
    "# 이를 위해 자료형은 딕셔너리 구조 사용\n",
    "# 기본 딕셔너리를 사용하지 않고 defaultdict를 사용\n",
    "# 파이썬 표준 라이브러리인 collections 패키지로부터 import\n",
    "\n",
    "from collections import defaultdict\n",
    "# Now compute for all possible rules\n",
    "valid_rules = defaultdict(int)   # value 가 int 값을 갖는 딕셔너리 선언, 각 규칙이 참인 샘플 개수를 저장\n",
    "invalid_rules = defaultdict(int) # value 가 int 값을 갖는 딕셔너리 선언, 각 규칙이 거짓인 샘플 개수를 저장\n",
    "num_occurences = defaultdict(int) # value 가 int 값을 갖는 딕셔너리 선언, 각 규칙의 전제가 발견되는 샘플 개수를 저장"
   ]
  },
  {
   "cell_type": "code",
   "execution_count": 14,
   "metadata": {},
   "outputs": [
    {
     "name": "stdout",
     "output_type": "stream",
     "text": [
      "defaultdict(<class 'int'>, {})\n"
     ]
    }
   ],
   "source": [
    "print(valid_rules)"
   ]
  },
  {
   "cell_type": "code",
   "execution_count": 15,
   "metadata": {},
   "outputs": [],
   "source": [
    "#앞으로 valid_rules에는 다음과 같은 자료가 저장될 것임 (데이터를 읽으면서)\n",
    "# {(0, 1): 13, (1, 2): 11} <----- 첫번째 요소: 상품0을 구매했을 때 상품1을 구매한 경우의 샘플 개수는 13개\n",
    "#                                 두번째 요소: 상품1을 상품을 구매했을 때 상품2를 구매한 경우의 샘플 개수는 11개    \n",
    "# 위의 딕셔너리에 모든 상품 쌍(순서있음)에 대한 요소들이 추가될 것임"
   ]
  },
  {
   "cell_type": "code",
   "execution_count": 16,
   "metadata": {},
   "outputs": [],
   "source": [
    "for sample in X: # [0, 1, 0, 0, 1]\n",
    "    for premise in range(len(features)): #(0, 1, 2, 3, 4)\n",
    "        if sample[premise] == 0: continue\n",
    "        # Record that the premise was bought in another transaction\n",
    "        num_occurences[premise] += 1\n",
    "        for conclusion in range(len(features)): #(0, 1, 2, 3, 4)\n",
    "            if premise == conclusion:  # It makes little sense to measure if X -> X.\n",
    "                continue\n",
    "            if sample[conclusion] == 1:\n",
    "                # This person also bought the conclusion item\n",
    "                valid_rules[(premise, conclusion)] += 1\n",
    "            else:\n",
    "                # This person bought the premise, but not the conclusion\n",
    "                invalid_rules[(premise, conclusion)] += 1\n",
    "                \n",
    "support = valid_rules\n",
    "confidence = defaultdict(float)\n",
    "for premise, conclusion in valid_rules.keys():\n",
    "    confidence[(premise, conclusion)] = valid_rules[(premise, conclusion)] / num_occurences[premise]"
   ]
  },
  {
   "cell_type": "code",
   "execution_count": 17,
   "metadata": {},
   "outputs": [
    {
     "name": "stdout",
     "output_type": "stream",
     "text": [
      "defaultdict(<class 'int'>, {(0, 1): 13, (1, 0): 13, (2, 4): 20, (4, 2): 20, (2, 3): 22, (3, 2): 22, (3, 4): 27, (4, 3): 27, (1, 3): 18, (3, 1): 18, (1, 4): 27, (4, 1): 27, (0, 2): 5, (2, 0): 5, (0, 4): 16, (4, 0): 16, (1, 2): 11, (2, 1): 11, (0, 3): 9, (3, 0): 9})\n"
     ]
    }
   ],
   "source": [
    "print(support)"
   ]
  },
  {
   "cell_type": "code",
   "execution_count": 18,
   "metadata": {},
   "outputs": [
    {
     "name": "stdout",
     "output_type": "stream",
     "text": [
      "defaultdict(<class 'float'>, {(0, 1): 0.4642857142857143, (1, 0): 0.25, (2, 4): 0.5128205128205128, (4, 2): 0.3508771929824561, (2, 3): 0.5641025641025641, (3, 2): 0.5116279069767442, (3, 4): 0.627906976744186, (4, 3): 0.47368421052631576, (1, 3): 0.34615384615384615, (3, 1): 0.4186046511627907, (1, 4): 0.5192307692307693, (4, 1): 0.47368421052631576, (0, 2): 0.17857142857142858, (2, 0): 0.1282051282051282, (0, 4): 0.5714285714285714, (4, 0): 0.2807017543859649, (1, 2): 0.21153846153846154, (2, 1): 0.28205128205128205, (0, 3): 0.32142857142857145, (3, 0): 0.20930232558139536})\n"
     ]
    }
   ],
   "source": [
    "print(confidence)"
   ]
  },
  {
   "cell_type": "code",
   "execution_count": 19,
   "metadata": {},
   "outputs": [
    {
     "name": "stdout",
     "output_type": "stream",
     "text": [
      "Rule: If a person buys bread they will also buy milk\n",
      " - Confidence: 0.464\n",
      " - Support: 13\n",
      "\n",
      "Rule: If a person buys milk they will also buy bread\n",
      " - Confidence: 0.250\n",
      " - Support: 13\n",
      "\n",
      "Rule: If a person buys cheese they will also buy bananas\n",
      " - Confidence: 0.513\n",
      " - Support: 20\n",
      "\n",
      "Rule: If a person buys bananas they will also buy cheese\n",
      " - Confidence: 0.351\n",
      " - Support: 20\n",
      "\n",
      "Rule: If a person buys cheese they will also buy apples\n",
      " - Confidence: 0.564\n",
      " - Support: 22\n",
      "\n",
      "Rule: If a person buys apples they will also buy cheese\n",
      " - Confidence: 0.512\n",
      " - Support: 22\n",
      "\n",
      "Rule: If a person buys apples they will also buy bananas\n",
      " - Confidence: 0.628\n",
      " - Support: 27\n",
      "\n",
      "Rule: If a person buys bananas they will also buy apples\n",
      " - Confidence: 0.474\n",
      " - Support: 27\n",
      "\n",
      "Rule: If a person buys milk they will also buy apples\n",
      " - Confidence: 0.346\n",
      " - Support: 18\n",
      "\n",
      "Rule: If a person buys apples they will also buy milk\n",
      " - Confidence: 0.419\n",
      " - Support: 18\n",
      "\n",
      "Rule: If a person buys milk they will also buy bananas\n",
      " - Confidence: 0.519\n",
      " - Support: 27\n",
      "\n",
      "Rule: If a person buys bananas they will also buy milk\n",
      " - Confidence: 0.474\n",
      " - Support: 27\n",
      "\n",
      "Rule: If a person buys bread they will also buy cheese\n",
      " - Confidence: 0.179\n",
      " - Support: 5\n",
      "\n",
      "Rule: If a person buys cheese they will also buy bread\n",
      " - Confidence: 0.128\n",
      " - Support: 5\n",
      "\n",
      "Rule: If a person buys bread they will also buy bananas\n",
      " - Confidence: 0.571\n",
      " - Support: 16\n",
      "\n",
      "Rule: If a person buys bananas they will also buy bread\n",
      " - Confidence: 0.281\n",
      " - Support: 16\n",
      "\n",
      "Rule: If a person buys milk they will also buy cheese\n",
      " - Confidence: 0.212\n",
      " - Support: 11\n",
      "\n",
      "Rule: If a person buys cheese they will also buy milk\n",
      " - Confidence: 0.282\n",
      " - Support: 11\n",
      "\n",
      "Rule: If a person buys bread they will also buy apples\n",
      " - Confidence: 0.321\n",
      " - Support: 9\n",
      "\n",
      "Rule: If a person buys apples they will also buy bread\n",
      " - Confidence: 0.209\n",
      " - Support: 9\n",
      "\n"
     ]
    }
   ],
   "source": [
    "# 규칙 출력\n",
    "for premise, conclusion in confidence:\n",
    "    premise_name = features[premise]\n",
    "    conclusion_name = features[conclusion]\n",
    "    print(\"Rule: If a person buys {0} they will also buy {1}\".format(premise_name, conclusion_name))\n",
    "    print(\" - Confidence: {0:.3f}\".format(confidence[(premise, conclusion)]))\n",
    "    print(\" - Support: {0}\".format(support[(premise, conclusion)]))\n",
    "    print(\"\")"
   ]
  },
  {
   "cell_type": "code",
   "execution_count": 20,
   "metadata": {},
   "outputs": [],
   "source": [
    "# 특정 조건에 대해 출력하는 함수\n",
    "def print_rule(premise, conclusion, support, confidence, features):\n",
    "    premise_name = features[premise]\n",
    "    conclusion_name = features[conclusion]\n",
    "    print(\"Rule: If a person buys {0} they will also buy {1}\".format(premise_name, conclusion_name))\n",
    "    print(\" - Confidence: {0:.3f}\".format(confidence[(premise, conclusion)]))\n",
    "    print(\" - Support: {0}\".format(support[(premise, conclusion)]))\n",
    "    print(\"\")"
   ]
  },
  {
   "cell_type": "code",
   "execution_count": 21,
   "metadata": {},
   "outputs": [
    {
     "name": "stdout",
     "output_type": "stream",
     "text": [
      "Rule: If a person buys milk they will also buy apples\n",
      " - Confidence: 0.346\n",
      " - Support: 18\n",
      "\n"
     ]
    }
   ],
   "source": [
    "premise = 1\n",
    "conclusion = 3\n",
    "print_rule(premise, conclusion, support, confidence, features)"
   ]
  },
  {
   "cell_type": "code",
   "execution_count": 22,
   "metadata": {},
   "outputs": [
    {
     "name": "stdout",
     "output_type": "stream",
     "text": [
      "[((0, 1), 13),\n",
      " ((1, 0), 13),\n",
      " ((2, 4), 20),\n",
      " ((4, 2), 20),\n",
      " ((2, 3), 22),\n",
      " ((3, 2), 22),\n",
      " ((3, 4), 27),\n",
      " ((4, 3), 27),\n",
      " ((1, 3), 18),\n",
      " ((3, 1), 18),\n",
      " ((1, 4), 27),\n",
      " ((4, 1), 27),\n",
      " ((0, 2), 5),\n",
      " ((2, 0), 5),\n",
      " ((0, 4), 16),\n",
      " ((4, 0), 16),\n",
      " ((1, 2), 11),\n",
      " ((2, 1), 11),\n",
      " ((0, 3), 9),\n",
      " ((3, 0), 9)]\n"
     ]
    }
   ],
   "source": [
    "# Sort by support (규칙 id 값으로)\n",
    "from pprint import pprint\n",
    "pprint(list(support.items()))"
   ]
  },
  {
   "cell_type": "code",
   "execution_count": 23,
   "metadata": {},
   "outputs": [
    {
     "name": "stdout",
     "output_type": "stream",
     "text": [
      "Rule #1\n",
      "Rule: If a person buys apples they will also buy bananas\n",
      " - Confidence: 0.628\n",
      " - Support: 27\n",
      "\n",
      "Rule #2\n",
      "Rule: If a person buys bananas they will also buy apples\n",
      " - Confidence: 0.474\n",
      " - Support: 27\n",
      "\n",
      "Rule #3\n",
      "Rule: If a person buys milk they will also buy bananas\n",
      " - Confidence: 0.519\n",
      " - Support: 27\n",
      "\n",
      "Rule #4\n",
      "Rule: If a person buys bananas they will also buy milk\n",
      " - Confidence: 0.474\n",
      " - Support: 27\n",
      "\n",
      "Rule #5\n",
      "Rule: If a person buys cheese they will also buy apples\n",
      " - Confidence: 0.564\n",
      " - Support: 22\n",
      "\n"
     ]
    }
   ],
   "source": [
    "# Sort by support\n",
    "from operator import itemgetter\n",
    "\n",
    "sorted_support = sorted(support.items(), key=itemgetter(1), reverse=True)\n",
    "for index in range(5):\n",
    "    print(\"Rule #{0}\".format(index + 1))\n",
    "    (premise, conclusion) = sorted_support[index][0]\n",
    "    print_rule(premise, conclusion, support, confidence, features)"
   ]
  },
  {
   "cell_type": "code",
   "execution_count": 24,
   "metadata": {},
   "outputs": [
    {
     "data": {
      "text/plain": [
       "[((3, 4), 27),\n",
       " ((4, 3), 27),\n",
       " ((1, 4), 27),\n",
       " ((4, 1), 27),\n",
       " ((2, 3), 22),\n",
       " ((3, 2), 22),\n",
       " ((2, 4), 20),\n",
       " ((4, 2), 20),\n",
       " ((1, 3), 18),\n",
       " ((3, 1), 18),\n",
       " ((0, 4), 16),\n",
       " ((4, 0), 16),\n",
       " ((0, 1), 13),\n",
       " ((1, 0), 13),\n",
       " ((1, 2), 11),\n",
       " ((2, 1), 11),\n",
       " ((0, 3), 9),\n",
       " ((3, 0), 9),\n",
       " ((0, 2), 5),\n",
       " ((2, 0), 5)]"
      ]
     },
     "execution_count": 24,
     "metadata": {},
     "output_type": "execute_result"
    }
   ],
   "source": [
    "sorted_support"
   ]
  },
  {
   "cell_type": "code",
   "execution_count": 25,
   "metadata": {},
   "outputs": [
    {
     "name": "stdout",
     "output_type": "stream",
     "text": [
      "Rule #1\n",
      "Rule: If a person buys apples they will also buy bananas\n",
      " - Confidence: 0.628\n",
      " - Support: 27\n",
      "\n",
      "Rule #2\n",
      "Rule: If a person buys bread they will also buy bananas\n",
      " - Confidence: 0.571\n",
      " - Support: 16\n",
      "\n",
      "Rule #3\n",
      "Rule: If a person buys cheese they will also buy apples\n",
      " - Confidence: 0.564\n",
      " - Support: 22\n",
      "\n",
      "Rule #4\n",
      "Rule: If a person buys milk they will also buy bananas\n",
      " - Confidence: 0.519\n",
      " - Support: 27\n",
      "\n",
      "Rule #5\n",
      "Rule: If a person buys cheese they will also buy bananas\n",
      " - Confidence: 0.513\n",
      " - Support: 20\n",
      "\n"
     ]
    }
   ],
   "source": [
    "# Sort by confidence\n",
    "sorted_confidence = sorted(confidence.items(), key=itemgetter(1), reverse=True)\n",
    "\n",
    "for index in range(5):\n",
    "    print(\"Rule #{0}\".format(index + 1))\n",
    "    (premise, conclusion) = sorted_confidence[index][0]\n",
    "    print_rule(premise, conclusion, support, confidence, features)"
   ]
  }
 ],
 "metadata": {
  "kernelspec": {
   "display_name": "Python 3 (ipykernel)",
   "language": "python",
   "name": "python3"
  },
  "language_info": {
   "codemirror_mode": {
    "name": "ipython",
    "version": 3
   },
   "file_extension": ".py",
   "mimetype": "text/x-python",
   "name": "python",
   "nbconvert_exporter": "python",
   "pygments_lexer": "ipython3",
   "version": "3.8.10"
  }
 },
 "nbformat": 4,
 "nbformat_minor": 2
}
