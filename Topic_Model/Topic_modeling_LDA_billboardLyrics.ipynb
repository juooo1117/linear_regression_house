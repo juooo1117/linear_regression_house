{
 "cells": [
  {
   "cell_type": "markdown",
   "id": "ab44a6b9-16a3-4f35-87e4-3ceea7daa5f2",
   "metadata": {},
   "source": [
    "# LDA Topic Model (billboard_lyrics)"
   ]
  },
  {
   "cell_type": "code",
   "execution_count": 19,
   "id": "f03a9399-0dec-41f4-a880-a1ef88ad98b0",
   "metadata": {},
   "outputs": [],
   "source": [
    "import nltk\n",
    "from nltk.tokenize import RegexpTokenizer\n",
    "from stop_words import get_stop_words\n",
    "from nltk.stem.porter import PorterStemmer    # stemmer : 어간추출기\n",
    "from gensim import corpora, models\n",
    "import gensim  \n",
    "\n",
    "from sklearn.feature_extraction.text import TfidfVectorizer\n",
    "from sklearn.decomposition import LatentDirichletAllocation\n",
    "\n",
    "import re\n",
    "import pandas as pd\n",
    "import string"
   ]
  },
  {
   "cell_type": "code",
   "execution_count": 4,
   "id": "48052232-3881-45de-ae8d-48e2cfcf96f8",
   "metadata": {},
   "outputs": [],
   "source": [
    "df = pd.read_csv('/Users/juhyeon/python-workspace/billboard_lyrics_1964-2015.csv', encoding=\"ISO-8859-1\")"
   ]
  },
  {
   "cell_type": "code",
   "execution_count": 5,
   "id": "eb2093a9-b790-407f-9de0-57e72b934029",
   "metadata": {},
   "outputs": [
    {
     "name": "stdout",
     "output_type": "stream",
     "text": [
      "<class 'pandas.core.frame.DataFrame'>\n",
      "RangeIndex: 5100 entries, 0 to 5099\n",
      "Data columns (total 6 columns):\n",
      " #   Column  Non-Null Count  Dtype  \n",
      "---  ------  --------------  -----  \n",
      " 0   Rank    5100 non-null   int64  \n",
      " 1   Song    5100 non-null   object \n",
      " 2   Artist  5100 non-null   object \n",
      " 3   Year    5100 non-null   int64  \n",
      " 4   Lyrics  4913 non-null   object \n",
      " 5   Source  4913 non-null   float64\n",
      "dtypes: float64(1), int64(2), object(3)\n",
      "memory usage: 239.2+ KB\n"
     ]
    }
   ],
   "source": [
    "df.info()"
   ]
  },
  {
   "cell_type": "code",
   "execution_count": 6,
   "id": "e8e4b18e-6575-4f80-a921-6d7b7b2d3ebc",
   "metadata": {},
   "outputs": [
    {
     "data": {
      "text/html": [
       "<div>\n",
       "<style scoped>\n",
       "    .dataframe tbody tr th:only-of-type {\n",
       "        vertical-align: middle;\n",
       "    }\n",
       "\n",
       "    .dataframe tbody tr th {\n",
       "        vertical-align: top;\n",
       "    }\n",
       "\n",
       "    .dataframe thead th {\n",
       "        text-align: right;\n",
       "    }\n",
       "</style>\n",
       "<table border=\"1\" class=\"dataframe\">\n",
       "  <thead>\n",
       "    <tr style=\"text-align: right;\">\n",
       "      <th></th>\n",
       "      <th>Rank</th>\n",
       "      <th>Song</th>\n",
       "      <th>Artist</th>\n",
       "      <th>Year</th>\n",
       "      <th>Lyrics</th>\n",
       "      <th>Source</th>\n",
       "    </tr>\n",
       "  </thead>\n",
       "  <tbody>\n",
       "    <tr>\n",
       "      <th>0</th>\n",
       "      <td>1</td>\n",
       "      <td>wooly bully</td>\n",
       "      <td>sam the sham and the pharaohs</td>\n",
       "      <td>1965</td>\n",
       "      <td>sam the sham miscellaneous wooly bully wooly b...</td>\n",
       "      <td>3.0</td>\n",
       "    </tr>\n",
       "    <tr>\n",
       "      <th>1</th>\n",
       "      <td>2</td>\n",
       "      <td>i cant help myself sugar pie honey bunch</td>\n",
       "      <td>four tops</td>\n",
       "      <td>1965</td>\n",
       "      <td>sugar pie honey bunch you know that i love yo...</td>\n",
       "      <td>1.0</td>\n",
       "    </tr>\n",
       "    <tr>\n",
       "      <th>2</th>\n",
       "      <td>3</td>\n",
       "      <td>i cant get no satisfaction</td>\n",
       "      <td>the rolling stones</td>\n",
       "      <td>1965</td>\n",
       "      <td></td>\n",
       "      <td>1.0</td>\n",
       "    </tr>\n",
       "    <tr>\n",
       "      <th>3</th>\n",
       "      <td>4</td>\n",
       "      <td>you were on my mind</td>\n",
       "      <td>we five</td>\n",
       "      <td>1965</td>\n",
       "      <td>when i woke up this morning you were on my mi...</td>\n",
       "      <td>1.0</td>\n",
       "    </tr>\n",
       "    <tr>\n",
       "      <th>4</th>\n",
       "      <td>5</td>\n",
       "      <td>youve lost that lovin feelin</td>\n",
       "      <td>the righteous brothers</td>\n",
       "      <td>1965</td>\n",
       "      <td>you never close your eyes anymore when i kiss...</td>\n",
       "      <td>1.0</td>\n",
       "    </tr>\n",
       "  </tbody>\n",
       "</table>\n",
       "</div>"
      ],
      "text/plain": [
       "   Rank                                      Song  \\\n",
       "0     1                               wooly bully   \n",
       "1     2  i cant help myself sugar pie honey bunch   \n",
       "2     3                i cant get no satisfaction   \n",
       "3     4                       you were on my mind   \n",
       "4     5              youve lost that lovin feelin   \n",
       "\n",
       "                          Artist  Year  \\\n",
       "0  sam the sham and the pharaohs  1965   \n",
       "1                      four tops  1965   \n",
       "2             the rolling stones  1965   \n",
       "3                        we five  1965   \n",
       "4         the righteous brothers  1965   \n",
       "\n",
       "                                              Lyrics  Source  \n",
       "0  sam the sham miscellaneous wooly bully wooly b...     3.0  \n",
       "1   sugar pie honey bunch you know that i love yo...     1.0  \n",
       "2                                                        1.0  \n",
       "3   when i woke up this morning you were on my mi...     1.0  \n",
       "4   you never close your eyes anymore when i kiss...     1.0  "
      ]
     },
     "execution_count": 6,
     "metadata": {},
     "output_type": "execute_result"
    }
   ],
   "source": [
    "df.head(5)"
   ]
  },
  {
   "cell_type": "markdown",
   "id": "abc65ea7-4553-4af3-b51c-3f931984d9af",
   "metadata": {},
   "source": [
    "# Data Loading & Pre-processing"
   ]
  },
  {
   "cell_type": "code",
   "execution_count": 7,
   "id": "efcb37b8-1b8a-4677-9d8e-d3dd9b1c9529",
   "metadata": {},
   "outputs": [
    {
     "data": {
      "text/html": [
       "<div>\n",
       "<style scoped>\n",
       "    .dataframe tbody tr th:only-of-type {\n",
       "        vertical-align: middle;\n",
       "    }\n",
       "\n",
       "    .dataframe tbody tr th {\n",
       "        vertical-align: top;\n",
       "    }\n",
       "\n",
       "    .dataframe thead th {\n",
       "        text-align: right;\n",
       "    }\n",
       "</style>\n",
       "<table border=\"1\" class=\"dataframe\">\n",
       "  <thead>\n",
       "    <tr style=\"text-align: right;\">\n",
       "      <th></th>\n",
       "      <th>Lyrics</th>\n",
       "    </tr>\n",
       "  </thead>\n",
       "  <tbody>\n",
       "    <tr>\n",
       "      <th>0</th>\n",
       "      <td>sam the sham miscellaneous wooly bully wooly b...</td>\n",
       "    </tr>\n",
       "    <tr>\n",
       "      <th>1</th>\n",
       "      <td>sugar pie honey bunch you know that i love yo...</td>\n",
       "    </tr>\n",
       "    <tr>\n",
       "      <th>2</th>\n",
       "      <td></td>\n",
       "    </tr>\n",
       "    <tr>\n",
       "      <th>3</th>\n",
       "      <td>when i woke up this morning you were on my mi...</td>\n",
       "    </tr>\n",
       "    <tr>\n",
       "      <th>4</th>\n",
       "      <td>you never close your eyes anymore when i kiss...</td>\n",
       "    </tr>\n",
       "  </tbody>\n",
       "</table>\n",
       "</div>"
      ],
      "text/plain": [
       "                                              Lyrics\n",
       "0  sam the sham miscellaneous wooly bully wooly b...\n",
       "1   sugar pie honey bunch you know that i love yo...\n",
       "2                                                   \n",
       "3   when i woke up this morning you were on my mi...\n",
       "4   you never close your eyes anymore when i kiss..."
      ]
     },
     "execution_count": 7,
     "metadata": {},
     "output_type": "execute_result"
    }
   ],
   "source": [
    "df_lyrics = df[['Lyrics']]\n",
    "df_lyrics.head(5)"
   ]
  },
  {
   "cell_type": "code",
   "execution_count": 8,
   "id": "a322ce7b-c5a3-4639-8f94-c54b2062fa09",
   "metadata": {},
   "outputs": [
    {
     "name": "stdout",
     "output_type": "stream",
     "text": [
      "5100 <class 'list'>\n",
      "['sam the sham miscellaneous wooly bully wooly bully sam the sham  the pharaohs  domingo samudio uno dos one two tres quatro matty told hatty about a thing she saw had two big horns and a wooly jaw wooly bully wooly bully wooly bully wooly bully wooly bully hatty told matty lets dont take no chance lets not belseven come and learn to dance wooly bully wooly bully wooly bully wooly bully wooly bully matty told hatty thats the thing to do get you someone really to pull the wool with you wooly bully wooly bully wooly bully wooly bully wooly bully lseven  the letter l and the number 7 when typed they form a rough square l7 so the lyrics mean lets not be square', ' sugar pie honey bunch you know that i love you i cant help myself i love you and nobody elsein and out my life you come and you go leaving just your picture behind and i kissed it a thousand timeswhen you snap your finger or wink your eye i come arunning to you im tied to your apron strings and theres nothing that i can docant help myself no i cant help myselfsugar pie honey bunch im weaker than a man should be i cant help myself im a fool in love you seewanna tell you i dont love you tell you that were through and ive tried but every time i see your face i get all choked up insidewhen i call your name girl it starts the flame burning in my heart tearing it all apart no matter how i try my love i cannot hidecause sugar pie honey bunch you know that im weak for you cant help myself i love you and nobody elsesugar pie honey bunch do anything you ask me to cant help myself i want you and nobody elsesugar pie honey bunch you know that i love you i cant help myself i cant help myself ']\n"
     ]
    }
   ],
   "source": [
    "# 5100개의 Lyrics가 'docs'에 list로 묶여서 저장됨\n",
    "docs = list(df_lyrics['Lyrics']) \n",
    "\n",
    "print(len(docs), type(docs))\n",
    "print(docs[0:2])"
   ]
  },
  {
   "cell_type": "code",
   "execution_count": 9,
   "id": "1f40e639-a8fd-4770-a5f3-b756724b85bc",
   "metadata": {},
   "outputs": [],
   "source": [
    "# docs안의 문서를 읽어서 전처리 후 다시 저장\n",
    "tokenizer = RegexpTokenizer(r'\\w+')   # sentence -> word (space를 만나면 tokenize)\n",
    "stop = get_stop_words('en')           # english stopwords list\n",
    "stemmer = PorterStemmer()             # 전처리 후 문서저장\n",
    "texts = []\n",
    "\n",
    "for d in docs:\n",
    "    if(d):\n",
    "        txt = re.sub(r'\\d', '', str(d))                             # 숫자제거\n",
    "        raw = txt.lower()                                           # 소문자화\n",
    "        tokens = tokenizer.tokenize(raw)\n",
    "        stopped_tokens = [i for i in tokens if not i in stop]       # stopword가 아닌 token 골라내기\n",
    "        stemmed_tokens = [stemmer.stem(i) for i in stopped_tokens]  # token의 어간만 추출 (ex. spends -> spend)\n",
    "        real_tokens = [t for t in stemmed_tokens if len(t) > 2]     # 'longer than 2' token만 골라내기\n",
    "        texts.append(real_tokens)                                   # 걸러진 token들을 'texts' list에 저장!"
   ]
  },
  {
   "cell_type": "code",
   "execution_count": 10,
   "id": "a653dca8-7eaf-47c0-a3d2-fdb58ac0a361",
   "metadata": {},
   "outputs": [
    {
     "name": "stdout",
     "output_type": "stream",
     "text": [
      "['sam', 'sham', 'miscellan', 'wooli', 'bulli', 'wooli', 'bulli', 'sam', 'sham', 'pharaoh', 'domingo', 'samudio', 'uno', 'one', 'two', 'tre', 'quatro', 'matti', 'told', 'hatti', 'thing', 'saw', 'two', 'big', 'horn', 'wooli', 'jaw', 'wooli', 'bulli', 'wooli', 'bulli', 'wooli', 'bulli', 'wooli', 'bulli', 'wooli', 'bulli', 'hatti', 'told', 'matti', 'let', 'dont', 'take', 'chanc', 'let', 'belseven', 'come', 'learn', 'danc', 'wooli', 'bulli', 'wooli', 'bulli', 'wooli', 'bulli', 'wooli', 'bulli', 'wooli', 'bulli', 'matti', 'told', 'hatti', 'that', 'thing', 'get', 'someon', 'realli', 'pull', 'wool', 'wooli', 'bulli', 'wooli', 'bulli', 'wooli', 'bulli', 'wooli', 'bulli', 'wooli', 'bulli', 'lseven', 'letter', 'number', 'type', 'form', 'rough', 'squar', 'lyric', 'mean', 'let', 'squar']\n",
      "<class 'list'>\n",
      "5100\n"
     ]
    }
   ],
   "source": [
    "print(texts[0])\n",
    "print(type(texts))\n",
    "print(len(texts))"
   ]
  },
  {
   "cell_type": "code",
   "execution_count": 11,
   "id": "28ae8193-7bef-47e9-a580-02ce97eac0e9",
   "metadata": {},
   "outputs": [
    {
     "data": {
      "text/html": [
       "<div>\n",
       "<style scoped>\n",
       "    .dataframe tbody tr th:only-of-type {\n",
       "        vertical-align: middle;\n",
       "    }\n",
       "\n",
       "    .dataframe tbody tr th {\n",
       "        vertical-align: top;\n",
       "    }\n",
       "\n",
       "    .dataframe thead th {\n",
       "        text-align: right;\n",
       "    }\n",
       "</style>\n",
       "<table border=\"1\" class=\"dataframe\">\n",
       "  <thead>\n",
       "    <tr style=\"text-align: right;\">\n",
       "      <th></th>\n",
       "      <th>tokened_Lyrics</th>\n",
       "    </tr>\n",
       "  </thead>\n",
       "  <tbody>\n",
       "    <tr>\n",
       "      <th>0</th>\n",
       "      <td>[sam, sham, miscellan, wooli, bulli, wooli, bu...</td>\n",
       "    </tr>\n",
       "    <tr>\n",
       "      <th>1</th>\n",
       "      <td>[sugar, pie, honey, bunch, know, love, cant, h...</td>\n",
       "    </tr>\n",
       "    <tr>\n",
       "      <th>2</th>\n",
       "      <td>[]</td>\n",
       "    </tr>\n",
       "    <tr>\n",
       "      <th>3</th>\n",
       "      <td>[woke, morn, mind, mind, got, troubl, whoaoh, ...</td>\n",
       "    </tr>\n",
       "    <tr>\n",
       "      <th>4</th>\n",
       "      <td>[never, close, eye, anymor, kiss, lip, there, ...</td>\n",
       "    </tr>\n",
       "  </tbody>\n",
       "</table>\n",
       "</div>"
      ],
      "text/plain": [
       "                                      tokened_Lyrics\n",
       "0  [sam, sham, miscellan, wooli, bulli, wooli, bu...\n",
       "1  [sugar, pie, honey, bunch, know, love, cant, h...\n",
       "2                                                 []\n",
       "3  [woke, morn, mind, mind, got, troubl, whoaoh, ...\n",
       "4  [never, close, eye, anymor, kiss, lip, there, ..."
      ]
     },
     "execution_count": 11,
     "metadata": {},
     "output_type": "execute_result"
    }
   ],
   "source": [
    "# pre-processing을 완료한 lyrics들을 dataframe화. len(tokenized_doc)=5100개 확인!\n",
    "tokenized_doc = pd.DataFrame({\"tokened_Lyrics\":texts})\n",
    "tokenized_doc.head(5)"
   ]
  },
  {
   "cell_type": "code",
   "execution_count": 12,
   "id": "f1ef617e-390a-41c4-a319-fac168253766",
   "metadata": {},
   "outputs": [
    {
     "data": {
      "text/plain": [
       "0"
      ]
     },
     "execution_count": 12,
     "metadata": {},
     "output_type": "execute_result"
    }
   ],
   "source": [
    "len(tokenized_doc['tokened_Lyrics'][2])"
   ]
  },
  {
   "cell_type": "code",
   "execution_count": 13,
   "id": "af8b2c58-c489-4604-858a-b5d24f3697a0",
   "metadata": {},
   "outputs": [
    {
     "data": {
      "text/plain": [
       "5100"
      ]
     },
     "execution_count": 13,
     "metadata": {},
     "output_type": "execute_result"
    }
   ],
   "source": [
    "len(tokenized_doc)"
   ]
  },
  {
   "cell_type": "code",
   "execution_count": 15,
   "id": "6fc9aef7-2f49-4d97-a4ca-f91461282cc6",
   "metadata": {},
   "outputs": [
    {
     "name": "stderr",
     "output_type": "stream",
     "text": [
      "/var/folders/tw/3zfrjsj13xg3kmttggh_xp080000gn/T/ipykernel_25207/2854590126.py:15: SettingWithCopyWarning: \n",
      "A value is trying to be set on a copy of a slice from a DataFrame.\n",
      "Try using .loc[row_indexer,col_indexer] = value instead\n",
      "\n",
      "See the caveats in the documentation: https://pandas.pydata.org/pandas-docs/stable/user_guide/indexing.html#returning-a-view-versus-a-copy\n",
      "  df_lyrics['Lyrics'] = detokenized_doc\n"
     ]
    }
   ],
   "source": [
    "# 역토큰화 (토큰화 작업을 되돌림)\n",
    "detokenized_doc = []\n",
    "empty_cnt = 0\n",
    "\n",
    "for i in range(len(tokenized_doc)):\n",
    "    if len(tokenized_doc['tokened_Lyrics'][i]) == 0:        # 공백이면, dataframe에 공백인 행으로 저장 \n",
    "        emp = ' '\n",
    "        detokenized_doc.append(emp)\n",
    "        empty_cnt += 1       \n",
    "    else:\n",
    "        t = ' '.join(tokenized_doc['tokened_Lyrics'][i])    # 공백이 아니면, 개별 단어들을 공백으로 묶어서 저장 \n",
    "        detokenized_doc.append(t)\n",
    "\n",
    "# 다시 df_lyrics['Lyrics']에 저장\n",
    "df_lyrics['Lyrics'] = detokenized_doc"
   ]
  },
  {
   "cell_type": "code",
   "execution_count": 16,
   "id": "f6cddc10-d971-4493-b0b0-5b67dd19dec8",
   "metadata": {},
   "outputs": [
    {
     "data": {
      "text/html": [
       "<div>\n",
       "<style scoped>\n",
       "    .dataframe tbody tr th:only-of-type {\n",
       "        vertical-align: middle;\n",
       "    }\n",
       "\n",
       "    .dataframe tbody tr th {\n",
       "        vertical-align: top;\n",
       "    }\n",
       "\n",
       "    .dataframe thead th {\n",
       "        text-align: right;\n",
       "    }\n",
       "</style>\n",
       "<table border=\"1\" class=\"dataframe\">\n",
       "  <thead>\n",
       "    <tr style=\"text-align: right;\">\n",
       "      <th></th>\n",
       "      <th>Lyrics</th>\n",
       "    </tr>\n",
       "  </thead>\n",
       "  <tbody>\n",
       "    <tr>\n",
       "      <th>0</th>\n",
       "      <td>sam sham miscellan wooli bulli wooli bulli sam...</td>\n",
       "    </tr>\n",
       "    <tr>\n",
       "      <th>1</th>\n",
       "      <td>sugar pie honey bunch know love cant help love...</td>\n",
       "    </tr>\n",
       "    <tr>\n",
       "      <th>2</th>\n",
       "      <td></td>\n",
       "    </tr>\n",
       "    <tr>\n",
       "      <th>3</th>\n",
       "      <td>woke morn mind mind got troubl whoaoh got worr...</td>\n",
       "    </tr>\n",
       "    <tr>\n",
       "      <th>4</th>\n",
       "      <td>never close eye anymor kiss lip there tender l...</td>\n",
       "    </tr>\n",
       "  </tbody>\n",
       "</table>\n",
       "</div>"
      ],
      "text/plain": [
       "                                              Lyrics\n",
       "0  sam sham miscellan wooli bulli wooli bulli sam...\n",
       "1  sugar pie honey bunch know love cant help love...\n",
       "2                                                   \n",
       "3  woke morn mind mind got troubl whoaoh got worr...\n",
       "4  never close eye anymor kiss lip there tender l..."
      ]
     },
     "execution_count": 16,
     "metadata": {},
     "output_type": "execute_result"
    }
   ],
   "source": [
    "df_lyrics.head(5)"
   ]
  },
  {
   "cell_type": "markdown",
   "id": "8eb05c96-51b9-4ab3-9c3c-3db6251cc88c",
   "metadata": {},
   "source": [
    "# Vectorization"
   ]
  },
  {
   "cell_type": "code",
   "execution_count": 17,
   "id": "e29e54b9-001e-4de2-8c12-ac2830760293",
   "metadata": {},
   "outputs": [
    {
     "name": "stdout",
     "output_type": "stream",
     "text": [
      "TF-IDF 행렬의 크기 : (5100, 1000)\n",
      "  (0, 524)\t0.15757310169398842\n",
      "  (0, 691)\t0.26702217704462905\n",
      "  (0, 909)\t0.24319305072566616\n",
      "  (0, 582)\t0.2254431098690145\n",
      "  (0, 479)\t0.2588637519923059\n",
      "  (0, 641)\t0.19549008776758917\n",
      "  (0, 663)\t0.1419341377534707\n",
      "  (0, 783)\t0.17092190472995467\n",
      "  (0, 193)\t0.166231812545645\n",
      "  (0, 472)\t0.20065379980095668\n",
      "  (0, 159)\t0.09708651639577003\n",
      "  (0, 133)\t0.18469837996309232\n",
      "  (0, 232)\t0.07920177498662365\n",
      "  (0, 478)\t0.29561095124746734\n",
      "  (0, 61)\t0.17207981044603918\n",
      "  (0, 705)\t0.19741254796648006\n",
      "  (0, 860)\t0.22594928894018987\n",
      "  (0, 881)\t0.5031308921757852\n",
      "  (0, 542)\t0.24788314290997585\n",
      "  (1, 924)\t0.04333371655373739\n",
      "  (1, 30)\t0.07487943680940269\n",
      "  (1, 26)\t0.08585866364240094\n",
      "  (1, 935)\t0.11081269545336714\n",
      "  (1, 522)\t0.08454502024863672\n",
      "  (1, 28)\t0.09477835442163147\n",
      "  :\t:\n",
      "  (5098, 159)\t0.023996666446102485\n",
      "  (5098, 232)\t0.05872839958163574\n",
      "  (5098, 478)\t0.02435517535714706\n",
      "  (5098, 881)\t0.041452595226355256\n",
      "  (5099, 10)\t0.02489720260032561\n",
      "  (5099, 381)\t0.0615463845491006\n",
      "  (5099, 208)\t0.19991179294831887\n",
      "  (5099, 207)\t0.8947356388981703\n",
      "  (5099, 583)\t0.12277703496633008\n",
      "  (5099, 98)\t0.023383709098570477\n",
      "  (5099, 717)\t0.02732557250929271\n",
      "  (5099, 403)\t0.04118333579866834\n",
      "  (5099, 76)\t0.020835824625586363\n",
      "  (5099, 261)\t0.028715647242463442\n",
      "  (5099, 789)\t0.02030341962971592\n",
      "  (5099, 151)\t0.0854873740766673\n",
      "  (5099, 589)\t0.02210782164085984\n",
      "  (5099, 485)\t0.05981507203289108\n",
      "  (5099, 924)\t0.011635519810499442\n",
      "  (5099, 851)\t0.17176639311425343\n",
      "  (5099, 276)\t0.015242980145432015\n",
      "  (5099, 505)\t0.2959402164353457\n",
      "  (5099, 524)\t0.018830041946488095\n",
      "  (5099, 641)\t0.07008340598514945\n",
      "  (5099, 478)\t0.03532561428308433\n"
     ]
    }
   ],
   "source": [
    "# 상위 1,000개의 단어를 보존 \n",
    "vectorizer = TfidfVectorizer(stop_words='english', max_features= 1000)\n",
    "X = vectorizer.fit_transform(df_lyrics['Lyrics'])\n",
    "\n",
    "# TF-IDF 행렬의 크기 확인\n",
    "## (5100 × 1000) 크기를 가진 가진 TF-IDF 행렬생성\n",
    "print('TF-IDF 행렬의 크기 :',X.shape)\n",
    "print(X)"
   ]
  },
  {
   "cell_type": "markdown",
   "id": "3983490b-47e5-4c21-b9a2-c0aa95696baa",
   "metadata": {},
   "source": [
    "# LDA Model Training"
   ]
  },
  {
   "cell_type": "code",
   "execution_count": 20,
   "id": "a6b1f959-c0cd-45a3-a469-78d9d13ed475",
   "metadata": {},
   "outputs": [],
   "source": [
    "lda_model = LatentDirichletAllocation(n_components = 10,          # 10개의 topic으로 분류\n",
    "                                      learning_method = 'online',\n",
    "                                      random_state = 1117,\n",
    "                                      max_iter = 1)\n",
    "lda_top = lda_model.fit_transform(X)"
   ]
  },
  {
   "cell_type": "code",
   "execution_count": 21,
   "id": "049e6e94-7c0b-4f62-928a-25e607146b48",
   "metadata": {},
   "outputs": [
    {
     "name": "stdout",
     "output_type": "stream",
     "text": [
      "[[ 0.18644495  0.11181385  0.1120058  ...  0.11156686  0.13288954\n",
      "   0.11084717]\n",
      " [ 0.10985984  0.22699679  0.11103949 ...  0.27802346  0.25258536\n",
      "   0.11096661]\n",
      " [ 0.11119818  0.11415657  0.11229536 ...  0.11340262  0.11353133\n",
      "   0.11318324]\n",
      " ...\n",
      " [ 0.10986612  0.50273111  0.1126017  ...  2.82509967  0.38749308\n",
      "   0.11819752]\n",
      " [ 0.11003745  0.11385403  0.11203886 ...  0.38736504  0.43534741\n",
      "   0.11385114]\n",
      " [ 1.67507603 21.47574682  8.17099598 ... 26.58500258 41.57170484\n",
      "   7.12453453]]\n",
      "(10, 1000)\n"
     ]
    }
   ],
   "source": [
    "print(lda_model.components_)\n",
    "print(lda_model.components_.shape) "
   ]
  },
  {
   "cell_type": "code",
   "execution_count": 22,
   "id": "f148f7c9-f9a9-4a4f-b85d-8ceb998ecd93",
   "metadata": {},
   "outputs": [
    {
     "name": "stdout",
     "output_type": "stream",
     "text": [
      "Topic 1: [('kick', 0.51), ('whoa', 0.5), ('sunday', 0.41), ('flower', 0.38), ('hair', 0.35), ('help', 0.33), ('motion', 0.3), ('come', 0.27), ('love', 0.26), ('like', 0.25)]\n",
      "Topic 2: [('bang', 7.66), ('huh', 7.19), ('born', 3.21), ('woo', 3.03), ('come', 2.73), ('duh', 2.66), ('celebr', 2.31), ('child', 2.16), ('funki', 1.97), ('everybodi', 1.94)]\n",
      "Topic 3: [('nan', 141.08), ('saturday', 0.51), ('wait', 0.32), ('woman', 0.32), ('work', 0.31), ('send', 0.31), ('tire', 0.25), ('love', 0.22), ('believ', 0.2), ('man', 0.2)]\n",
      "Topic 4: [('lean', 5.53), ('gangsta', 5.19), ('nana', 4.86), ('diggin', 1.84), ('thoia', 1.67), ('round', 1.61), ('hmm', 1.53), ('homi', 1.24), ('readi', 0.75), ('rap', 0.67)]\n",
      "Topic 5: [('shake', 19.84), ('boom', 7.6), ('booti', 5.76), ('gon', 5.46), ('hump', 4.94), ('stroke', 3.14), ('hot', 2.81), ('disco', 1.68), ('higher', 1.34), ('love', 0.93)]\n",
      "Topic 6: [('que', 13.49), ('gimm', 6.3), ('dat', 5.19), ('poison', 5.04), ('whatcha', 3.88), ('cuerpo', 3.55), ('wild', 2.81), ('alegria', 2.38), ('shack', 2.22), ('merci', 1.61)]\n",
      "Topic 7: [('danc', 9.32), ('aah', 4.23), ('bit', 3.97), ('boogi', 3.47), ('skee', 2.83), ('tootsi', 1.97), ('littl', 1.93), ('rockin', 1.59), ('got', 0.96), ('piec', 0.89)]\n",
      "Topic 8: [('nigga', 50.27), ('bitch', 40.76), ('fuck', 30.29), ('shit', 28.52), ('money', 20.12), ('hoe', 16.87), ('rock', 16.37), ('gon', 15.04), ('fuckin', 15.03), ('ass', 14.35)]\n",
      "Topic 9: [('beauti', 7.22), ('dem', 5.25), ('wow', 4.36), ('sing', 3.35), ('love', 3.32), ('sail', 2.75), ('wing', 2.62), ('girl', 2.6), ('lay', 2.53), ('power', 2.44)]\n",
      "Topic 10: [('love', 311.01), ('like', 252.67), ('know', 248.21), ('dont', 244.34), ('babi', 211.15), ('just', 204.33), ('want', 194.69), ('got', 186.07), ('let', 169.49), ('wanna', 167.11)]\n"
     ]
    }
   ],
   "source": [
    "# 단어 집합(1,000개의 단어가 저장), 각 topic별로 상위에 rank된 단어를 불러와보자. - 이것으로 topic 주제를 지정할 수 있을 것!\n",
    "terms = vectorizer.get_feature_names_out()\n",
    "\n",
    "def get_topics(components, feature_names, n=10):       # n=5 : 각 topic(10개)에서, 상위 10개의 단어씩을 가져온다\n",
    "    for idx, topic in enumerate(components):\n",
    "        print(\"Topic %d:\" % (idx+1), [(feature_names[i], topic[i].round(2)) for i in topic.argsort()[:-n - 1:-1]])\n",
    "\n",
    "get_topics(lda_model.components_,terms)"
   ]
  },
  {
   "cell_type": "markdown",
   "id": "3b1a193a-93bf-4f4b-9650-a2a613478516",
   "metadata": {},
   "source": [
    "# Document별로 topic 할당"
   ]
  },
  {
   "cell_type": "code",
   "execution_count": 27,
   "id": "4ce20b2f-18e8-41ef-b5c6-092702b5ea3d",
   "metadata": {},
   "outputs": [
    {
     "data": {
      "text/html": [
       "<div>\n",
       "<style scoped>\n",
       "    .dataframe tbody tr th:only-of-type {\n",
       "        vertical-align: middle;\n",
       "    }\n",
       "\n",
       "    .dataframe tbody tr th {\n",
       "        vertical-align: top;\n",
       "    }\n",
       "\n",
       "    .dataframe thead th {\n",
       "        text-align: right;\n",
       "    }\n",
       "</style>\n",
       "<table border=\"1\" class=\"dataframe\">\n",
       "  <thead>\n",
       "    <tr style=\"text-align: right;\">\n",
       "      <th></th>\n",
       "      <th>Doc_Num</th>\n",
       "      <th>Topic</th>\n",
       "      <th>Percentage</th>\n",
       "    </tr>\n",
       "  </thead>\n",
       "  <tbody>\n",
       "    <tr>\n",
       "      <th>0</th>\n",
       "      <td>0</td>\n",
       "      <td>9</td>\n",
       "      <td>0.821073</td>\n",
       "    </tr>\n",
       "    <tr>\n",
       "      <th>1</th>\n",
       "      <td>1</td>\n",
       "      <td>9</td>\n",
       "      <td>0.830861</td>\n",
       "    </tr>\n",
       "    <tr>\n",
       "      <th>2</th>\n",
       "      <td>2</td>\n",
       "      <td>0</td>\n",
       "      <td>0.100000</td>\n",
       "    </tr>\n",
       "    <tr>\n",
       "      <th>3</th>\n",
       "      <td>3</td>\n",
       "      <td>9</td>\n",
       "      <td>0.796378</td>\n",
       "    </tr>\n",
       "    <tr>\n",
       "      <th>4</th>\n",
       "      <td>4</td>\n",
       "      <td>9</td>\n",
       "      <td>0.815559</td>\n",
       "    </tr>\n",
       "  </tbody>\n",
       "</table>\n",
       "</div>"
      ],
      "text/plain": [
       "   Doc_Num  Topic  Percentage\n",
       "0        0      9    0.821073\n",
       "1        1      9    0.830861\n",
       "2        2      0    0.100000\n",
       "3        3      9    0.796378\n",
       "4        4      9    0.815559"
      ]
     },
     "execution_count": 27,
     "metadata": {},
     "output_type": "execute_result"
    }
   ],
   "source": [
    "# perrcentage를 이용해서, 문서별로 가장 가까운 topic으로 할당해줌\n",
    "doc_topic = lda_model.transform(X)\n",
    "\n",
    "doc_per_topic_list = []\n",
    "for n in range(doc_topic.shape[0]):\n",
    "    topic_most_pr = doc_topic[n].argmax()\n",
    "    topic_pr = doc_topic[n].max()\n",
    "    doc_per_topic_list.append([n, topic_most_pr, topic_pr])\n",
    "    \n",
    "doc_topic_df = pd.DataFrame(doc_per_topic_list, columns=['Doc_Num', 'Topic', 'Percentage'])"
   ]
  },
  {
   "cell_type": "code",
   "execution_count": 28,
   "id": "fa503a6a-9792-4a46-9cbb-b5fcf73d9c07",
   "metadata": {},
   "outputs": [
    {
     "data": {
      "text/plain": [
       "5100"
      ]
     },
     "execution_count": 28,
     "metadata": {},
     "output_type": "execute_result"
    }
   ],
   "source": [
    "# 각 노래별로 토픽이 할당된 것을 확인 - 총 5100개의 노래(data)\n",
    "len(doc_topic_df)"
   ]
  },
  {
   "cell_type": "code",
   "execution_count": 29,
   "id": "43c3968d-023e-40f2-98e5-6394ff6c3274",
   "metadata": {},
   "outputs": [
    {
     "data": {
      "text/html": [
       "<div>\n",
       "<style scoped>\n",
       "    .dataframe tbody tr th:only-of-type {\n",
       "        vertical-align: middle;\n",
       "    }\n",
       "\n",
       "    .dataframe tbody tr th {\n",
       "        vertical-align: top;\n",
       "    }\n",
       "\n",
       "    .dataframe thead th {\n",
       "        text-align: right;\n",
       "    }\n",
       "</style>\n",
       "<table border=\"1\" class=\"dataframe\">\n",
       "  <thead>\n",
       "    <tr style=\"text-align: right;\">\n",
       "      <th></th>\n",
       "      <th>Doc_Num</th>\n",
       "      <th>Topic</th>\n",
       "      <th>Percentage</th>\n",
       "      <th>Rank</th>\n",
       "      <th>Song</th>\n",
       "      <th>Artist</th>\n",
       "      <th>Year</th>\n",
       "      <th>Lyrics</th>\n",
       "      <th>Source</th>\n",
       "    </tr>\n",
       "  </thead>\n",
       "  <tbody>\n",
       "    <tr>\n",
       "      <th>0</th>\n",
       "      <td>0</td>\n",
       "      <td>9</td>\n",
       "      <td>0.821073</td>\n",
       "      <td>1</td>\n",
       "      <td>wooly bully</td>\n",
       "      <td>sam the sham and the pharaohs</td>\n",
       "      <td>1965</td>\n",
       "      <td>sam the sham miscellaneous wooly bully wooly b...</td>\n",
       "      <td>3.0</td>\n",
       "    </tr>\n",
       "    <tr>\n",
       "      <th>1</th>\n",
       "      <td>1</td>\n",
       "      <td>9</td>\n",
       "      <td>0.830861</td>\n",
       "      <td>2</td>\n",
       "      <td>i cant help myself sugar pie honey bunch</td>\n",
       "      <td>four tops</td>\n",
       "      <td>1965</td>\n",
       "      <td>sugar pie honey bunch you know that i love yo...</td>\n",
       "      <td>1.0</td>\n",
       "    </tr>\n",
       "    <tr>\n",
       "      <th>2</th>\n",
       "      <td>2</td>\n",
       "      <td>0</td>\n",
       "      <td>0.100000</td>\n",
       "      <td>3</td>\n",
       "      <td>i cant get no satisfaction</td>\n",
       "      <td>the rolling stones</td>\n",
       "      <td>1965</td>\n",
       "      <td></td>\n",
       "      <td>1.0</td>\n",
       "    </tr>\n",
       "    <tr>\n",
       "      <th>3</th>\n",
       "      <td>3</td>\n",
       "      <td>9</td>\n",
       "      <td>0.796378</td>\n",
       "      <td>4</td>\n",
       "      <td>you were on my mind</td>\n",
       "      <td>we five</td>\n",
       "      <td>1965</td>\n",
       "      <td>when i woke up this morning you were on my mi...</td>\n",
       "      <td>1.0</td>\n",
       "    </tr>\n",
       "    <tr>\n",
       "      <th>4</th>\n",
       "      <td>4</td>\n",
       "      <td>9</td>\n",
       "      <td>0.815559</td>\n",
       "      <td>5</td>\n",
       "      <td>youve lost that lovin feelin</td>\n",
       "      <td>the righteous brothers</td>\n",
       "      <td>1965</td>\n",
       "      <td>you never close your eyes anymore when i kiss...</td>\n",
       "      <td>1.0</td>\n",
       "    </tr>\n",
       "  </tbody>\n",
       "</table>\n",
       "</div>"
      ],
      "text/plain": [
       "   Doc_Num  Topic  Percentage  Rank                                      Song  \\\n",
       "0        0      9    0.821073     1                               wooly bully   \n",
       "1        1      9    0.830861     2  i cant help myself sugar pie honey bunch   \n",
       "2        2      0    0.100000     3                i cant get no satisfaction   \n",
       "3        3      9    0.796378     4                       you were on my mind   \n",
       "4        4      9    0.815559     5              youve lost that lovin feelin   \n",
       "\n",
       "                          Artist  Year  \\\n",
       "0  sam the sham and the pharaohs  1965   \n",
       "1                      four tops  1965   \n",
       "2             the rolling stones  1965   \n",
       "3                        we five  1965   \n",
       "4         the righteous brothers  1965   \n",
       "\n",
       "                                              Lyrics  Source  \n",
       "0  sam the sham miscellaneous wooly bully wooly b...     3.0  \n",
       "1   sugar pie honey bunch you know that i love yo...     1.0  \n",
       "2                                                        1.0  \n",
       "3   when i woke up this morning you were on my mi...     1.0  \n",
       "4   you never close your eyes anymore when i kiss...     1.0  "
      ]
     },
     "execution_count": 29,
     "metadata": {},
     "output_type": "execute_result"
    }
   ],
   "source": [
    "# original data에 구한 내용(topic, percentage)을 join시킴\n",
    "doc_topic_df = doc_topic_df.join(df)\n",
    "doc_topic_df.head()"
   ]
  },
  {
   "cell_type": "code",
   "execution_count": 31,
   "id": "6a9198d1-101d-4178-abb5-538435ec10c1",
   "metadata": {},
   "outputs": [
    {
     "data": {
      "text/html": [
       "<div>\n",
       "<style scoped>\n",
       "    .dataframe tbody tr th:only-of-type {\n",
       "        vertical-align: middle;\n",
       "    }\n",
       "\n",
       "    .dataframe tbody tr th {\n",
       "        vertical-align: top;\n",
       "    }\n",
       "\n",
       "    .dataframe thead th {\n",
       "        text-align: right;\n",
       "    }\n",
       "</style>\n",
       "<table border=\"1\" class=\"dataframe\">\n",
       "  <thead>\n",
       "    <tr style=\"text-align: right;\">\n",
       "      <th></th>\n",
       "      <th>Doc_Num</th>\n",
       "    </tr>\n",
       "    <tr>\n",
       "      <th>Topic</th>\n",
       "      <th></th>\n",
       "    </tr>\n",
       "  </thead>\n",
       "  <tbody>\n",
       "    <tr>\n",
       "      <th>0</th>\n",
       "      <td>85</td>\n",
       "    </tr>\n",
       "    <tr>\n",
       "      <th>1</th>\n",
       "      <td>10</td>\n",
       "    </tr>\n",
       "    <tr>\n",
       "      <th>2</th>\n",
       "      <td>187</td>\n",
       "    </tr>\n",
       "    <tr>\n",
       "      <th>3</th>\n",
       "      <td>3</td>\n",
       "    </tr>\n",
       "    <tr>\n",
       "      <th>4</th>\n",
       "      <td>7</td>\n",
       "    </tr>\n",
       "    <tr>\n",
       "      <th>5</th>\n",
       "      <td>15</td>\n",
       "    </tr>\n",
       "    <tr>\n",
       "      <th>6</th>\n",
       "      <td>5</td>\n",
       "    </tr>\n",
       "    <tr>\n",
       "      <th>7</th>\n",
       "      <td>71</td>\n",
       "    </tr>\n",
       "    <tr>\n",
       "      <th>8</th>\n",
       "      <td>13</td>\n",
       "    </tr>\n",
       "    <tr>\n",
       "      <th>9</th>\n",
       "      <td>4704</td>\n",
       "    </tr>\n",
       "  </tbody>\n",
       "</table>\n",
       "</div>"
      ],
      "text/plain": [
       "       Doc_Num\n",
       "Topic         \n",
       "0           85\n",
       "1           10\n",
       "2          187\n",
       "3            3\n",
       "4            7\n",
       "5           15\n",
       "6            5\n",
       "7           71\n",
       "8           13\n",
       "9         4704"
      ]
     },
     "execution_count": 31,
     "metadata": {},
     "output_type": "execute_result"
    }
   ],
   "source": [
    "# 토픽별로(총 10개의 topic) 문서의 수를 계산\n",
    "## Topic 10: [('love', 311.01), ('like', 252.67), ('know', 248.21), ('dont', 244.34), ('babi', 211.15), \n",
    "##                        ('just', 204.33), ('want', 194.69), ('got', 186.07), ('let', 169.49), ('wanna', 167.11)]\n",
    "\n",
    "doc_topic_df.groupby('Topic')[['Doc_Num']].count()"
   ]
  }
 ],
 "metadata": {
  "kernelspec": {
   "display_name": "Python 3 (ipykernel)",
   "language": "python",
   "name": "python3"
  },
  "language_info": {
   "codemirror_mode": {
    "name": "ipython",
    "version": 3
   },
   "file_extension": ".py",
   "mimetype": "text/x-python",
   "name": "python",
   "nbconvert_exporter": "python",
   "pygments_lexer": "ipython3",
   "version": "3.11.6"
  }
 },
 "nbformat": 4,
 "nbformat_minor": 5
}
