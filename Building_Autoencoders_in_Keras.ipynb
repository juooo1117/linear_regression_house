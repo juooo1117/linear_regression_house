{
  "nbformat": 4,
  "nbformat_minor": 0,
  "metadata": {
    "colab": {
      "provenance": [],
      "authorship_tag": "ABX9TyNnRBk3JGf6YRnsr/cYBWUE"
    },
    "kernelspec": {
      "name": "python3",
      "display_name": "Python 3"
    },
    "language_info": {
      "name": "python"
    }
  },
  "cells": [
    {
      "cell_type": "markdown",
      "source": [
        "# single fully-connected neural layer"
      ],
      "metadata": {
        "id": "SGdwcGTMWC5c"
      }
    },
    {
      "cell_type": "code",
      "execution_count": 1,
      "metadata": {
        "id": "eFe36Kk_mbWB"
      },
      "outputs": [],
      "source": [
        "import keras\n",
        "from keras import layers\n",
        "\n",
        "# 32 floats -> compression of factor 24.5, assuming the input is 784 floats\n",
        "encoding_dim = 32\n",
        "input_img = keras.Input(shape=(784,))     # input image\n",
        "\n",
        "# \"encoded\" is the encoded representation of the input\n",
        "encoded = layers.Dense(encoding_dim, activation='relu')(input_img)\n",
        "# \"decoded\" is the lossy reconstruction of the input\n",
        "decoded = layers.Dense(784, activation='sigmoid')(encoded)\n",
        "\n",
        "autoencoder = keras.Model(input_img, decoded)"
      ]
    },
    {
      "cell_type": "code",
      "source": [
        "# This model maps an input to its encoded representation\n",
        "encoder = keras.Model(input_img, encoded)"
      ],
      "metadata": {
        "id": "4qPMNfuRWB3-"
      },
      "execution_count": 2,
      "outputs": []
    },
    {
      "cell_type": "code",
      "source": [
        "# This is our encoded (32-dimensional) input\n",
        "encoded_input = keras.Input(shape=(encoding_dim,))\n",
        "# Retrieve the last layer of the autoencoder model\n",
        "decoder_layer = autoencoder.layers[-1]\n",
        "# Create the decoder model\n",
        "decoder = keras.Model(encoded_input, decoder_layer(encoded_input))"
      ],
      "metadata": {
        "id": "kniXWth0WB6a"
      },
      "execution_count": 3,
      "outputs": []
    },
    {
      "cell_type": "code",
      "source": [
        "autoencoder.compile(optimizer='adam', loss='binary_crossentropy')"
      ],
      "metadata": {
        "id": "DdC9A6vWWLuV"
      },
      "execution_count": 4,
      "outputs": []
    },
    {
      "cell_type": "code",
      "source": [
        "from keras.datasets import mnist\n",
        "import numpy as np\n",
        "\n",
        "(x_train, _), (x_test, _) = mnist.load_data()"
      ],
      "metadata": {
        "colab": {
          "base_uri": "https://localhost:8080/"
        },
        "id": "6NVHTHsHWLwn",
        "outputId": "5b433d0d-8811-4527-b68b-ee4575455c4a"
      },
      "execution_count": 5,
      "outputs": [
        {
          "output_type": "stream",
          "name": "stdout",
          "text": [
            "Downloading data from https://storage.googleapis.com/tensorflow/tf-keras-datasets/mnist.npz\n",
            "11490434/11490434 [==============================] - 0s 0us/step\n"
          ]
        }
      ]
    },
    {
      "cell_type": "code",
      "source": [
        "x_train = x_train.astype('float32') / 255.\n",
        "x_test = x_test.astype('float32') / 255.\n",
        "\n",
        "x_train = x_train.reshape((len(x_train), np.prod(x_train.shape[1:])))\n",
        "x_test = x_test.reshape((len(x_test), np.prod(x_test.shape[1:])))\n",
        "\n",
        "print(x_train.shape)\n",
        "print(x_test.shape)"
      ],
      "metadata": {
        "colab": {
          "base_uri": "https://localhost:8080/"
        },
        "id": "6MjYoqU-WLyt",
        "outputId": "8a11db2a-c932-4173-9327-0df579eb5380"
      },
      "execution_count": 6,
      "outputs": [
        {
          "output_type": "stream",
          "name": "stdout",
          "text": [
            "(60000, 784)\n",
            "(10000, 784)\n"
          ]
        }
      ]
    },
    {
      "cell_type": "code",
      "source": [
        "autoencoder.fit(x_train, x_train,\n",
        "                epochs=50,\n",
        "                batch_size=256,\n",
        "                shuffle=True,\n",
        "                validation_data=(x_test, x_test))"
      ],
      "metadata": {
        "colab": {
          "base_uri": "https://localhost:8080/"
        },
        "id": "BtzelCvoWL1D",
        "outputId": "38ebcb1c-6b07-42f5-def9-20879dc8576b"
      },
      "execution_count": 7,
      "outputs": [
        {
          "output_type": "stream",
          "name": "stdout",
          "text": [
            "Epoch 1/50\n",
            "235/235 [==============================] - 7s 18ms/step - loss: 0.2745 - val_loss: 0.1885\n",
            "Epoch 2/50\n",
            "235/235 [==============================] - 3s 12ms/step - loss: 0.1692 - val_loss: 0.1519\n",
            "Epoch 3/50\n",
            "235/235 [==============================] - 4s 17ms/step - loss: 0.1430 - val_loss: 0.1328\n",
            "Epoch 4/50\n",
            "235/235 [==============================] - 3s 11ms/step - loss: 0.1281 - val_loss: 0.1210\n",
            "Epoch 5/50\n",
            "235/235 [==============================] - 3s 11ms/step - loss: 0.1184 - val_loss: 0.1131\n",
            "Epoch 6/50\n",
            "235/235 [==============================] - 2s 8ms/step - loss: 0.1117 - val_loss: 0.1076\n",
            "Epoch 7/50\n",
            "235/235 [==============================] - 2s 8ms/step - loss: 0.1067 - val_loss: 0.1037\n",
            "Epoch 8/50\n",
            "235/235 [==============================] - 2s 8ms/step - loss: 0.1030 - val_loss: 0.1002\n",
            "Epoch 9/50\n",
            "235/235 [==============================] - 2s 8ms/step - loss: 0.1003 - val_loss: 0.0979\n",
            "Epoch 10/50\n",
            "235/235 [==============================] - 2s 8ms/step - loss: 0.0982 - val_loss: 0.0962\n",
            "Epoch 11/50\n",
            "235/235 [==============================] - 3s 13ms/step - loss: 0.0968 - val_loss: 0.0951\n",
            "Epoch 12/50\n",
            "235/235 [==============================] - 2s 9ms/step - loss: 0.0959 - val_loss: 0.0943\n",
            "Epoch 13/50\n",
            "235/235 [==============================] - 2s 8ms/step - loss: 0.0953 - val_loss: 0.0938\n",
            "Epoch 14/50\n",
            "235/235 [==============================] - 2s 8ms/step - loss: 0.0949 - val_loss: 0.0934\n",
            "Epoch 15/50\n",
            "235/235 [==============================] - 2s 8ms/step - loss: 0.0946 - val_loss: 0.0932\n",
            "Epoch 16/50\n",
            "235/235 [==============================] - 2s 8ms/step - loss: 0.0943 - val_loss: 0.0929\n",
            "Epoch 17/50\n",
            "235/235 [==============================] - 2s 10ms/step - loss: 0.0941 - val_loss: 0.0928\n",
            "Epoch 18/50\n",
            "235/235 [==============================] - 3s 11ms/step - loss: 0.0939 - val_loss: 0.0927\n",
            "Epoch 19/50\n",
            "235/235 [==============================] - 2s 8ms/step - loss: 0.0938 - val_loss: 0.0925\n",
            "Epoch 20/50\n",
            "235/235 [==============================] - 2s 8ms/step - loss: 0.0937 - val_loss: 0.0924\n",
            "Epoch 21/50\n",
            "235/235 [==============================] - 2s 8ms/step - loss: 0.0936 - val_loss: 0.0924\n",
            "Epoch 22/50\n",
            "235/235 [==============================] - 2s 8ms/step - loss: 0.0935 - val_loss: 0.0923\n",
            "Epoch 23/50\n",
            "235/235 [==============================] - 2s 8ms/step - loss: 0.0934 - val_loss: 0.0923\n",
            "Epoch 24/50\n",
            "235/235 [==============================] - 3s 12ms/step - loss: 0.0934 - val_loss: 0.0921\n",
            "Epoch 25/50\n",
            "235/235 [==============================] - 2s 9ms/step - loss: 0.0933 - val_loss: 0.0922\n",
            "Epoch 26/50\n",
            "235/235 [==============================] - 2s 8ms/step - loss: 0.0933 - val_loss: 0.0920\n",
            "Epoch 27/50\n",
            "235/235 [==============================] - 2s 8ms/step - loss: 0.0932 - val_loss: 0.0921\n",
            "Epoch 28/50\n",
            "235/235 [==============================] - 2s 8ms/step - loss: 0.0932 - val_loss: 0.0921\n",
            "Epoch 29/50\n",
            "235/235 [==============================] - 2s 8ms/step - loss: 0.0931 - val_loss: 0.0920\n",
            "Epoch 30/50\n",
            "235/235 [==============================] - 2s 9ms/step - loss: 0.0931 - val_loss: 0.0920\n",
            "Epoch 31/50\n",
            "235/235 [==============================] - 3s 12ms/step - loss: 0.0931 - val_loss: 0.0919\n",
            "Epoch 32/50\n",
            "235/235 [==============================] - 2s 8ms/step - loss: 0.0930 - val_loss: 0.0919\n",
            "Epoch 33/50\n",
            "235/235 [==============================] - 2s 8ms/step - loss: 0.0930 - val_loss: 0.0920\n",
            "Epoch 34/50\n",
            "235/235 [==============================] - 2s 8ms/step - loss: 0.0930 - val_loss: 0.0918\n",
            "Epoch 35/50\n",
            "235/235 [==============================] - 2s 8ms/step - loss: 0.0929 - val_loss: 0.0919\n",
            "Epoch 36/50\n",
            "235/235 [==============================] - 2s 8ms/step - loss: 0.0929 - val_loss: 0.0918\n",
            "Epoch 37/50\n",
            "235/235 [==============================] - 3s 11ms/step - loss: 0.0929 - val_loss: 0.0917\n",
            "Epoch 38/50\n",
            "235/235 [==============================] - 2s 10ms/step - loss: 0.0929 - val_loss: 0.0919\n",
            "Epoch 39/50\n",
            "235/235 [==============================] - 2s 8ms/step - loss: 0.0929 - val_loss: 0.0920\n",
            "Epoch 40/50\n",
            "235/235 [==============================] - 2s 8ms/step - loss: 0.0928 - val_loss: 0.0917\n",
            "Epoch 41/50\n",
            "235/235 [==============================] - 2s 8ms/step - loss: 0.0928 - val_loss: 0.0917\n",
            "Epoch 42/50\n",
            "235/235 [==============================] - 2s 7ms/step - loss: 0.0928 - val_loss: 0.0917\n",
            "Epoch 43/50\n",
            "235/235 [==============================] - 2s 8ms/step - loss: 0.0928 - val_loss: 0.0917\n",
            "Epoch 44/50\n",
            "235/235 [==============================] - 4s 18ms/step - loss: 0.0928 - val_loss: 0.0917\n",
            "Epoch 45/50\n",
            "235/235 [==============================] - 2s 8ms/step - loss: 0.0927 - val_loss: 0.0916\n",
            "Epoch 46/50\n",
            "235/235 [==============================] - 2s 8ms/step - loss: 0.0927 - val_loss: 0.0916\n",
            "Epoch 47/50\n",
            "235/235 [==============================] - 2s 8ms/step - loss: 0.0927 - val_loss: 0.0916\n",
            "Epoch 48/50\n",
            "235/235 [==============================] - 2s 8ms/step - loss: 0.0927 - val_loss: 0.0916\n",
            "Epoch 49/50\n",
            "235/235 [==============================] - 2s 8ms/step - loss: 0.0927 - val_loss: 0.0916\n",
            "Epoch 50/50\n",
            "235/235 [==============================] - 3s 12ms/step - loss: 0.0927 - val_loss: 0.0916\n"
          ]
        },
        {
          "output_type": "execute_result",
          "data": {
            "text/plain": [
              "<keras.src.callbacks.History at 0x7d8a4dc4be80>"
            ]
          },
          "metadata": {},
          "execution_count": 7
        }
      ]
    },
    {
      "cell_type": "markdown",
      "source": [
        "# visualize"
      ],
      "metadata": {
        "id": "LZGYDZNgWWsQ"
      }
    },
    {
      "cell_type": "code",
      "source": [
        "encoded_imgs = encoder.predict(x_test)\n",
        "decoded_imgs = decoder.predict(encoded_imgs)"
      ],
      "metadata": {
        "colab": {
          "base_uri": "https://localhost:8080/"
        },
        "id": "UytTKw5JWX1m",
        "outputId": "34849f1b-2311-4f70-8a3a-9e4adebd1b91"
      },
      "execution_count": 8,
      "outputs": [
        {
          "output_type": "stream",
          "name": "stdout",
          "text": [
            "313/313 [==============================] - 0s 1ms/step\n",
            "313/313 [==============================] - 0s 1ms/step\n"
          ]
        }
      ]
    },
    {
      "cell_type": "code",
      "source": [
        "import matplotlib.pyplot as plt\n",
        "\n",
        "n = 10  # How many digits we will display\n",
        "plt.figure(figsize=(20, 4))\n",
        "for i in range(n):\n",
        "    # Display original\n",
        "    ax = plt.subplot(2, n, i + 1)\n",
        "    plt.imshow(x_test[i].reshape(28, 28))\n",
        "    plt.gray()\n",
        "    ax.get_xaxis().set_visible(False)\n",
        "    ax.get_yaxis().set_visible(False)\n",
        "\n",
        "    # Display reconstruction\n",
        "    ax = plt.subplot(2, n, i + 1 + n)\n",
        "    plt.imshow(decoded_imgs[i].reshape(28, 28))\n",
        "    plt.gray()\n",
        "    ax.get_xaxis().set_visible(False)\n",
        "    ax.get_yaxis().set_visible(False)\n",
        "\n",
        "plt.show()"
      ],
      "metadata": {
        "colab": {
          "base_uri": "https://localhost:8080/",
          "height": 285
        },
        "id": "tGmA4gjWWX6S",
        "outputId": "d204f2bf-5e55-4073-abdb-dafd049e8977"
      },
      "execution_count": 9,
      "outputs": [
        {
          "output_type": "display_data",
          "data": {
            "text/plain": [
              "<Figure size 2000x400 with 20 Axes>"
            ],
            "image/png": "[encoded data removed]"
          },
          "metadata": {}
        }
      ]
    },
    {
      "cell_type": "markdown",
      "source": [
        "# Adding a sparsity constraint on the encoded representations"
      ],
      "metadata": {
        "id": "r_xl02GTZePs"
      }
    },
    {
      "cell_type": "code",
      "source": [
        "from keras import regularizers\n",
        "\n",
        "encoding_dim = 32\n",
        "input_img = keras.Input(shape=(784,))\n",
        "\n",
        "# Add a Dense layer with a L1 activity regularizer\n",
        "encoded = layers.Dense(encoding_dim, activation='relu',\n",
        "                activity_regularizer=regularizers.l1(10e-5))(input_img)\n",
        "decoded = layers.Dense(784, activation='sigmoid')(encoded)\n",
        "\n",
        "autoencoder = keras.Model(input_img, decoded)"
      ],
      "metadata": {
        "id": "x7nz3HoKZg7m"
      },
      "execution_count": 10,
      "outputs": []
    },
    {
      "cell_type": "code",
      "source": [
        "encoder = keras.Model(input_img, encoded)\n",
        "encoded_input = keras.Input(shape=(encoding_dim,))\n",
        "decoder_layer = autoencoder.layers[-1]\n",
        "decoder = keras.Model(encoded_input, decoder_layer(encoded_input))"
      ],
      "metadata": {
        "id": "3aswERiHZg9h"
      },
      "execution_count": 11,
      "outputs": []
    },
    {
      "cell_type": "code",
      "source": [
        "autoencoder.compile(optimizer='adam', loss='binary_crossentropy')"
      ],
      "metadata": {
        "id": "Sa_cWa_6Zg_6"
      },
      "execution_count": 12,
      "outputs": []
    },
    {
      "cell_type": "code",
      "source": [
        "from keras.datasets import mnist\n",
        "import numpy as np\n",
        "\n",
        "(x_train, _), (x_test, _) = mnist.load_data()"
      ],
      "metadata": {
        "id": "r2SaPJGRZhCP"
      },
      "execution_count": 13,
      "outputs": []
    },
    {
      "cell_type": "code",
      "source": [
        "x_train = x_train.astype('float32') / 255.\n",
        "x_test = x_test.astype('float32') / 255.\n",
        "\n",
        "x_train = x_train.reshape((len(x_train), np.prod(x_train.shape[1:])))\n",
        "x_test = x_test.reshape((len(x_test), np.prod(x_test.shape[1:])))\n",
        "\n",
        "print(x_train.shape)\n",
        "print(x_test.shape)"
      ],
      "metadata": {
        "colab": {
          "base_uri": "https://localhost:8080/"
        },
        "id": "UGhNUgRsZ8ir",
        "outputId": "4288c766-6a09-4168-f0e2-16a9de7f18e2"
      },
      "execution_count": 14,
      "outputs": [
        {
          "output_type": "stream",
          "name": "stdout",
          "text": [
            "(60000, 784)\n",
            "(10000, 784)\n"
          ]
        }
      ]
    },
    {
      "cell_type": "code",
      "source": [
        "autoencoder.fit(x_train, x_train,\n",
        "                epochs=50,        # epochs=100 (with the added regularization the model is less likely to overfit and can be trained longer)\n",
        "                batch_size=256,\n",
        "                shuffle=True,\n",
        "                validation_data=(x_test, x_test))"
      ],
      "metadata": {
        "colab": {
          "base_uri": "https://localhost:8080/"
        },
        "id": "V5SnWZa3Z8kv",
        "outputId": "e0fd2b60-d7b3-4d6e-b5bc-0bdd8a8f4a90"
      },
      "execution_count": 15,
      "outputs": [
        {
          "output_type": "stream",
          "name": "stdout",
          "text": [
            "Epoch 1/50\n",
            "235/235 [==============================] - 4s 12ms/step - loss: 0.2877 - val_loss: 0.2004\n",
            "Epoch 2/50\n",
            "235/235 [==============================] - 3s 13ms/step - loss: 0.1790 - val_loss: 0.1618\n",
            "Epoch 3/50\n",
            "235/235 [==============================] - 3s 15ms/step - loss: 0.1535 - val_loss: 0.1434\n",
            "Epoch 4/50\n",
            "235/235 [==============================] - 4s 17ms/step - loss: 0.1383 - val_loss: 0.1314\n",
            "Epoch 5/50\n",
            "235/235 [==============================] - 3s 12ms/step - loss: 0.1283 - val_loss: 0.1233\n",
            "Epoch 6/50\n",
            "235/235 [==============================] - 2s 10ms/step - loss: 0.1215 - val_loss: 0.1176\n",
            "Epoch 7/50\n",
            "235/235 [==============================] - 2s 8ms/step - loss: 0.1166 - val_loss: 0.1135\n",
            "Epoch 8/50\n",
            "235/235 [==============================] - 2s 11ms/step - loss: 0.1131 - val_loss: 0.1106\n",
            "Epoch 9/50\n",
            "235/235 [==============================] - 3s 11ms/step - loss: 0.1106 - val_loss: 0.1085\n",
            "Epoch 10/50\n",
            "235/235 [==============================] - 2s 9ms/step - loss: 0.1088 - val_loss: 0.1069\n",
            "Epoch 11/50\n",
            "235/235 [==============================] - 2s 8ms/step - loss: 0.1075 - val_loss: 0.1058\n",
            "Epoch 12/50\n",
            "235/235 [==============================] - 2s 8ms/step - loss: 0.1066 - val_loss: 0.1050\n",
            "Epoch 13/50\n",
            "235/235 [==============================] - 2s 8ms/step - loss: 0.1059 - val_loss: 0.1044\n",
            "Epoch 14/50\n",
            "235/235 [==============================] - 2s 8ms/step - loss: 0.1053 - val_loss: 0.1039\n",
            "Epoch 15/50\n",
            "235/235 [==============================] - 3s 13ms/step - loss: 0.1048 - val_loss: 0.1034\n",
            "Epoch 16/50\n",
            "235/235 [==============================] - 2s 8ms/step - loss: 0.1043 - val_loss: 0.1030\n",
            "Epoch 17/50\n",
            "235/235 [==============================] - 2s 8ms/step - loss: 0.1039 - val_loss: 0.1026\n",
            "Epoch 18/50\n",
            "235/235 [==============================] - 2s 8ms/step - loss: 0.1036 - val_loss: 0.1023\n",
            "Epoch 19/50\n",
            "235/235 [==============================] - 2s 8ms/step - loss: 0.1033 - val_loss: 0.1020\n",
            "Epoch 20/50\n",
            "235/235 [==============================] - 2s 8ms/step - loss: 0.1030 - val_loss: 0.1018\n",
            "Epoch 21/50\n",
            "235/235 [==============================] - 3s 11ms/step - loss: 0.1027 - val_loss: 0.1015\n",
            "Epoch 22/50\n",
            "235/235 [==============================] - 2s 10ms/step - loss: 0.1025 - val_loss: 0.1013\n",
            "Epoch 23/50\n",
            "235/235 [==============================] - 2s 8ms/step - loss: 0.1022 - val_loss: 0.1011\n",
            "Epoch 24/50\n",
            "235/235 [==============================] - 2s 8ms/step - loss: 0.1020 - val_loss: 0.1008\n",
            "Epoch 25/50\n",
            "235/235 [==============================] - 2s 8ms/step - loss: 0.1018 - val_loss: 0.1007\n",
            "Epoch 26/50\n",
            "235/235 [==============================] - 2s 8ms/step - loss: 0.1016 - val_loss: 0.1005\n",
            "Epoch 27/50\n",
            "235/235 [==============================] - 2s 8ms/step - loss: 0.1015 - val_loss: 0.1003\n",
            "Epoch 28/50\n",
            "235/235 [==============================] - 3s 13ms/step - loss: 0.1013 - val_loss: 0.1001\n",
            "Epoch 29/50\n",
            "235/235 [==============================] - 2s 8ms/step - loss: 0.1011 - val_loss: 0.1000\n",
            "Epoch 30/50\n",
            "235/235 [==============================] - 2s 8ms/step - loss: 0.1010 - val_loss: 0.0999\n",
            "Epoch 31/50\n",
            "235/235 [==============================] - 2s 8ms/step - loss: 0.1008 - val_loss: 0.0997\n",
            "Epoch 32/50\n",
            "235/235 [==============================] - 2s 8ms/step - loss: 0.1007 - val_loss: 0.0996\n",
            "Epoch 33/50\n",
            "235/235 [==============================] - 2s 8ms/step - loss: 0.1006 - val_loss: 0.0995\n",
            "Epoch 34/50\n",
            "235/235 [==============================] - 3s 11ms/step - loss: 0.1004 - val_loss: 0.0994\n",
            "Epoch 35/50\n",
            "235/235 [==============================] - 3s 11ms/step - loss: 0.1003 - val_loss: 0.0992\n",
            "Epoch 36/50\n",
            "235/235 [==============================] - 2s 8ms/step - loss: 0.1002 - val_loss: 0.0992\n",
            "Epoch 37/50\n",
            "235/235 [==============================] - 2s 8ms/step - loss: 0.1001 - val_loss: 0.0990\n",
            "Epoch 38/50\n",
            "235/235 [==============================] - 2s 8ms/step - loss: 0.1000 - val_loss: 0.0990\n",
            "Epoch 39/50\n",
            "235/235 [==============================] - 2s 8ms/step - loss: 0.0999 - val_loss: 0.0988\n",
            "Epoch 40/50\n",
            "235/235 [==============================] - 3s 13ms/step - loss: 0.0998 - val_loss: 0.0987\n",
            "Epoch 41/50\n",
            "235/235 [==============================] - 3s 12ms/step - loss: 0.0997 - val_loss: 0.0987\n",
            "Epoch 42/50\n",
            "235/235 [==============================] - 2s 8ms/step - loss: 0.0996 - val_loss: 0.0986\n",
            "Epoch 43/50\n",
            "235/235 [==============================] - 2s 8ms/step - loss: 0.0995 - val_loss: 0.0985\n",
            "Epoch 44/50\n",
            "235/235 [==============================] - 2s 8ms/step - loss: 0.0994 - val_loss: 0.0984\n",
            "Epoch 45/50\n",
            "235/235 [==============================] - 2s 8ms/step - loss: 0.0993 - val_loss: 0.0983\n",
            "Epoch 46/50\n",
            "235/235 [==============================] - 2s 8ms/step - loss: 0.0993 - val_loss: 0.0982\n",
            "Epoch 47/50\n",
            "235/235 [==============================] - 3s 12ms/step - loss: 0.0992 - val_loss: 0.0981\n",
            "Epoch 48/50\n",
            "235/235 [==============================] - 2s 9ms/step - loss: 0.0991 - val_loss: 0.0981\n",
            "Epoch 49/50\n",
            "235/235 [==============================] - 2s 8ms/step - loss: 0.0990 - val_loss: 0.0980\n",
            "Epoch 50/50\n",
            "235/235 [==============================] - 2s 8ms/step - loss: 0.0990 - val_loss: 0.0980\n"
          ]
        },
        {
          "output_type": "execute_result",
          "data": {
            "text/plain": [
              "<keras.src.callbacks.History at 0x7d8a2df921a0>"
            ]
          },
          "metadata": {},
          "execution_count": 15
        }
      ]
    },
    {
      "cell_type": "code",
      "source": [
        "encoded_imgs = encoder.predict(x_test)\n",
        "decoded_imgs = decoder.predict(encoded_imgs)"
      ],
      "metadata": {
        "colab": {
          "base_uri": "https://localhost:8080/"
        },
        "id": "dmt_NuMJaCnK",
        "outputId": "fde9d06f-84ba-4204-ced5-3930d5b05a2e"
      },
      "execution_count": 16,
      "outputs": [
        {
          "output_type": "stream",
          "name": "stdout",
          "text": [
            "313/313 [==============================] - 0s 1ms/step\n",
            "313/313 [==============================] - 0s 1ms/step\n"
          ]
        }
      ]
    },
    {
      "cell_type": "code",
      "source": [
        "import matplotlib.pyplot as plt\n",
        "\n",
        "n = 10  # How many digits we will display\n",
        "plt.figure(figsize=(20, 4))\n",
        "for i in range(n):\n",
        "    # Display original\n",
        "    ax = plt.subplot(2, n, i + 1)\n",
        "    plt.imshow(x_test[i].reshape(28, 28))\n",
        "    plt.gray()\n",
        "    ax.get_xaxis().set_visible(False)\n",
        "    ax.get_yaxis().set_visible(False)\n",
        "\n",
        "    # Display reconstruction\n",
        "    ax = plt.subplot(2, n, i + 1 + n)\n",
        "    plt.imshow(decoded_imgs[i].reshape(28, 28))\n",
        "    plt.gray()\n",
        "    ax.get_xaxis().set_visible(False)\n",
        "    ax.get_yaxis().set_visible(False)\n",
        "\n",
        "plt.show()"
      ],
      "metadata": {
        "colab": {
          "base_uri": "https://localhost:8080/",
          "height": 285
        },
        "id": "g--PmEXVaEdN",
        "outputId": "10605114-a09d-4db6-a6b1-897dd899b074"
      },
      "execution_count": 17,
      "outputs": [
        {
          "output_type": "display_data",
          "data": {
            "text/plain": [
              "<Figure size 2000x400 with 20 Axes>"
            ],
            "image/png": "[encoded data removed]"
          },
          "metadata": {}
        }
      ]
    },
    {
      "cell_type": "markdown",
      "source": [
        "# Deep autoencoder"
      ],
      "metadata": {
        "id": "BjQ5guKgj7H5"
      }
    },
    {
      "cell_type": "code",
      "source": [
        "encoding_dim = 32\n",
        "input_img = keras.Input(shape=(784,))     # input image\n",
        "\n",
        "encoded = layers.Dense(128, activation='relu')(input_img)\n",
        "encoded = layers.Dense(64, activation='relu')(encoded)\n",
        "encoded = layers.Dense(32, activation='relu')(encoded)\n",
        "\n",
        "decoded = layers.Dense(64, activation='relu')(encoded)\n",
        "decoded = layers.Dense(128, activation='relu')(decoded)\n",
        "decoded = layers.Dense(784, activation='sigmoid')(decoded)"
      ],
      "metadata": {
        "id": "YmDNdJE3aEfP"
      },
      "execution_count": 18,
      "outputs": []
    },
    {
      "cell_type": "code",
      "source": [
        "autoencoder = keras.Model(input_img, decoded)\n",
        "autoencoder.compile(optimizer='adam', loss='binary_crossentropy')\n",
        "\n",
        "autoencoder.fit(x_train, x_train,\n",
        "                epochs=100,\n",
        "                batch_size=256,\n",
        "                shuffle=True,\n",
        "                validation_data=(x_test, x_test))"
      ],
      "metadata": {
        "colab": {
          "base_uri": "https://localhost:8080/"
        },
        "id": "N3k6qUduaEhm",
        "outputId": "c97ce8c7-4dca-408b-a1aa-a4eff84a82c4"
      },
      "execution_count": 19,
      "outputs": [
        {
          "output_type": "stream",
          "name": "stdout",
          "text": [
            "Epoch 1/100\n",
            "235/235 [==============================] - 5s 15ms/step - loss: 0.2484 - val_loss: 0.1667\n",
            "Epoch 2/100\n",
            "235/235 [==============================] - 4s 16ms/step - loss: 0.1497 - val_loss: 0.1370\n",
            "Epoch 3/100\n",
            "235/235 [==============================] - 4s 19ms/step - loss: 0.1327 - val_loss: 0.1260\n",
            "Epoch 4/100\n",
            "235/235 [==============================] - 5s 20ms/step - loss: 0.1231 - val_loss: 0.1179\n",
            "Epoch 5/100\n",
            "235/235 [==============================] - 4s 16ms/step - loss: 0.1173 - val_loss: 0.1140\n",
            "Epoch 6/100\n",
            "235/235 [==============================] - 5s 22ms/step - loss: 0.1130 - val_loss: 0.1099\n",
            "Epoch 7/100\n",
            "235/235 [==============================] - 3s 14ms/step - loss: 0.1096 - val_loss: 0.1068\n",
            "Epoch 8/100\n",
            "235/235 [==============================] - 3s 14ms/step - loss: 0.1064 - val_loss: 0.1040\n",
            "Epoch 9/100\n",
            "235/235 [==============================] - 5s 23ms/step - loss: 0.1039 - val_loss: 0.1018\n",
            "Epoch 10/100\n",
            "235/235 [==============================] - 3s 13ms/step - loss: 0.1021 - val_loss: 0.1005\n",
            "Epoch 11/100\n",
            "235/235 [==============================] - 4s 19ms/step - loss: 0.1007 - val_loss: 0.0990\n",
            "Epoch 12/100\n",
            "235/235 [==============================] - 6s 24ms/step - loss: 0.0996 - val_loss: 0.0977\n",
            "Epoch 13/100\n",
            "235/235 [==============================] - 5s 21ms/step - loss: 0.0986 - val_loss: 0.0970\n",
            "Epoch 14/100\n",
            "235/235 [==============================] - 3s 14ms/step - loss: 0.0977 - val_loss: 0.0965\n",
            "Epoch 15/100\n",
            "235/235 [==============================] - 4s 18ms/step - loss: 0.0969 - val_loss: 0.0955\n",
            "Epoch 16/100\n",
            "235/235 [==============================] - 4s 19ms/step - loss: 0.0962 - val_loss: 0.0948\n",
            "Epoch 17/100\n",
            "235/235 [==============================] - 4s 15ms/step - loss: 0.0956 - val_loss: 0.0944\n",
            "Epoch 18/100\n",
            "235/235 [==============================] - 3s 14ms/step - loss: 0.0949 - val_loss: 0.0939\n",
            "Epoch 19/100\n",
            "235/235 [==============================] - 4s 18ms/step - loss: 0.0943 - val_loss: 0.0931\n",
            "Epoch 20/100\n",
            "235/235 [==============================] - 3s 14ms/step - loss: 0.0937 - val_loss: 0.0927\n",
            "Epoch 21/100\n",
            "235/235 [==============================] - 4s 16ms/step - loss: 0.0932 - val_loss: 0.0921\n",
            "Epoch 22/100\n",
            "235/235 [==============================] - 4s 16ms/step - loss: 0.0926 - val_loss: 0.0917\n",
            "Epoch 23/100\n",
            "235/235 [==============================] - 4s 16ms/step - loss: 0.0922 - val_loss: 0.0911\n",
            "Epoch 24/100\n",
            "235/235 [==============================] - 3s 14ms/step - loss: 0.0917 - val_loss: 0.0908\n",
            "Epoch 25/100\n",
            "235/235 [==============================] - 3s 14ms/step - loss: 0.0913 - val_loss: 0.0904\n",
            "Epoch 26/100\n",
            "235/235 [==============================] - 5s 19ms/step - loss: 0.0910 - val_loss: 0.0901\n",
            "Epoch 27/100\n",
            "235/235 [==============================] - 3s 14ms/step - loss: 0.0906 - val_loss: 0.0899\n",
            "Epoch 28/100\n",
            "235/235 [==============================] - 3s 13ms/step - loss: 0.0904 - val_loss: 0.0898\n",
            "Epoch 29/100\n",
            "235/235 [==============================] - 3s 14ms/step - loss: 0.0901 - val_loss: 0.0895\n",
            "Epoch 30/100\n",
            "235/235 [==============================] - 5s 19ms/step - loss: 0.0899 - val_loss: 0.0891\n",
            "Epoch 31/100\n",
            "235/235 [==============================] - 3s 14ms/step - loss: 0.0897 - val_loss: 0.0892\n",
            "Epoch 32/100\n",
            "235/235 [==============================] - 3s 14ms/step - loss: 0.0895 - val_loss: 0.0890\n",
            "Epoch 33/100\n",
            "235/235 [==============================] - 3s 15ms/step - loss: 0.0893 - val_loss: 0.0884\n",
            "Epoch 34/100\n",
            "235/235 [==============================] - 4s 18ms/step - loss: 0.0891 - val_loss: 0.0886\n",
            "Epoch 35/100\n",
            "235/235 [==============================] - 3s 14ms/step - loss: 0.0890 - val_loss: 0.0882\n",
            "Epoch 36/100\n",
            "235/235 [==============================] - 3s 14ms/step - loss: 0.0888 - val_loss: 0.0883\n",
            "Epoch 37/100\n",
            "235/235 [==============================] - 4s 16ms/step - loss: 0.0886 - val_loss: 0.0881\n",
            "Epoch 38/100\n",
            "235/235 [==============================] - 4s 16ms/step - loss: 0.0885 - val_loss: 0.0879\n",
            "Epoch 39/100\n",
            "235/235 [==============================] - 4s 17ms/step - loss: 0.0884 - val_loss: 0.0877\n",
            "Epoch 40/100\n",
            "235/235 [==============================] - 4s 16ms/step - loss: 0.0882 - val_loss: 0.0877\n",
            "Epoch 41/100\n",
            "235/235 [==============================] - 5s 19ms/step - loss: 0.0881 - val_loss: 0.0875\n",
            "Epoch 42/100\n",
            "235/235 [==============================] - 3s 14ms/step - loss: 0.0880 - val_loss: 0.0872\n",
            "Epoch 43/100\n",
            "235/235 [==============================] - 3s 14ms/step - loss: 0.0879 - val_loss: 0.0872\n",
            "Epoch 44/100\n",
            "235/235 [==============================] - 4s 16ms/step - loss: 0.0877 - val_loss: 0.0872\n",
            "Epoch 45/100\n",
            "235/235 [==============================] - 4s 17ms/step - loss: 0.0876 - val_loss: 0.0870\n",
            "Epoch 46/100\n",
            "235/235 [==============================] - 3s 15ms/step - loss: 0.0875 - val_loss: 0.0869\n",
            "Epoch 47/100\n",
            "235/235 [==============================] - 3s 15ms/step - loss: 0.0874 - val_loss: 0.0869\n",
            "Epoch 48/100\n",
            "235/235 [==============================] - 5s 20ms/step - loss: 0.0872 - val_loss: 0.0868\n",
            "Epoch 49/100\n",
            "235/235 [==============================] - 3s 15ms/step - loss: 0.0872 - val_loss: 0.0868\n",
            "Epoch 50/100\n",
            "235/235 [==============================] - 4s 16ms/step - loss: 0.0871 - val_loss: 0.0868\n",
            "Epoch 51/100\n",
            "235/235 [==============================] - 4s 16ms/step - loss: 0.0869 - val_loss: 0.0865\n",
            "Epoch 52/100\n",
            "235/235 [==============================] - 4s 17ms/step - loss: 0.0868 - val_loss: 0.0862\n",
            "Epoch 53/100\n",
            "235/235 [==============================] - 3s 13ms/step - loss: 0.0867 - val_loss: 0.0864\n",
            "Epoch 54/100\n",
            "235/235 [==============================] - 3s 14ms/step - loss: 0.0866 - val_loss: 0.0863\n",
            "Epoch 55/100\n",
            "235/235 [==============================] - 4s 17ms/step - loss: 0.0864 - val_loss: 0.0858\n",
            "Epoch 56/100\n",
            "235/235 [==============================] - 4s 16ms/step - loss: 0.0862 - val_loss: 0.0859\n",
            "Epoch 57/100\n",
            "235/235 [==============================] - 3s 14ms/step - loss: 0.0860 - val_loss: 0.0857\n",
            "Epoch 58/100\n",
            "235/235 [==============================] - 3s 13ms/step - loss: 0.0858 - val_loss: 0.0855\n",
            "Epoch 59/100\n",
            "235/235 [==============================] - 5s 20ms/step - loss: 0.0857 - val_loss: 0.0853\n",
            "Epoch 60/100\n",
            "235/235 [==============================] - 3s 14ms/step - loss: 0.0856 - val_loss: 0.0851\n",
            "Epoch 61/100\n",
            "235/235 [==============================] - 3s 13ms/step - loss: 0.0855 - val_loss: 0.0855\n",
            "Epoch 62/100\n",
            "235/235 [==============================] - 4s 16ms/step - loss: 0.0854 - val_loss: 0.0851\n",
            "Epoch 63/100\n",
            "235/235 [==============================] - 5s 20ms/step - loss: 0.0853 - val_loss: 0.0848\n",
            "Epoch 64/100\n",
            "235/235 [==============================] - 3s 14ms/step - loss: 0.0852 - val_loss: 0.0848\n",
            "Epoch 65/100\n",
            "235/235 [==============================] - 3s 14ms/step - loss: 0.0851 - val_loss: 0.0848\n",
            "Epoch 66/100\n",
            "235/235 [==============================] - 4s 18ms/step - loss: 0.0851 - val_loss: 0.0848\n",
            "Epoch 67/100\n",
            "235/235 [==============================] - 4s 16ms/step - loss: 0.0850 - val_loss: 0.0848\n",
            "Epoch 68/100\n",
            "235/235 [==============================] - 3s 14ms/step - loss: 0.0849 - val_loss: 0.0847\n",
            "Epoch 69/100\n",
            "235/235 [==============================] - 3s 14ms/step - loss: 0.0849 - val_loss: 0.0848\n",
            "Epoch 70/100\n",
            "235/235 [==============================] - 5s 20ms/step - loss: 0.0848 - val_loss: 0.0845\n",
            "Epoch 71/100\n",
            "235/235 [==============================] - 3s 14ms/step - loss: 0.0847 - val_loss: 0.0844\n",
            "Epoch 72/100\n",
            "235/235 [==============================] - 4s 17ms/step - loss: 0.0847 - val_loss: 0.0845\n",
            "Epoch 73/100\n",
            "235/235 [==============================] - 6s 23ms/step - loss: 0.0846 - val_loss: 0.0843\n",
            "Epoch 74/100\n",
            "235/235 [==============================] - 4s 15ms/step - loss: 0.0846 - val_loss: 0.0845\n",
            "Epoch 75/100\n",
            "235/235 [==============================] - 3s 14ms/step - loss: 0.0845 - val_loss: 0.0843\n",
            "Epoch 76/100\n",
            "235/235 [==============================] - 3s 14ms/step - loss: 0.0845 - val_loss: 0.0844\n",
            "Epoch 77/100\n",
            "235/235 [==============================] - 5s 19ms/step - loss: 0.0845 - val_loss: 0.0841\n",
            "Epoch 78/100\n",
            "235/235 [==============================] - 3s 13ms/step - loss: 0.0844 - val_loss: 0.0843\n",
            "Epoch 79/100\n",
            "235/235 [==============================] - 3s 14ms/step - loss: 0.0844 - val_loss: 0.0841\n",
            "Epoch 80/100\n",
            "235/235 [==============================] - 3s 14ms/step - loss: 0.0843 - val_loss: 0.0840\n",
            "Epoch 81/100\n",
            "235/235 [==============================] - 5s 19ms/step - loss: 0.0843 - val_loss: 0.0843\n",
            "Epoch 82/100\n",
            "235/235 [==============================] - 3s 14ms/step - loss: 0.0843 - val_loss: 0.0841\n",
            "Epoch 83/100\n",
            "235/235 [==============================] - 3s 14ms/step - loss: 0.0842 - val_loss: 0.0839\n",
            "Epoch 84/100\n",
            "235/235 [==============================] - 4s 16ms/step - loss: 0.0841 - val_loss: 0.0839\n",
            "Epoch 85/100\n",
            "235/235 [==============================] - 4s 18ms/step - loss: 0.0841 - val_loss: 0.0839\n",
            "Epoch 86/100\n",
            "235/235 [==============================] - 3s 15ms/step - loss: 0.0841 - val_loss: 0.0839\n",
            "Epoch 87/100\n",
            "235/235 [==============================] - 3s 14ms/step - loss: 0.0840 - val_loss: 0.0839\n",
            "Epoch 88/100\n",
            "235/235 [==============================] - 4s 18ms/step - loss: 0.0840 - val_loss: 0.0836\n",
            "Epoch 89/100\n",
            "235/235 [==============================] - 4s 15ms/step - loss: 0.0840 - val_loss: 0.0839\n",
            "Epoch 90/100\n",
            "235/235 [==============================] - 3s 14ms/step - loss: 0.0839 - val_loss: 0.0838\n",
            "Epoch 91/100\n",
            "235/235 [==============================] - 3s 14ms/step - loss: 0.0839 - val_loss: 0.0837\n",
            "Epoch 92/100\n",
            "235/235 [==============================] - 5s 20ms/step - loss: 0.0838 - val_loss: 0.0837\n",
            "Epoch 93/100\n",
            "235/235 [==============================] - 3s 15ms/step - loss: 0.0839 - val_loss: 0.0834\n",
            "Epoch 94/100\n",
            "235/235 [==============================] - 3s 15ms/step - loss: 0.0838 - val_loss: 0.0836\n",
            "Epoch 95/100\n",
            "235/235 [==============================] - 4s 17ms/step - loss: 0.0837 - val_loss: 0.0838\n",
            "Epoch 96/100\n",
            "235/235 [==============================] - 4s 17ms/step - loss: 0.0838 - val_loss: 0.0835\n",
            "Epoch 97/100\n",
            "235/235 [==============================] - 3s 14ms/step - loss: 0.0837 - val_loss: 0.0835\n",
            "Epoch 98/100\n",
            "235/235 [==============================] - 3s 14ms/step - loss: 0.0837 - val_loss: 0.0834\n",
            "Epoch 99/100\n",
            "235/235 [==============================] - 4s 18ms/step - loss: 0.0837 - val_loss: 0.0835\n",
            "Epoch 100/100\n",
            "235/235 [==============================] - 4s 16ms/step - loss: 0.0836 - val_loss: 0.0836\n"
          ]
        },
        {
          "output_type": "execute_result",
          "data": {
            "text/plain": [
              "<keras.src.callbacks.History at 0x7d8a493e8b50>"
            ]
          },
          "metadata": {},
          "execution_count": 19
        }
      ]
    },
    {
      "cell_type": "markdown",
      "source": [
        "# Convolutional autoencoder"
      ],
      "metadata": {
        "id": "XzExH9SbkR80"
      }
    },
    {
      "cell_type": "code",
      "source": [
        "import keras\n",
        "from keras import layers\n",
        "\n",
        "input_img = keras.Input(shape=(28, 28, 1))\n",
        "\n",
        "x = layers.Conv2D(16, (3, 3), activation='relu', padding='same')(input_img)\n",
        "x = layers.MaxPooling2D((2, 2), padding='same')(x)\n",
        "x = layers.Conv2D(8, (3, 3), activation='relu', padding='same')(x)\n",
        "x = layers.MaxPooling2D((2, 2), padding='same')(x)\n",
        "x = layers.Conv2D(8, (3, 3), activation='relu', padding='same')(x)\n",
        "encoded = layers.MaxPooling2D((2, 2), padding='same')(x)\n",
        "\n",
        "# at this point the representation is (4, 4, 8) i.e. 128-dimensional\n",
        "\n",
        "x = layers.Conv2D(8, (3, 3), activation='relu', padding='same')(encoded)\n",
        "x = layers.UpSampling2D((2, 2))(x)\n",
        "x = layers.Conv2D(8, (3, 3), activation='relu', padding='same')(x)\n",
        "x = layers.UpSampling2D((2, 2))(x)\n",
        "x = layers.Conv2D(16, (3, 3), activation='relu')(x)\n",
        "x = layers.UpSampling2D((2, 2))(x)\n",
        "decoded = layers.Conv2D(1, (3, 3), activation='sigmoid', padding='same')(x)\n",
        "\n",
        "autoencoder = keras.Model(input_img, decoded)\n",
        "autoencoder.compile(optimizer='adam', loss='binary_crossentropy')"
      ],
      "metadata": {
        "id": "j6FHTFWQaEja"
      },
      "execution_count": 20,
      "outputs": []
    },
    {
      "cell_type": "code",
      "source": [
        "from keras.datasets import mnist\n",
        "import numpy as np\n",
        "\n",
        "(x_train, _), (x_test, _) = mnist.load_data()\n",
        "\n",
        "x_train = x_train.astype('float32') / 255.\n",
        "x_test = x_test.astype('float32') / 255.\n",
        "x_train = np.reshape(x_train, (len(x_train), 28, 28, 1))\n",
        "x_test = np.reshape(x_test, (len(x_test), 28, 28, 1))"
      ],
      "metadata": {
        "id": "N60acKrakW4k"
      },
      "execution_count": 21,
      "outputs": []
    },
    {
      "cell_type": "code",
      "source": [
        "!tensorboard --logdir=/tmp/autoencoder"
      ],
      "metadata": {
        "colab": {
          "base_uri": "https://localhost:8080/"
        },
        "id": "6u1FzmtTkZR4",
        "outputId": "ffc99e1b-9d3f-4b14-b701-884190f51af0"
      },
      "execution_count": 22,
      "outputs": [
        {
          "output_type": "stream",
          "name": "stdout",
          "text": [
            "2023-12-18 01:45:19.257618: E external/local_xla/xla/stream_executor/cuda/cuda_dnn.cc:9261] Unable to register cuDNN factory: Attempting to register factory for plugin cuDNN when one has already been registered\n",
            "2023-12-18 01:45:19.257741: E external/local_xla/xla/stream_executor/cuda/cuda_fft.cc:607] Unable to register cuFFT factory: Attempting to register factory for plugin cuFFT when one has already been registered\n",
            "2023-12-18 01:45:19.261665: E external/local_xla/xla/stream_executor/cuda/cuda_blas.cc:1515] Unable to register cuBLAS factory: Attempting to register factory for plugin cuBLAS when one has already been registered\n",
            "2023-12-18 01:45:20.560526: W tensorflow/compiler/tf2tensorrt/utils/py_utils.cc:38] TF-TRT Warning: Could not find TensorRT\n",
            "\n",
            "NOTE: Using experimental fast data loading logic. To disable, pass\n",
            "    \"--load_fast=false\" and report issues on GitHub. More details:\n",
            "    https://github.com/tensorflow/tensorboard/issues/4784\n",
            "\n",
            "Serving TensorBoard on localhost; to expose to the network, use a proxy or pass --bind_all\n",
            "TensorBoard 2.15.1 at http://localhost:6006/ (Press CTRL+C to quit)\n"
          ]
        }
      ]
    },
    {
      "cell_type": "code",
      "source": [
        "from keras.callbacks import TensorBoard\n",
        "\n",
        "autoencoder.fit(x_train, x_train,\n",
        "                epochs=50,\n",
        "                batch_size=128,\n",
        "                shuffle=True,\n",
        "                validation_data=(x_test, x_test),\n",
        "                callbacks=[TensorBoard(log_dir='/tmp/autoencoder')])"
      ],
      "metadata": {
        "colab": {
          "base_uri": "https://localhost:8080/"
        },
        "id": "qUvOpkM7kZTt",
        "outputId": "bc79edae-2469-488d-df28-e7437968873f"
      },
      "execution_count": 23,
      "outputs": [
        {
          "output_type": "stream",
          "name": "stdout",
          "text": [
            "Epoch 1/50\n",
            "469/469 [==============================] - 72s 150ms/step - loss: 0.2167 - val_loss: 0.1419\n",
            "Epoch 2/50\n",
            "469/469 [==============================] - 59s 126ms/step - loss: 0.1341 - val_loss: 0.1263\n",
            "Epoch 3/50\n",
            "469/469 [==============================] - 64s 135ms/step - loss: 0.1229 - val_loss: 0.1179\n",
            "Epoch 4/50\n",
            "469/469 [==============================] - 80s 172ms/step - loss: 0.1165 - val_loss: 0.1135\n",
            "Epoch 5/50\n",
            "469/469 [==============================] - 73s 156ms/step - loss: 0.1125 - val_loss: 0.1097\n",
            "Epoch 6/50\n",
            "469/469 [==============================] - 61s 129ms/step - loss: 0.1098 - val_loss: 0.1075\n",
            "Epoch 7/50\n",
            "469/469 [==============================] - 64s 136ms/step - loss: 0.1078 - val_loss: 0.1058\n",
            "Epoch 8/50\n",
            "469/469 [==============================] - 61s 131ms/step - loss: 0.1062 - val_loss: 0.1043\n",
            "Epoch 9/50\n",
            "469/469 [==============================] - 61s 130ms/step - loss: 0.1050 - val_loss: 0.1030\n",
            "Epoch 10/50\n",
            "469/469 [==============================] - 59s 127ms/step - loss: 0.1038 - val_loss: 0.1025\n",
            "Epoch 11/50\n",
            "469/469 [==============================] - 63s 134ms/step - loss: 0.1029 - val_loss: 0.1012\n",
            "Epoch 12/50\n",
            "469/469 [==============================] - 60s 128ms/step - loss: 0.1020 - val_loss: 0.1005\n",
            "Epoch 13/50\n",
            "469/469 [==============================] - 62s 133ms/step - loss: 0.1012 - val_loss: 0.0998\n",
            "Epoch 14/50\n",
            "469/469 [==============================] - 63s 134ms/step - loss: 0.1004 - val_loss: 0.0990\n",
            "Epoch 15/50\n",
            "469/469 [==============================] - 60s 128ms/step - loss: 0.0997 - val_loss: 0.0982\n",
            "Epoch 16/50\n",
            "469/469 [==============================] - 63s 134ms/step - loss: 0.0991 - val_loss: 0.0980\n",
            "Epoch 17/50\n",
            "469/469 [==============================] - 59s 127ms/step - loss: 0.0985 - val_loss: 0.0971\n",
            "Epoch 18/50\n",
            "469/469 [==============================] - 63s 134ms/step - loss: 0.0980 - val_loss: 0.0967\n",
            "Epoch 19/50\n",
            "469/469 [==============================] - 60s 128ms/step - loss: 0.0975 - val_loss: 0.0962\n",
            "Epoch 20/50\n",
            "469/469 [==============================] - 62s 132ms/step - loss: 0.0971 - val_loss: 0.0961\n",
            "Epoch 21/50\n",
            "469/469 [==============================] - 62s 132ms/step - loss: 0.0967 - val_loss: 0.0959\n",
            "Epoch 22/50\n",
            "469/469 [==============================] - 63s 134ms/step - loss: 0.0964 - val_loss: 0.0950\n",
            "Epoch 23/50\n",
            "469/469 [==============================] - 60s 128ms/step - loss: 0.0960 - val_loss: 0.0946\n",
            "Epoch 24/50\n",
            "469/469 [==============================] - 67s 142ms/step - loss: 0.0957 - val_loss: 0.0944\n",
            "Epoch 25/50\n",
            "469/469 [==============================] - 60s 128ms/step - loss: 0.0955 - val_loss: 0.0942\n",
            "Epoch 26/50\n",
            "469/469 [==============================] - 63s 134ms/step - loss: 0.0952 - val_loss: 0.0941\n",
            "Epoch 27/50\n",
            "469/469 [==============================] - 63s 135ms/step - loss: 0.0949 - val_loss: 0.0937\n",
            "Epoch 28/50\n",
            "469/469 [==============================] - 62s 133ms/step - loss: 0.0948 - val_loss: 0.0934\n",
            "Epoch 29/50\n",
            "469/469 [==============================] - 60s 129ms/step - loss: 0.0945 - val_loss: 0.0933\n",
            "Epoch 30/50\n",
            "469/469 [==============================] - 65s 138ms/step - loss: 0.0943 - val_loss: 0.0931\n",
            "Epoch 31/50\n",
            "469/469 [==============================] - 70s 150ms/step - loss: 0.0941 - val_loss: 0.0933\n",
            "Epoch 32/50\n",
            "469/469 [==============================] - 70s 150ms/step - loss: 0.0940 - val_loss: 0.0926\n",
            "Epoch 33/50\n",
            "469/469 [==============================] - 68s 146ms/step - loss: 0.0938 - val_loss: 0.0924\n",
            "Epoch 34/50\n",
            "469/469 [==============================] - 78s 167ms/step - loss: 0.0937 - val_loss: 0.0926\n",
            "Epoch 35/50\n",
            "469/469 [==============================] - 71s 152ms/step - loss: 0.0934 - val_loss: 0.0922\n",
            "Epoch 36/50\n",
            "469/469 [==============================] - 69s 146ms/step - loss: 0.0933 - val_loss: 0.0924\n",
            "Epoch 37/50\n",
            "469/469 [==============================] - 60s 128ms/step - loss: 0.0931 - val_loss: 0.0920\n",
            "Epoch 38/50\n",
            "469/469 [==============================] - 61s 131ms/step - loss: 0.0930 - val_loss: 0.0918\n",
            "Epoch 39/50\n",
            "469/469 [==============================] - 60s 127ms/step - loss: 0.0928 - val_loss: 0.0919\n",
            "Epoch 40/50\n",
            "469/469 [==============================] - 65s 138ms/step - loss: 0.0928 - val_loss: 0.0915\n",
            "Epoch 41/50\n",
            "469/469 [==============================] - 60s 128ms/step - loss: 0.0925 - val_loss: 0.0914\n",
            "Epoch 42/50\n",
            "469/469 [==============================] - 61s 130ms/step - loss: 0.0925 - val_loss: 0.0914\n",
            "Epoch 43/50\n",
            "469/469 [==============================] - 60s 128ms/step - loss: 0.0923 - val_loss: 0.0912\n",
            "Epoch 44/50\n",
            "469/469 [==============================] - 60s 128ms/step - loss: 0.0922 - val_loss: 0.0914\n",
            "Epoch 45/50\n",
            "469/469 [==============================] - 61s 131ms/step - loss: 0.0921 - val_loss: 0.0909\n",
            "Epoch 46/50\n",
            "469/469 [==============================] - 60s 128ms/step - loss: 0.0919 - val_loss: 0.0911\n",
            "Epoch 47/50\n",
            "469/469 [==============================] - 62s 132ms/step - loss: 0.0918 - val_loss: 0.0908\n",
            "Epoch 48/50\n",
            "469/469 [==============================] - 62s 133ms/step - loss: 0.0917 - val_loss: 0.0907\n",
            "Epoch 49/50\n",
            "469/469 [==============================] - 61s 131ms/step - loss: 0.0916 - val_loss: 0.0905\n",
            "Epoch 50/50\n",
            "469/469 [==============================] - 60s 127ms/step - loss: 0.0915 - val_loss: 0.0902\n"
          ]
        },
        {
          "output_type": "execute_result",
          "data": {
            "text/plain": [
              "<keras.src.callbacks.History at 0x7d8a490b5d80>"
            ]
          },
          "metadata": {},
          "execution_count": 23
        }
      ]
    },
    {
      "cell_type": "code",
      "source": [
        "decoded_imgs = autoencoder.predict(x_test)\n",
        "\n",
        "n = 10\n",
        "plt.figure(figsize=(20, 4))\n",
        "for i in range(1, n + 1):\n",
        "    # Display original\n",
        "    ax = plt.subplot(2, n, i)\n",
        "    plt.imshow(x_test[i].reshape(28, 28))\n",
        "    plt.gray()\n",
        "    ax.get_xaxis().set_visible(False)\n",
        "    ax.get_yaxis().set_visible(False)\n",
        "\n",
        "    # Display reconstruction\n",
        "    ax = plt.subplot(2, n, i + n)\n",
        "    plt.imshow(decoded_imgs[i].reshape(28, 28))\n",
        "    plt.gray()\n",
        "    ax.get_xaxis().set_visible(False)\n",
        "    ax.get_yaxis().set_visible(False)\n",
        "\n",
        "plt.show()"
      ],
      "metadata": {
        "colab": {
          "base_uri": "https://localhost:8080/",
          "height": 302
        },
        "id": "259m8V9RkfQP",
        "outputId": "6ffbcc6f-0bd6-4d55-f6a7-a33f9353673b"
      },
      "execution_count": 24,
      "outputs": [
        {
          "output_type": "stream",
          "name": "stdout",
          "text": [
            "313/313 [==============================] - 3s 10ms/step\n"
          ]
        },
        {
          "output_type": "display_data",
          "data": {
            "text/plain": [
              "<Figure size 2000x400 with 20 Axes>"
            ],
            "image/png": "[encoded data removed]"
          },
          "metadata": {}
        }
      ]
    },
    {
      "cell_type": "markdown",
      "source": [
        "# Application to image denoising"
      ],
      "metadata": {
        "id": "hMiz8iSnnWKB"
      }
    },
    {
      "cell_type": "code",
      "source": [
        "from keras.datasets import mnist\n",
        "import numpy as np\n",
        "\n",
        "(x_train, _), (x_test, _) = mnist.load_data()\n",
        "\n",
        "x_train = x_train.astype('float32') / 255.\n",
        "x_test = x_test.astype('float32') / 255.\n",
        "x_train = np.reshape(x_train, (len(x_train), 28, 28, 1))\n",
        "x_test = np.reshape(x_test, (len(x_test), 28, 28, 1))\n",
        "\n",
        "noise_factor = 0.5\n",
        "x_train_noisy = x_train + noise_factor * np.random.normal(loc=0.0, scale=1.0, size=x_train.shape)\n",
        "x_test_noisy = x_test + noise_factor * np.random.normal(loc=0.0, scale=1.0, size=x_test.shape)\n",
        "\n",
        "x_train_noisy = np.clip(x_train_noisy, 0., 1.)\n",
        "x_test_noisy = np.clip(x_test_noisy, 0., 1.)"
      ],
      "metadata": {
        "id": "GSqRnIdpkfR_"
      },
      "execution_count": 25,
      "outputs": []
    },
    {
      "cell_type": "code",
      "source": [
        "n = 10\n",
        "plt.figure(figsize=(20, 2))\n",
        "for i in range(1, n + 1):\n",
        "    ax = plt.subplot(1, n, i)\n",
        "    plt.imshow(x_test_noisy[i].reshape(28, 28))\n",
        "    plt.gray()\n",
        "    ax.get_xaxis().set_visible(False)\n",
        "    ax.get_yaxis().set_visible(False)\n",
        "plt.show()"
      ],
      "metadata": {
        "colab": {
          "base_uri": "https://localhost:8080/",
          "height": 144
        },
        "id": "o8U_szd3neRn",
        "outputId": "c7af4d35-85ec-4aab-acb6-cf4047ff7d22"
      },
      "execution_count": 26,
      "outputs": [
        {
          "output_type": "display_data",
          "data": {
            "text/plain": [
              "<Figure size 2000x200 with 10 Axes>"
            ],
            "image/png": "[encoded data removed]"
          },
          "metadata": {}
        }
      ]
    },
    {
      "cell_type": "code",
      "source": [
        "input_img = keras.Input(shape=(28, 28, 1))\n",
        "\n",
        "x = layers.Conv2D(32, (3, 3), activation='relu', padding='same')(input_img)\n",
        "x = layers.MaxPooling2D((2, 2), padding='same')(x)\n",
        "x = layers.Conv2D(32, (3, 3), activation='relu', padding='same')(x)\n",
        "encoded = layers.MaxPooling2D((2, 2), padding='same')(x)\n",
        "\n",
        "x = layers.Conv2D(32, (3, 3), activation='relu', padding='same')(encoded)\n",
        "x = layers.UpSampling2D((2, 2))(x)\n",
        "x = layers.Conv2D(32, (3, 3), activation='relu', padding='same')(x)\n",
        "x = layers.UpSampling2D((2, 2))(x)\n",
        "decoded = layers.Conv2D(1, (3, 3), activation='sigmoid', padding='same')(x)\n",
        "\n",
        "autoencoder = keras.Model(input_img, decoded)\n",
        "autoencoder.compile(optimizer='adam', loss='binary_crossentropy')"
      ],
      "metadata": {
        "id": "lRnj3srSneTp"
      },
      "execution_count": 27,
      "outputs": []
    },
    {
      "cell_type": "code",
      "source": [
        "autoencoder.fit(x_train_noisy, x_train,\n",
        "                epochs=100,\n",
        "                batch_size=128,\n",
        "                shuffle=True,\n",
        "                validation_data=(x_test_noisy, x_test),\n",
        "                callbacks=[TensorBoard(log_dir='/tmp/tb', histogram_freq=0, write_graph=False)])"
      ],
      "metadata": {
        "id": "BmFflKL6neWA"
      },
      "execution_count": null,
      "outputs": []
    },
    {
      "cell_type": "code",
      "source": [
        "n = 10\n",
        "plt.figure(figsize=(20, 2))\n",
        "\n",
        "for i in range(1, n + 1):\n",
        "    ax = plt.subplot(1, n, i)\n",
        "    plt.imshow(x_test_noisy[i].reshape(28, 28))\n",
        "    plt.gray()\n",
        "    ax.get_xaxis().set_visible(False)\n",
        "    ax.get_yaxis().set_visible(False)\n",
        "\n",
        "    ax = plt.subplot(2, n, i + n)\n",
        "    plt.imshow(decoded_imgs[i].reshape(28, 28))\n",
        "    plt.gray()\n",
        "    ax.get_xaxis().set_visible(False)\n",
        "    ax.get_yaxis().set_visible(False)\n",
        "\n",
        "plt.show()"
      ],
      "metadata": {
        "id": "XB4C0A0OneYU"
      },
      "execution_count": null,
      "outputs": []
    }
  ]
}