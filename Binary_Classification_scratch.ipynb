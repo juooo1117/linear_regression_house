{
 "cells": [
  {
   "cell_type": "markdown",
   "id": "43e535eb-7c19-4e35-bd07-e5bc1bd5ac04",
   "metadata": {},
   "source": [
    "# Binary Classification\n",
    "        \n",
    "**Target의 class** : 0 (malignant(악성종양)) &  1 (benign(양성종양))"
   ]
  },
  {
   "cell_type": "code",
   "execution_count": 1,
   "id": "80918e59-1f83-435a-bd80-cbcc50c3098b",
   "metadata": {},
   "outputs": [],
   "source": [
    "from sklearn.datasets import load_breast_cancer\n",
    "from sklearn.preprocessing import StandardScaler\n",
    "from sklearn.model_selection import train_test_split\n",
    "\n",
    "import torch\n",
    "import torch.nn as nn\n",
    "from torch.utils.data import TensorDataset, DataLoader\n",
    "\n",
    "import numpy as np\n",
    "import matplotlib.pyplot as plt"
   ]
  },
  {
   "cell_type": "code",
   "execution_count": 2,
   "id": "a3be2439-a7b2-4cf9-adc5-2729add903c0",
   "metadata": {},
   "outputs": [
    {
     "data": {
      "text/plain": [
       "'cpu'"
      ]
     },
     "execution_count": 2,
     "metadata": {},
     "output_type": "execute_result"
    }
   ],
   "source": [
    "device = 'cuda' if torch.cuda.is_available() else 'cpu'\n",
    "device"
   ]
  },
  {
   "cell_type": "markdown",
   "id": "e4d59f7a-6d8b-4576-a3ef-cdf7a9adc238",
   "metadata": {},
   "source": [
    "# Data Load & pre-processing"
   ]
  },
  {
   "cell_type": "code",
   "execution_count": 3,
   "id": "0cd9e299-0c0f-489d-bc5e-69aea7d9b404",
   "metadata": {},
   "outputs": [
    {
     "name": "stdout",
     "output_type": "stream",
     "text": [
      "<class 'numpy.ndarray'> <class 'numpy.ndarray'>\n",
      "(569, 30) (569,)\n",
      "[0 1]\n"
     ]
    }
   ],
   "source": [
    "# data load\n",
    "X, y = load_breast_cancer(return_X_y=True)\n",
    "\n",
    "print(type(X), type(y))\n",
    "print(X.shape, y.shape)\n",
    "print(np.unique(y))       # 분류할 category는 '0' or '1'"
   ]
  },
  {
   "cell_type": "code",
   "execution_count": 4,
   "id": "788ca3e5-93e9-4c77-807d-92d32ced7b18",
   "metadata": {},
   "outputs": [
    {
     "data": {
      "text/plain": [
       "(569, 1)"
      ]
     },
     "execution_count": 4,
     "metadata": {},
     "output_type": "execute_result"
    }
   ],
   "source": [
    "# y.shape을 2차원으로 변경((569, ) -> (569,1)) ==> 모델 출력 shape과 맞춰준다.\n",
    "# (batch_size, 1)\n",
    "y = y.reshape(-1, 1)\n",
    "y.shape"
   ]
  },
  {
   "cell_type": "code",
   "execution_count": 5,
   "id": "f15ef83b-e401-4fac-acc8-1838cceeba9d",
   "metadata": {},
   "outputs": [
    {
     "name": "stdout",
     "output_type": "stream",
     "text": [
      "(426, 30) (143, 30) (426, 1) (143, 1)\n"
     ]
    }
   ],
   "source": [
    "# train set, test set을 분리\n",
    "X_train, X_test, y_train, y_test = train_test_split(X, y, \n",
    "                                                    test_size=0.25, \n",
    "                                                    stratify=y)       # class별 비율을 맞춰서 나눠준다\n",
    "print(X_train.shape, X_test.shape, y_train.shape, y_test.shape)"
   ]
  },
  {
   "cell_type": "code",
   "execution_count": 6,
   "id": "a3a02152-4ffc-43b0-865c-158009bb7f49",
   "metadata": {},
   "outputs": [],
   "source": [
    "## pre-processing - feature scailing (column의 scale을 맞춘다)\n",
    "## standardScaler ==> 평균: 0, 표준편차: 1을 기준으로 맞춤\n",
    "\n",
    "scaler = StandardScaler()\n",
    "X_train_scaled = scaler.fit_transform(X_train)\n",
    "X_test_scaled = scaler.transform(X_test)        # trainset으로 fitting한 scaler를 이용해서 변환"
   ]
  },
  {
   "cell_type": "code",
   "execution_count": 7,
   "id": "5ef023ba-ac07-4cf8-a988-2489617d75d5",
   "metadata": {},
   "outputs": [],
   "source": [
    "# ndarray => tensor 변환 => dataset을 구성 => dataloader구성\n",
    "\n",
    "X_train_tensor = torch.tensor(X_train_scaled, dtype=torch.float32)\n",
    "X_test_tensor = torch.tensor(X_test_scaled, dtype=torch.float32)\n",
    "\n",
    "y_train_tensor = torch.tensor(y_train, dtype=torch.float32)\n",
    "y_test_tensor = torch.tensor(y_test, dtype=torch.float32)"
   ]
  },
  {
   "cell_type": "code",
   "execution_count": 8,
   "id": "e58255d9-b459-454d-b008-c49af6f2e37f",
   "metadata": {},
   "outputs": [],
   "source": [
    "# dataset 생성 ==> 메모리의 tensor를 dataset으로 생성 ==> TensorDataset\n",
    "trainset = TensorDataset(X_train_tensor, y_train_tensor)\n",
    "testset = TensorDataset(X_test_tensor, y_test_tensor)\n",
    "\n",
    "# dataloader 생성 \n",
    "train_loader = DataLoader(trainset, batch_size=200, shuffle=True, drop_last=True)\n",
    "test_loader = DataLoader(testset, batch_size=len(testset))"
   ]
  },
  {
   "cell_type": "markdown",
   "id": "01a9582f-e188-45bf-a3cf-1c5d7397b26f",
   "metadata": {},
   "source": [
    "# Model Class Define"
   ]
  },
  {
   "cell_type": "code",
   "execution_count": 9,
   "id": "01dbafe9-8421-481e-8103-0da24e4223ec",
   "metadata": {},
   "outputs": [],
   "source": [
    "class BCModel(nn.Module):\n",
    "\n",
    "    def __init__(self):\n",
    "        super().__init__()\n",
    "        self.lr1 = nn.Linear(30, 32)\n",
    "        self.lr2 = nn.Linear(32, 8)\n",
    "        self.lr3 = nn.Linear(8, 1)\n",
    "\n",
    "    def forward(self, X):\n",
    "        out = nn.ReLU()(self.lr1(X))\n",
    "        out = nn.ReLU()(self.lr2(out))\n",
    "\n",
    "        out = self.lr3(out)\n",
    "        out = nn.Sigmoid()(out)\n",
    "        return out"
   ]
  },
  {
   "cell_type": "code",
   "execution_count": 10,
   "id": "f246220d-454e-40e5-a5b6-237c70c6a437",
   "metadata": {},
   "outputs": [
    {
     "name": "stdout",
     "output_type": "stream",
     "text": [
      "torch.Size([5, 30])\n"
     ]
    },
    {
     "data": {
      "text/plain": [
       "tensor([[0.4360],\n",
       "        [0.4360],\n",
       "        [0.4360],\n",
       "        [0.4360],\n",
       "        [0.4360]], grad_fn=<SigmoidBackward0>)"
      ]
     },
     "execution_count": 10,
     "metadata": {},
     "output_type": "execute_result"
    }
   ],
   "source": [
    "model = BCModel()\n",
    "tmp_x = torch.ones(5, 30)\n",
    "print(tmp_x.shape)\n",
    "\n",
    "tmp_y = model(tmp_x)\n",
    "tmp_y   # 1(양성-positive)일 확률!"
   ]
  },
  {
   "cell_type": "code",
   "execution_count": null,
   "id": "5671e6a4-c6e9-4330-9a0d-07342e754a6f",
   "metadata": {},
   "outputs": [],
   "source": [
    "# tensor객체.type(타입을지정) ==> tensor data type 변환\n",
    "## bool type -> int type : False(0), True(1)로 바뀐다\n",
    "(tmp_y > 0.5).type(torch.int32)"
   ]
  },
  {
   "cell_type": "markdown",
   "id": "ca0ce8fe-0a64-4180-ac4b-c5a1d2401b3d",
   "metadata": {},
   "source": [
    "# Training"
   ]
  },
  {
   "cell_type": "code",
   "execution_count": 13,
   "id": "95d738d7-3975-46dd-8dfc-6bc79d4c567d",
   "metadata": {},
   "outputs": [],
   "source": [
    "import tqdm as notebook_tqdm"
   ]
  },
  {
   "cell_type": "code",
   "execution_count": 14,
   "id": "6d8275b5-6c9a-4a0a-98a6-56227e53aa57",
   "metadata": {},
   "outputs": [],
   "source": [
    "# hyper parameters define\n",
    "LR = 0.001\n",
    "N_EPOCH = 1000\n",
    "\n",
    "model = BCModel().to(device)        # model define\n",
    "loss_fn = nn.BCELoss()              # loss function - binary cross entropy loss\n",
    "optimizer = torch.optim.Adam(model.parameters(), lr=LR)   # optimizer"
   ]
  },
  {
   "cell_type": "code",
   "execution_count": 15,
   "id": "bc353eb9-2b9b-4ffe-8bc8-f6ca811b8d74",
   "metadata": {},
   "outputs": [
    {
     "name": "stdout",
     "output_type": "stream",
     "text": [
      "[ 1/ 1000] Train loss: 0.65712770819664, Val loss: 0.6490455269813538, Val accuracy: 0.6433566433566433\n",
      "===> 1 epoch에서 model save. 이전 score: inf, 현재 score: 0.6490455269813538\n",
      "[ 2/ 1000] Train loss: 0.6441428363323212, Val loss: 0.6364558339118958, Val accuracy: 0.6783216783216783\n",
      "===> 2 epoch에서 model save. 이전 score: 0.6490455269813538, 현재 score: 0.6364558339118958\n",
      "[ 3/ 1000] Train loss: 0.6371936202049255, Val loss: 0.6240170001983643, Val accuracy: 0.6993006993006993\n",
      "===> 3 epoch에서 model save. 이전 score: 0.6364558339118958, 현재 score: 0.6240170001983643\n",
      "[ 4/ 1000] Train loss: 0.6238155961036682, Val loss: 0.6119168400764465, Val accuracy: 0.7412587412587412\n",
      "===> 4 epoch에서 model save. 이전 score: 0.6240170001983643, 현재 score: 0.6119168400764465\n",
      "[ 5/ 1000] Train loss: 0.6123165786266327, Val loss: 0.6000284552574158, Val accuracy: 0.7762237762237763\n",
      "===> 5 epoch에서 model save. 이전 score: 0.6119168400764465, 현재 score: 0.6000284552574158\n",
      "[ 6/ 1000] Train loss: 0.6040196716785431, Val loss: 0.5882874727249146, Val accuracy: 0.8181818181818182\n",
      "===> 6 epoch에서 model save. 이전 score: 0.6000284552574158, 현재 score: 0.5882874727249146\n",
      "[ 7/ 1000] Train loss: 0.5927771925926208, Val loss: 0.5765160918235779, Val accuracy: 0.8531468531468531\n",
      "===> 7 epoch에서 model save. 이전 score: 0.5882874727249146, 현재 score: 0.5765160918235779\n",
      "[ 8/ 1000] Train loss: 0.5795935392379761, Val loss: 0.5645334720611572, Val accuracy: 0.8601398601398601\n",
      "===> 8 epoch에서 model save. 이전 score: 0.5765160918235779, 현재 score: 0.5645334720611572\n",
      "[ 9/ 1000] Train loss: 0.5713375210762024, Val loss: 0.5524948239326477, Val accuracy: 0.8601398601398601\n",
      "===> 9 epoch에서 model save. 이전 score: 0.5645334720611572, 현재 score: 0.5524948239326477\n",
      "[ 10/ 1000] Train loss: 0.5595727562904358, Val loss: 0.5400682687759399, Val accuracy: 0.8671328671328671\n",
      "===> 10 epoch에서 model save. 이전 score: 0.5524948239326477, 현재 score: 0.5400682687759399\n",
      "[ 11/ 1000] Train loss: 0.5470003485679626, Val loss: 0.5271183848381042, Val accuracy: 0.8671328671328671\n",
      "===> 11 epoch에서 model save. 이전 score: 0.5400682687759399, 현재 score: 0.5271183848381042\n",
      "[ 12/ 1000] Train loss: 0.5351366996765137, Val loss: 0.5138344764709473, Val accuracy: 0.8811188811188811\n",
      "===> 12 epoch에서 model save. 이전 score: 0.5271183848381042, 현재 score: 0.5138344764709473\n",
      "[ 13/ 1000] Train loss: 0.5219472050666809, Val loss: 0.500263512134552, Val accuracy: 0.8951048951048951\n",
      "===> 13 epoch에서 model save. 이전 score: 0.5138344764709473, 현재 score: 0.500263512134552\n",
      "[ 14/ 1000] Train loss: 0.5116139650344849, Val loss: 0.48633331060409546, Val accuracy: 0.9090909090909091\n",
      "===> 14 epoch에서 model save. 이전 score: 0.500263512134552, 현재 score: 0.48633331060409546\n",
      "[ 15/ 1000] Train loss: 0.49229371547698975, Val loss: 0.47204846143722534, Val accuracy: 0.916083916083916\n",
      "===> 15 epoch에서 model save. 이전 score: 0.48633331060409546, 현재 score: 0.47204846143722534\n",
      "[ 16/ 1000] Train loss: 0.4830034226179123, Val loss: 0.45743411779403687, Val accuracy: 0.9300699300699301\n",
      "===> 16 epoch에서 model save. 이전 score: 0.47204846143722534, 현재 score: 0.45743411779403687\n",
      "[ 17/ 1000] Train loss: 0.465296134352684, Val loss: 0.44255897402763367, Val accuracy: 0.9440559440559441\n",
      "===> 17 epoch에서 model save. 이전 score: 0.45743411779403687, 현재 score: 0.44255897402763367\n",
      "[ 18/ 1000] Train loss: 0.45090922713279724, Val loss: 0.42751258611679077, Val accuracy: 0.951048951048951\n",
      "===> 18 epoch에서 model save. 이전 score: 0.44255897402763367, 현재 score: 0.42751258611679077\n",
      "[ 19/ 1000] Train loss: 0.4377610385417938, Val loss: 0.41228029131889343, Val accuracy: 0.951048951048951\n",
      "===> 19 epoch에서 model save. 이전 score: 0.42751258611679077, 현재 score: 0.41228029131889343\n",
      "[ 20/ 1000] Train loss: 0.42869922518730164, Val loss: 0.39704430103302, Val accuracy: 0.951048951048951\n",
      "===> 20 epoch에서 model save. 이전 score: 0.41228029131889343, 현재 score: 0.39704430103302\n",
      "[ 21/ 1000] Train loss: 0.40997007489204407, Val loss: 0.38191160559654236, Val accuracy: 0.951048951048951\n",
      "===> 21 epoch에서 model save. 이전 score: 0.39704430103302, 현재 score: 0.38191160559654236\n",
      "[ 22/ 1000] Train loss: 0.3911050707101822, Val loss: 0.3669437766075134, Val accuracy: 0.951048951048951\n",
      "===> 22 epoch에서 model save. 이전 score: 0.38191160559654236, 현재 score: 0.3669437766075134\n",
      "[ 23/ 1000] Train loss: 0.381850928068161, Val loss: 0.35228031873703003, Val accuracy: 0.951048951048951\n",
      "===> 23 epoch에서 model save. 이전 score: 0.3669437766075134, 현재 score: 0.35228031873703003\n",
      "[ 24/ 1000] Train loss: 0.3625679910182953, Val loss: 0.33785873651504517, Val accuracy: 0.951048951048951\n",
      "===> 24 epoch에서 model save. 이전 score: 0.35228031873703003, 현재 score: 0.33785873651504517\n",
      "[ 25/ 1000] Train loss: 0.34846772253513336, Val loss: 0.3238859474658966, Val accuracy: 0.951048951048951\n",
      "===> 25 epoch에서 model save. 이전 score: 0.33785873651504517, 현재 score: 0.3238859474658966\n",
      "[ 26/ 1000] Train loss: 0.3395681381225586, Val loss: 0.3103668689727783, Val accuracy: 0.951048951048951\n",
      "===> 26 epoch에서 model save. 이전 score: 0.3238859474658966, 현재 score: 0.3103668689727783\n",
      "[ 27/ 1000] Train loss: 0.32497088611125946, Val loss: 0.29735660552978516, Val accuracy: 0.951048951048951\n",
      "===> 27 epoch에서 model save. 이전 score: 0.3103668689727783, 현재 score: 0.29735660552978516\n",
      "[ 28/ 1000] Train loss: 0.3106744885444641, Val loss: 0.28488975763320923, Val accuracy: 0.951048951048951\n",
      "===> 28 epoch에서 model save. 이전 score: 0.29735660552978516, 현재 score: 0.28488975763320923\n",
      "[ 29/ 1000] Train loss: 0.3018154799938202, Val loss: 0.2729777693748474, Val accuracy: 0.951048951048951\n",
      "===> 29 epoch에서 model save. 이전 score: 0.28488975763320923, 현재 score: 0.2729777693748474\n",
      "[ 30/ 1000] Train loss: 0.29034775495529175, Val loss: 0.26169198751449585, Val accuracy: 0.958041958041958\n",
      "===> 30 epoch에서 model save. 이전 score: 0.2729777693748474, 현재 score: 0.26169198751449585\n",
      "[ 31/ 1000] Train loss: 0.27784425020217896, Val loss: 0.2510702311992645, Val accuracy: 0.965034965034965\n",
      "===> 31 epoch에서 model save. 이전 score: 0.26169198751449585, 현재 score: 0.2510702311992645\n",
      "[ 32/ 1000] Train loss: 0.266173392534256, Val loss: 0.2410537600517273, Val accuracy: 0.965034965034965\n",
      "===> 32 epoch에서 model save. 이전 score: 0.2510702311992645, 현재 score: 0.2410537600517273\n",
      "[ 33/ 1000] Train loss: 0.25611190497875214, Val loss: 0.2316325455904007, Val accuracy: 0.965034965034965\n",
      "===> 33 epoch에서 model save. 이전 score: 0.2410537600517273, 현재 score: 0.2316325455904007\n",
      "[ 34/ 1000] Train loss: 0.2462354600429535, Val loss: 0.22281643748283386, Val accuracy: 0.965034965034965\n",
      "===> 34 epoch에서 model save. 이전 score: 0.2316325455904007, 현재 score: 0.22281643748283386\n",
      "[ 35/ 1000] Train loss: 0.24196218699216843, Val loss: 0.21454183757305145, Val accuracy: 0.965034965034965\n",
      "===> 35 epoch에서 model save. 이전 score: 0.22281643748283386, 현재 score: 0.21454183757305145\n",
      "[ 36/ 1000] Train loss: 0.23380501568317413, Val loss: 0.2067607194185257, Val accuracy: 0.965034965034965\n",
      "===> 36 epoch에서 model save. 이전 score: 0.21454183757305145, 현재 score: 0.2067607194185257\n",
      "[ 37/ 1000] Train loss: 0.21790823340415955, Val loss: 0.19945676624774933, Val accuracy: 0.965034965034965\n",
      "===> 37 epoch에서 model save. 이전 score: 0.2067607194185257, 현재 score: 0.19945676624774933\n",
      "[ 38/ 1000] Train loss: 0.21438279747962952, Val loss: 0.19266127049922943, Val accuracy: 0.965034965034965\n",
      "===> 38 epoch에서 model save. 이전 score: 0.19945676624774933, 현재 score: 0.19266127049922943\n",
      "[ 39/ 1000] Train loss: 0.20887429267168045, Val loss: 0.18633560836315155, Val accuracy: 0.958041958041958\n",
      "===> 39 epoch에서 model save. 이전 score: 0.19266127049922943, 현재 score: 0.18633560836315155\n",
      "[ 40/ 1000] Train loss: 0.19979626685380936, Val loss: 0.18045304715633392, Val accuracy: 0.958041958041958\n",
      "===> 40 epoch에서 model save. 이전 score: 0.18633560836315155, 현재 score: 0.18045304715633392\n",
      "[ 41/ 1000] Train loss: 0.19026074558496475, Val loss: 0.17495152354240417, Val accuracy: 0.958041958041958\n",
      "===> 41 epoch에서 model save. 이전 score: 0.18045304715633392, 현재 score: 0.17495152354240417\n",
      "[ 42/ 1000] Train loss: 0.1896957978606224, Val loss: 0.1698409467935562, Val accuracy: 0.958041958041958\n",
      "===> 42 epoch에서 model save. 이전 score: 0.17495152354240417, 현재 score: 0.1698409467935562\n",
      "[ 43/ 1000] Train loss: 0.1807417869567871, Val loss: 0.16509835422039032, Val accuracy: 0.958041958041958\n",
      "===> 43 epoch에서 model save. 이전 score: 0.1698409467935562, 현재 score: 0.16509835422039032\n",
      "[ 44/ 1000] Train loss: 0.17615894228219986, Val loss: 0.1606915146112442, Val accuracy: 0.958041958041958\n",
      "===> 44 epoch에서 model save. 이전 score: 0.16509835422039032, 현재 score: 0.1606915146112442\n",
      "[ 45/ 1000] Train loss: 0.16942352801561356, Val loss: 0.1566198468208313, Val accuracy: 0.958041958041958\n",
      "===> 45 epoch에서 model save. 이전 score: 0.1606915146112442, 현재 score: 0.1566198468208313\n",
      "[ 46/ 1000] Train loss: 0.16493473947048187, Val loss: 0.15288326144218445, Val accuracy: 0.958041958041958\n",
      "===> 46 epoch에서 model save. 이전 score: 0.1566198468208313, 현재 score: 0.15288326144218445\n",
      "[ 47/ 1000] Train loss: 0.15603262931108475, Val loss: 0.1494004875421524, Val accuracy: 0.958041958041958\n",
      "===> 47 epoch에서 model save. 이전 score: 0.15288326144218445, 현재 score: 0.1494004875421524\n",
      "[ 48/ 1000] Train loss: 0.1532389149069786, Val loss: 0.14614006876945496, Val accuracy: 0.958041958041958\n",
      "===> 48 epoch에서 model save. 이전 score: 0.1494004875421524, 현재 score: 0.14614006876945496\n",
      "[ 49/ 1000] Train loss: 0.14822902530431747, Val loss: 0.14313341677188873, Val accuracy: 0.958041958041958\n",
      "===> 49 epoch에서 model save. 이전 score: 0.14614006876945496, 현재 score: 0.14313341677188873\n",
      "[ 50/ 1000] Train loss: 0.1493736132979393, Val loss: 0.14028646051883698, Val accuracy: 0.958041958041958\n",
      "===> 50 epoch에서 model save. 이전 score: 0.14313341677188873, 현재 score: 0.14028646051883698\n",
      "[ 51/ 1000] Train loss: 0.14008615165948868, Val loss: 0.13766011595726013, Val accuracy: 0.958041958041958\n",
      "===> 51 epoch에서 model save. 이전 score: 0.14028646051883698, 현재 score: 0.13766011595726013\n",
      "[ 52/ 1000] Train loss: 0.13738155364990234, Val loss: 0.13522671163082123, Val accuracy: 0.958041958041958\n",
      "===> 52 epoch에서 model save. 이전 score: 0.13766011595726013, 현재 score: 0.13522671163082123\n",
      "[ 53/ 1000] Train loss: 0.13107236102223396, Val loss: 0.132979154586792, Val accuracy: 0.958041958041958\n",
      "===> 53 epoch에서 model save. 이전 score: 0.13522671163082123, 현재 score: 0.132979154586792\n",
      "[ 54/ 1000] Train loss: 0.1295561119914055, Val loss: 0.1308595836162567, Val accuracy: 0.958041958041958\n",
      "===> 54 epoch에서 model save. 이전 score: 0.132979154586792, 현재 score: 0.1308595836162567\n",
      "[ 55/ 1000] Train loss: 0.12424168363213539, Val loss: 0.1289171427488327, Val accuracy: 0.958041958041958\n",
      "===> 55 epoch에서 model save. 이전 score: 0.1308595836162567, 현재 score: 0.1289171427488327\n",
      "[ 56/ 1000] Train loss: 0.12695174291729927, Val loss: 0.1271323561668396, Val accuracy: 0.958041958041958\n",
      "===> 56 epoch에서 model save. 이전 score: 0.1289171427488327, 현재 score: 0.1271323561668396\n",
      "[ 57/ 1000] Train loss: 0.12088170647621155, Val loss: 0.12546013295650482, Val accuracy: 0.958041958041958\n",
      "===> 57 epoch에서 model save. 이전 score: 0.1271323561668396, 현재 score: 0.12546013295650482\n",
      "[ 58/ 1000] Train loss: 0.11636769399046898, Val loss: 0.12391805648803711, Val accuracy: 0.958041958041958\n",
      "===> 58 epoch에서 model save. 이전 score: 0.12546013295650482, 현재 score: 0.12391805648803711\n",
      "[ 59/ 1000] Train loss: 0.1108003742992878, Val loss: 0.12246096879243851, Val accuracy: 0.958041958041958\n",
      "===> 59 epoch에서 model save. 이전 score: 0.12391805648803711, 현재 score: 0.12246096879243851\n",
      "[ 60/ 1000] Train loss: 0.11419468000531197, Val loss: 0.12111066281795502, Val accuracy: 0.958041958041958\n",
      "===> 60 epoch에서 model save. 이전 score: 0.12246096879243851, 현재 score: 0.12111066281795502\n",
      "[ 61/ 1000] Train loss: 0.10331128537654877, Val loss: 0.11984512954950333, Val accuracy: 0.958041958041958\n",
      "===> 61 epoch에서 model save. 이전 score: 0.12111066281795502, 현재 score: 0.11984512954950333\n",
      "[ 62/ 1000] Train loss: 0.10940888896584511, Val loss: 0.11867786943912506, Val accuracy: 0.958041958041958\n",
      "===> 62 epoch에서 model save. 이전 score: 0.11984512954950333, 현재 score: 0.11867786943912506\n",
      "[ 63/ 1000] Train loss: 0.10472415387630463, Val loss: 0.11759265512228012, Val accuracy: 0.958041958041958\n",
      "===> 63 epoch에서 model save. 이전 score: 0.11867786943912506, 현재 score: 0.11759265512228012\n",
      "[ 64/ 1000] Train loss: 0.10103301703929901, Val loss: 0.11658916622400284, Val accuracy: 0.958041958041958\n",
      "===> 64 epoch에서 model save. 이전 score: 0.11759265512228012, 현재 score: 0.11658916622400284\n",
      "[ 65/ 1000] Train loss: 0.1033133789896965, Val loss: 0.11567503958940506, Val accuracy: 0.958041958041958\n",
      "===> 65 epoch에서 model save. 이전 score: 0.11658916622400284, 현재 score: 0.11567503958940506\n",
      "[ 66/ 1000] Train loss: 0.09965559095144272, Val loss: 0.11482328176498413, Val accuracy: 0.958041958041958\n",
      "===> 66 epoch에서 model save. 이전 score: 0.11567503958940506, 현재 score: 0.11482328176498413\n",
      "[ 67/ 1000] Train loss: 0.09684928134083748, Val loss: 0.11405591666698456, Val accuracy: 0.958041958041958\n",
      "===> 67 epoch에서 model save. 이전 score: 0.11482328176498413, 현재 score: 0.11405591666698456\n",
      "[ 68/ 1000] Train loss: 0.09598581865429878, Val loss: 0.11333250999450684, Val accuracy: 0.958041958041958\n",
      "===> 68 epoch에서 model save. 이전 score: 0.11405591666698456, 현재 score: 0.11333250999450684\n",
      "[ 69/ 1000] Train loss: 0.08813297003507614, Val loss: 0.1126592829823494, Val accuracy: 0.958041958041958\n",
      "===> 69 epoch에서 model save. 이전 score: 0.11333250999450684, 현재 score: 0.1126592829823494\n",
      "[ 70/ 1000] Train loss: 0.0878070779144764, Val loss: 0.11203382909297943, Val accuracy: 0.958041958041958\n",
      "===> 70 epoch에서 model save. 이전 score: 0.1126592829823494, 현재 score: 0.11203382909297943\n",
      "[ 71/ 1000] Train loss: 0.08829401060938835, Val loss: 0.11147882044315338, Val accuracy: 0.965034965034965\n",
      "===> 71 epoch에서 model save. 이전 score: 0.11203382909297943, 현재 score: 0.11147882044315338\n",
      "[ 72/ 1000] Train loss: 0.08646997809410095, Val loss: 0.11097757518291473, Val accuracy: 0.965034965034965\n",
      "===> 72 epoch에서 model save. 이전 score: 0.11147882044315338, 현재 score: 0.11097757518291473\n",
      "[ 73/ 1000] Train loss: 0.08639552444219589, Val loss: 0.1105799451470375, Val accuracy: 0.965034965034965\n",
      "===> 73 epoch에서 model save. 이전 score: 0.11097757518291473, 현재 score: 0.1105799451470375\n",
      "[ 74/ 1000] Train loss: 0.08626661822199821, Val loss: 0.11021579802036285, Val accuracy: 0.965034965034965\n",
      "===> 74 epoch에서 model save. 이전 score: 0.1105799451470375, 현재 score: 0.11021579802036285\n",
      "[ 75/ 1000] Train loss: 0.08271148055791855, Val loss: 0.10986772924661636, Val accuracy: 0.965034965034965\n",
      "===> 75 epoch에서 model save. 이전 score: 0.11021579802036285, 현재 score: 0.10986772924661636\n",
      "[ 76/ 1000] Train loss: 0.06915886327624321, Val loss: 0.10953730344772339, Val accuracy: 0.965034965034965\n",
      "===> 76 epoch에서 model save. 이전 score: 0.10986772924661636, 현재 score: 0.10953730344772339\n",
      "[ 77/ 1000] Train loss: 0.0778203122317791, Val loss: 0.10924924910068512, Val accuracy: 0.965034965034965\n",
      "===> 77 epoch에서 model save. 이전 score: 0.10953730344772339, 현재 score: 0.10924924910068512\n",
      "[ 78/ 1000] Train loss: 0.08072129264473915, Val loss: 0.10900215059518814, Val accuracy: 0.965034965034965\n",
      "===> 78 epoch에서 model save. 이전 score: 0.10924924910068512, 현재 score: 0.10900215059518814\n",
      "[ 79/ 1000] Train loss: 0.07508286833763123, Val loss: 0.10877526551485062, Val accuracy: 0.965034965034965\n",
      "===> 79 epoch에서 model save. 이전 score: 0.10900215059518814, 현재 score: 0.10877526551485062\n",
      "[ 80/ 1000] Train loss: 0.0764096137136221, Val loss: 0.10860389471054077, Val accuracy: 0.965034965034965\n",
      "===> 80 epoch에서 model save. 이전 score: 0.10877526551485062, 현재 score: 0.10860389471054077\n",
      "[ 81/ 1000] Train loss: 0.0745590329170227, Val loss: 0.10844960808753967, Val accuracy: 0.965034965034965\n",
      "===> 81 epoch에서 model save. 이전 score: 0.10860389471054077, 현재 score: 0.10844960808753967\n",
      "[ 82/ 1000] Train loss: 0.07545767724514008, Val loss: 0.10830632597208023, Val accuracy: 0.965034965034965\n",
      "===> 82 epoch에서 model save. 이전 score: 0.10844960808753967, 현재 score: 0.10830632597208023\n",
      "[ 83/ 1000] Train loss: 0.07072558999061584, Val loss: 0.10820326209068298, Val accuracy: 0.965034965034965\n",
      "===> 83 epoch에서 model save. 이전 score: 0.10830632597208023, 현재 score: 0.10820326209068298\n",
      "[ 84/ 1000] Train loss: 0.07107908464968204, Val loss: 0.10810157656669617, Val accuracy: 0.965034965034965\n",
      "===> 84 epoch에서 model save. 이전 score: 0.10820326209068298, 현재 score: 0.10810157656669617\n",
      "[ 85/ 1000] Train loss: 0.07058610394597054, Val loss: 0.10802508145570755, Val accuracy: 0.965034965034965\n",
      "===> 85 epoch에서 model save. 이전 score: 0.10810157656669617, 현재 score: 0.10802508145570755\n",
      "[ 86/ 1000] Train loss: 0.06885022483766079, Val loss: 0.10797393321990967, Val accuracy: 0.965034965034965\n",
      "===> 86 epoch에서 model save. 이전 score: 0.10802508145570755, 현재 score: 0.10797393321990967\n",
      "[ 87/ 1000] Train loss: 0.06609824672341347, Val loss: 0.10794414579868317, Val accuracy: 0.965034965034965\n",
      "===> 87 epoch에서 model save. 이전 score: 0.10797393321990967, 현재 score: 0.10794414579868317\n",
      "[ 88/ 1000] Train loss: 0.06809591874480247, Val loss: 0.10793093591928482, Val accuracy: 0.965034965034965\n",
      "===> 88 epoch에서 model save. 이전 score: 0.10794414579868317, 현재 score: 0.10793093591928482\n",
      "[ 89/ 1000] Train loss: 0.06704636476933956, Val loss: 0.10790935903787613, Val accuracy: 0.965034965034965\n",
      "===> 89 epoch에서 model save. 이전 score: 0.10793093591928482, 현재 score: 0.10790935903787613\n",
      "[ 90/ 1000] Train loss: 0.0647839866578579, Val loss: 0.10792418569326401, Val accuracy: 0.965034965034965\n",
      "[ 91/ 1000] Train loss: 0.06341072916984558, Val loss: 0.10790088027715683, Val accuracy: 0.965034965034965\n",
      "===> 91 epoch에서 model save. 이전 score: 0.10790935903787613, 현재 score: 0.10790088027715683\n",
      "[ 92/ 1000] Train loss: 0.063045809045434, Val loss: 0.10787159204483032, Val accuracy: 0.965034965034965\n",
      "===> 92 epoch에서 model save. 이전 score: 0.10790088027715683, 현재 score: 0.10787159204483032\n",
      "[ 93/ 1000] Train loss: 0.05945433862507343, Val loss: 0.10787525027990341, Val accuracy: 0.965034965034965\n",
      "[ 94/ 1000] Train loss: 0.060198694467544556, Val loss: 0.10787781327962875, Val accuracy: 0.965034965034965\n",
      "[ 95/ 1000] Train loss: 0.05851209908723831, Val loss: 0.1079099029302597, Val accuracy: 0.965034965034965\n",
      "[ 96/ 1000] Train loss: 0.0594301912933588, Val loss: 0.10795436799526215, Val accuracy: 0.965034965034965\n",
      "[ 97/ 1000] Train loss: 0.05661966651678085, Val loss: 0.10796389728784561, Val accuracy: 0.965034965034965\n",
      "[ 98/ 1000] Train loss: 0.05749043449759483, Val loss: 0.10797668248414993, Val accuracy: 0.965034965034965\n",
      "[ 99/ 1000] Train loss: 0.05400318466126919, Val loss: 0.1079808846116066, Val accuracy: 0.965034965034965\n",
      "[ 100/ 1000] Train loss: 0.05556618236005306, Val loss: 0.10799203813076019, Val accuracy: 0.965034965034965\n",
      "[ 101/ 1000] Train loss: 0.05360233597457409, Val loss: 0.10805545747280121, Val accuracy: 0.965034965034965\n",
      "[ 102/ 1000] Train loss: 0.054145392030477524, Val loss: 0.10812266170978546, Val accuracy: 0.965034965034965\n",
      "[ 103/ 1000] Train loss: 0.0488464068621397, Val loss: 0.10821862518787384, Val accuracy: 0.965034965034965\n",
      "[ 104/ 1000] Train loss: 0.052260639145970345, Val loss: 0.10832487046718597, Val accuracy: 0.965034965034965\n",
      "[ 105/ 1000] Train loss: 0.049954550340771675, Val loss: 0.10845260322093964, Val accuracy: 0.965034965034965\n",
      "[ 106/ 1000] Train loss: 0.050915639847517014, Val loss: 0.10860630124807358, Val accuracy: 0.972027972027972\n",
      "[ 107/ 1000] Train loss: 0.050181226804852486, Val loss: 0.10877841711044312, Val accuracy: 0.972027972027972\n",
      "[ 108/ 1000] Train loss: 0.049852754920721054, Val loss: 0.10894282162189484, Val accuracy: 0.972027972027972\n",
      "[ 109/ 1000] Train loss: 0.0486482810229063, Val loss: 0.10912136733531952, Val accuracy: 0.972027972027972\n",
      "[ 110/ 1000] Train loss: 0.0467924140393734, Val loss: 0.10929513722658157, Val accuracy: 0.972027972027972\n",
      "[ 111/ 1000] Train loss: 0.03710765950381756, Val loss: 0.10951628535985947, Val accuracy: 0.972027972027972\n",
      "[ 112/ 1000] Train loss: 0.04589430056512356, Val loss: 0.10976696014404297, Val accuracy: 0.972027972027972\n",
      "***** Early Stop: 112에서 종료! *****\n",
      "Time:  0.4917778968811035\n"
     ]
    }
   ],
   "source": [
    "import time\n",
    "train_loss_list, val_loss_list, val_accuracy_list = [], [], []\n",
    "\n",
    "best_score = torch.inf                           # 'valid loss' save\n",
    "save_bcmodel_path = 'models/bc_best_model.pth'   # 'best model' save\n",
    "\n",
    "patience = 20          # 성능이 개선될 때까지 20epoch 기다리겠다.\n",
    "trigger_cnt = 0        # 성능이 개선될 때까지 현재 몇 번째 기다렸는지. (성능이 개선될 때마다 0으로 초기화!)\n",
    "\n",
    "\n",
    "sec_s = time.time()\n",
    "for epoch in range(N_EPOCH):\n",
    "\n",
    "    ### Train ###\n",
    "    model.train()\n",
    "    train_loss = 0.0\n",
    "\n",
    "    for X_train, y_train in train_loader:\n",
    "        X_train, y_train = X_train.to(device), y_train.to(device)\n",
    "        \n",
    "        pred = model(X_train)\n",
    "        loss = loss_fn(pred, y_train)\n",
    "        \n",
    "        optimizer.zero_grad()\n",
    "        loss.backward()\n",
    "        optimizer.step()\n",
    "        \n",
    "        train_loss += loss.item()\n",
    "        \n",
    "    train_loss_list.append(train_loss / len(train_loader))\n",
    "\n",
    "    \n",
    "    ### Validation ###\n",
    "    model.eval()\n",
    "    val_loss = 0.0\n",
    "    val_acc = 0.0\n",
    "\n",
    "    with torch.no_grad():\n",
    "        for X_valid, y_valid in test_loader:\n",
    "            X_valid, y_valid = X_valid.to(device), y_valid.to(device)\n",
    "            \n",
    "            pred_val = model(X_valid)                              # 확률값 1개만 출력됨!\n",
    "            val_loss += loss_fn(pred_val, y_valid).item()\n",
    "            \n",
    "            pred_label = (pred_val > 0.5).type(torch.int32)        # pred_label 값은 0 or 1\n",
    "            val_acc += torch.sum(pred_label == y_valid).item()     # pred 값이 정답이랑 맞으면 val_acc로!\n",
    "   \n",
    "    \n",
    "    val_loss_list.append(val_loss / len(test_loader))\n",
    "    val_accuracy_list.append(val_acc / len(test_loader.dataset)) \n",
    "\n",
    "    print(f'[{epoch+1: 2d}/{N_EPOCH: 2d}] Train loss: {train_loss_list[-1]}, Val loss: {val_loss_list[-1]}, Val accuracy: {val_accuracy_list[-1]}')\n",
    "\n",
    "    \n",
    "    ### model save & early stopping decide\n",
    "    if val_loss < best_score: \n",
    "        print(f'===> {epoch+1} epoch에서 model save. 이전 score: {best_score}, 현재 score: {val_loss}')\n",
    "        torch.save(model, save_bcmodel_path)\n",
    "        \n",
    "        best_score = val_loss\n",
    "        trigger_cnt = 0\n",
    "        \n",
    "    else: \n",
    "        trigger_cnt += 1\n",
    "        if patience == trigger_cnt: \n",
    "            print(f'***** Early Stop: {epoch+1}에서 종료! *****')\n",
    "            break\n",
    "\n",
    "sec_e = time.time()\n",
    "print(\"Time: \", (sec_e - sec_s))"
   ]
  },
  {
   "cell_type": "code",
   "execution_count": 16,
   "id": "15c31335-b1ee-43b6-acdd-c5c4be092829",
   "metadata": {},
   "outputs": [
    {
     "data": {
      "image/png": "[encoded data removed]",
      "text/plain": [
       "<Figure size 640x480 with 1 Axes>"
      ]
     },
     "metadata": {},
     "output_type": "display_data"
    }
   ],
   "source": [
    "## train loss, valid loss 의 epoch 별 변화의 흐름 시각화.\n",
    "plt.plot(train_loss_list, label=\"Train Loss\")\n",
    "plt.plot(val_loss_list, label=\"Validation Loss\")\n",
    "plt.plot(val_accuracy_list, label=\"Accuracy\")\n",
    "\n",
    "plt.xlabel(\"EPOCH\")\n",
    "plt.ylabel(\"LOSS & Accuracy\")\n",
    "plt.legend()\n",
    "plt.show()"
   ]
  },
  {
   "cell_type": "markdown",
   "id": "e084d2fc-4e88-4c6b-b229-132f83ccab3f",
   "metadata": {},
   "source": [
    "# Model Evaluation"
   ]
  },
  {
   "cell_type": "code",
   "execution_count": 17,
   "id": "6fdb5df3-745b-4078-bf0e-d5ab12e6f826",
   "metadata": {},
   "outputs": [
    {
     "data": {
      "text/plain": [
       "torch.Size([143, 30])"
      ]
     },
     "execution_count": 17,
     "metadata": {},
     "output_type": "execute_result"
    }
   ],
   "source": [
    "best_model = torch.load(save_bcmodel_path)\n",
    "X_test_tensor.shape"
   ]
  },
  {
   "cell_type": "code",
   "execution_count": 18,
   "id": "8afd2850-2410-447f-b5bf-ba5e5dadd1cd",
   "metadata": {},
   "outputs": [
    {
     "data": {
      "text/plain": [
       "torch.Size([143, 1])"
      ]
     },
     "execution_count": 18,
     "metadata": {},
     "output_type": "execute_result"
    }
   ],
   "source": [
    "pred_new = best_model(X_test_tensor)\n",
    "pred_new.shape      # 각 1개의 예측값만 가지게 됨"
   ]
  },
  {
   "cell_type": "code",
   "execution_count": 19,
   "id": "12afc052-b2f8-4010-bfef-f830ba4b09ac",
   "metadata": {},
   "outputs": [
    {
     "data": {
      "text/plain": [
       "tensor([[0.9945],\n",
       "        [0.8484],\n",
       "        [0.5526],\n",
       "        [0.0433],\n",
       "        [0.9997]], grad_fn=<SliceBackward0>)"
      ]
     },
     "execution_count": 19,
     "metadata": {},
     "output_type": "execute_result"
    }
   ],
   "source": [
    "pred_new[:5]    # positive(1)일 확률"
   ]
  },
  {
   "cell_type": "code",
   "execution_count": 20,
   "id": "4daa6016-8589-4f90-ab8f-d5a361fe41d8",
   "metadata": {},
   "outputs": [
    {
     "data": {
      "text/plain": [
       "tensor([[1],\n",
       "        [1],\n",
       "        [1],\n",
       "        [0],\n",
       "        [1],\n",
       "        [1],\n",
       "        [1],\n",
       "        [1],\n",
       "        [0],\n",
       "        [1]], dtype=torch.int32)"
      ]
     },
     "execution_count": 20,
     "metadata": {},
     "output_type": "execute_result"
    }
   ],
   "source": [
    "# probability -> class index로 변환\n",
    "pred_new_label = (pred_new > 0.5).type(torch.int32)\n",
    "pred_new_label[:10]"
   ]
  },
  {
   "cell_type": "code",
   "execution_count": 21,
   "id": "931ea57f-8504-4ac9-831d-81d69f34938f",
   "metadata": {},
   "outputs": [
    {
     "data": {
      "text/plain": [
       "tensor([[1.],\n",
       "        [1.],\n",
       "        [1.],\n",
       "        [0.],\n",
       "        [1.],\n",
       "        [1.],\n",
       "        [1.],\n",
       "        [1.],\n",
       "        [0.],\n",
       "        [1.]])"
      ]
     },
     "execution_count": 21,
     "metadata": {},
     "output_type": "execute_result"
    }
   ],
   "source": [
    "# pred_new_label 과 같은 index의 값이 동일하면 예측이 맞은 것! (이 경우, 모든 예측이 다 맞음)\n",
    "y_test_tensor[:10]"
   ]
  }
 ],
 "metadata": {
  "kernelspec": {
   "display_name": "Python 3 (ipykernel)",
   "language": "python",
   "name": "python3"
  },
  "language_info": {
   "codemirror_mode": {
    "name": "ipython",
    "version": 3
   },
   "file_extension": ".py",
   "mimetype": "text/x-python",
   "name": "python",
   "nbconvert_exporter": "python",
   "pygments_lexer": "ipython3",
   "version": "3.11.6"
  }
 },
 "nbformat": 4,
 "nbformat_minor": 5
}
